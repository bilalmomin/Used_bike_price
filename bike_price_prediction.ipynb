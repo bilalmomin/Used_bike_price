{
 "cells": [
  {
   "cell_type": "markdown",
   "metadata": {},
   "source": [
    "#                                  Used Bike Price Prediction"
   ]
  },
  {
   "cell_type": "code",
   "execution_count": 704,
   "metadata": {},
   "outputs": [],
   "source": [
    "#Importing the required libraries\n",
    "import pandas as pd\n",
    "import numpy as np\n",
    "import seaborn as sns\n",
    "import matplotlib.pyplot as plt"
   ]
  },
  {
   "cell_type": "code",
   "execution_count": 705,
   "metadata": {},
   "outputs": [],
   "source": [
    "#Reading dataset\n",
    "data=pd.read_csv('bike_data.csv')"
   ]
  },
  {
   "cell_type": "code",
   "execution_count": 706,
   "metadata": {},
   "outputs": [
    {
     "data": {
      "text/html": [
       "<div>\n",
       "<style scoped>\n",
       "    .dataframe tbody tr th:only-of-type {\n",
       "        vertical-align: middle;\n",
       "    }\n",
       "\n",
       "    .dataframe tbody tr th {\n",
       "        vertical-align: top;\n",
       "    }\n",
       "\n",
       "    .dataframe thead th {\n",
       "        text-align: right;\n",
       "    }\n",
       "</style>\n",
       "<table border=\"1\" class=\"dataframe\">\n",
       "  <thead>\n",
       "    <tr style=\"text-align: right;\">\n",
       "      <th></th>\n",
       "      <th>Unnamed: 0</th>\n",
       "      <th>Name</th>\n",
       "      <th>Price</th>\n",
       "      <th>Location</th>\n",
       "      <th>Running</th>\n",
       "      <th>Owner</th>\n",
       "    </tr>\n",
       "  </thead>\n",
       "  <tbody>\n",
       "    <tr>\n",
       "      <th>0</th>\n",
       "      <td>0</td>\n",
       "      <td>TVS Star City Plus Dual Tone 110cc 2018</td>\n",
       "      <td>35,000</td>\n",
       "      <td>Ahmedabad</td>\n",
       "      <td>17,654 Km</td>\n",
       "      <td>First Owner</td>\n",
       "    </tr>\n",
       "    <tr>\n",
       "      <th>1</th>\n",
       "      <td>1</td>\n",
       "      <td>Royal Enfield Classic 350cc 2017</td>\n",
       "      <td>1,19,900</td>\n",
       "      <td>Delhi</td>\n",
       "      <td>11,000 Km</td>\n",
       "      <td>First Owner</td>\n",
       "    </tr>\n",
       "    <tr>\n",
       "      <th>2</th>\n",
       "      <td>2</td>\n",
       "      <td>Triumph Daytona 675R 2013</td>\n",
       "      <td>6,00,000</td>\n",
       "      <td>Delhi</td>\n",
       "      <td>110 Km</td>\n",
       "      <td>First Owner</td>\n",
       "    </tr>\n",
       "    <tr>\n",
       "      <th>3</th>\n",
       "      <td>3</td>\n",
       "      <td>TVS Apache RTR 180cc 2017</td>\n",
       "      <td>65,000</td>\n",
       "      <td>Bangalore</td>\n",
       "      <td>16,329 Km</td>\n",
       "      <td>First Owner</td>\n",
       "    </tr>\n",
       "    <tr>\n",
       "      <th>4</th>\n",
       "      <td>4</td>\n",
       "      <td>Yamaha FZ S V 2.0 150cc-Ltd. Edition 2018</td>\n",
       "      <td>80,000</td>\n",
       "      <td>Bangalore</td>\n",
       "      <td>10,000 Km</td>\n",
       "      <td>First Owner</td>\n",
       "    </tr>\n",
       "  </tbody>\n",
       "</table>\n",
       "</div>"
      ],
      "text/plain": [
       "   Unnamed: 0                                       Name     Price   Location  \\\n",
       "0           0    TVS Star City Plus Dual Tone 110cc 2018    35,000  Ahmedabad   \n",
       "1           1           Royal Enfield Classic 350cc 2017  1,19,900      Delhi   \n",
       "2           2                  Triumph Daytona 675R 2013  6,00,000      Delhi   \n",
       "3           3                  TVS Apache RTR 180cc 2017    65,000  Bangalore   \n",
       "4           4  Yamaha FZ S V 2.0 150cc-Ltd. Edition 2018    80,000  Bangalore   \n",
       "\n",
       "     Running        Owner  \n",
       "0  17,654 Km  First Owner  \n",
       "1  11,000 Km  First Owner  \n",
       "2     110 Km  First Owner  \n",
       "3  16,329 Km  First Owner  \n",
       "4  10,000 Km  First Owner  "
      ]
     },
     "execution_count": 706,
     "metadata": {},
     "output_type": "execute_result"
    }
   ],
   "source": [
    "data.head()"
   ]
  },
  {
   "cell_type": "code",
   "execution_count": 707,
   "metadata": {},
   "outputs": [
    {
     "data": {
      "text/plain": [
       "array(['First Owner', 'Second Owner', nan, 'Third Owner',\n",
       "       'Fourth Owner Or More'], dtype=object)"
      ]
     },
     "execution_count": 707,
     "metadata": {},
     "output_type": "execute_result"
    }
   ],
   "source": [
    "data['Owner'].unique()"
   ]
  },
  {
   "cell_type": "code",
   "execution_count": 708,
   "metadata": {},
   "outputs": [],
   "source": [
    "#Dataframe has one extra column \"Unnamed: 0\" so dropping that column\n",
    "data.drop('Unnamed: 0',axis=1,inplace=True)"
   ]
  },
  {
   "cell_type": "code",
   "execution_count": 709,
   "metadata": {},
   "outputs": [
    {
     "name": "stdout",
     "output_type": "stream",
     "text": [
      "(34500, 5)\n"
     ]
    }
   ],
   "source": [
    "print(data.shape)"
   ]
  },
  {
   "cell_type": "code",
   "execution_count": 710,
   "metadata": {},
   "outputs": [
    {
     "name": "stdout",
     "output_type": "stream",
     "text": [
      "<class 'pandas.core.frame.DataFrame'>\n",
      "RangeIndex: 34500 entries, 0 to 34499\n",
      "Data columns (total 5 columns):\n",
      " #   Column    Non-Null Count  Dtype \n",
      "---  ------    --------------  ----- \n",
      " 0   Name      34500 non-null  object\n",
      " 1   Price     34500 non-null  object\n",
      " 2   Location  34492 non-null  object\n",
      " 3   Running   34473 non-null  object\n",
      " 4   Owner     32974 non-null  object\n",
      "dtypes: object(5)\n",
      "memory usage: 1.3+ MB\n"
     ]
    }
   ],
   "source": [
    "data.info()\n",
    "#As we can see that the feature 'Price' and 'Running' are also of type object so it is needed to be converted to int"
   ]
  },
  {
   "cell_type": "code",
   "execution_count": 711,
   "metadata": {},
   "outputs": [
    {
     "data": {
      "text/plain": [
       "Name           0\n",
       "Price          0\n",
       "Location       8\n",
       "Running       27\n",
       "Owner       1526\n",
       "dtype: int64"
      ]
     },
     "execution_count": 711,
     "metadata": {},
     "output_type": "execute_result"
    }
   ],
   "source": [
    "#Checking for the missing values\n",
    "#Although I have collected data by myself there is a possilbilty that some data will be missing if the data itself is missing on website\n",
    "data.isnull().sum()"
   ]
  },
  {
   "cell_type": "code",
   "execution_count": 712,
   "metadata": {},
   "outputs": [
    {
     "data": {
      "text/plain": [
       "First Owner             30262\n",
       "Second Owner             2586\n",
       "Third Owner               110\n",
       "Fourth Owner Or More       16\n",
       "Name: Owner, dtype: int64"
      ]
     },
     "execution_count": 712,
     "metadata": {},
     "output_type": "execute_result"
    }
   ],
   "source": [
    "data['Owner'].value_counts()"
   ]
  },
  {
   "cell_type": "code",
   "execution_count": 713,
   "metadata": {},
   "outputs": [],
   "source": [
    "#Filling the nan values as 'Second Owner'\n",
    "#You can fill it with some other value or can drop it\n",
    "data['Owner']=data['Owner'].fillna('First Owner')"
   ]
  },
  {
   "cell_type": "code",
   "execution_count": 714,
   "metadata": {},
   "outputs": [],
   "source": [
    "#Now the feature 'Location' and 'Running' has vey few missing values so we can drop them\n",
    "data.dropna(inplace=True)"
   ]
  },
  {
   "cell_type": "code",
   "execution_count": 715,
   "metadata": {},
   "outputs": [],
   "source": [
    "#Since the entries in the 'Running' column contains the unit Km it cannot be converted to int, therefore\n",
    "#removing the unit and renaming the column as 'Running(Km)'\n",
    "data['Running']=data['Running'].apply(lambda x: x.split(' ')[0])\n"
   ]
  },
  {
   "cell_type": "code",
   "execution_count": 716,
   "metadata": {},
   "outputs": [],
   "source": [
    "#The the ',' symbol from price and running column\n",
    "data['Price']=data['Price'].apply(lambda x: x.replace(',',''))\n",
    "data['Running']=data['Running'].apply(lambda x: x.replace(',',''))"
   ]
  },
  {
   "cell_type": "code",
   "execution_count": 717,
   "metadata": {},
   "outputs": [
    {
     "data": {
      "text/html": [
       "<div>\n",
       "<style scoped>\n",
       "    .dataframe tbody tr th:only-of-type {\n",
       "        vertical-align: middle;\n",
       "    }\n",
       "\n",
       "    .dataframe tbody tr th {\n",
       "        vertical-align: top;\n",
       "    }\n",
       "\n",
       "    .dataframe thead th {\n",
       "        text-align: right;\n",
       "    }\n",
       "</style>\n",
       "<table border=\"1\" class=\"dataframe\">\n",
       "  <thead>\n",
       "    <tr style=\"text-align: right;\">\n",
       "      <th></th>\n",
       "      <th>Name</th>\n",
       "      <th>Price</th>\n",
       "      <th>Location</th>\n",
       "      <th>Running</th>\n",
       "      <th>Owner</th>\n",
       "    </tr>\n",
       "  </thead>\n",
       "  <tbody>\n",
       "    <tr>\n",
       "      <th>0</th>\n",
       "      <td>TVS Star City Plus Dual Tone 110cc 2018</td>\n",
       "      <td>35000</td>\n",
       "      <td>Ahmedabad</td>\n",
       "      <td>17654</td>\n",
       "      <td>First Owner</td>\n",
       "    </tr>\n",
       "    <tr>\n",
       "      <th>1</th>\n",
       "      <td>Royal Enfield Classic 350cc 2017</td>\n",
       "      <td>119900</td>\n",
       "      <td>Delhi</td>\n",
       "      <td>11000</td>\n",
       "      <td>First Owner</td>\n",
       "    </tr>\n",
       "    <tr>\n",
       "      <th>2</th>\n",
       "      <td>Triumph Daytona 675R 2013</td>\n",
       "      <td>600000</td>\n",
       "      <td>Delhi</td>\n",
       "      <td>110</td>\n",
       "      <td>First Owner</td>\n",
       "    </tr>\n",
       "    <tr>\n",
       "      <th>3</th>\n",
       "      <td>TVS Apache RTR 180cc 2017</td>\n",
       "      <td>65000</td>\n",
       "      <td>Bangalore</td>\n",
       "      <td>16329</td>\n",
       "      <td>First Owner</td>\n",
       "    </tr>\n",
       "    <tr>\n",
       "      <th>4</th>\n",
       "      <td>Yamaha FZ S V 2.0 150cc-Ltd. Edition 2018</td>\n",
       "      <td>80000</td>\n",
       "      <td>Bangalore</td>\n",
       "      <td>10000</td>\n",
       "      <td>First Owner</td>\n",
       "    </tr>\n",
       "  </tbody>\n",
       "</table>\n",
       "</div>"
      ],
      "text/plain": [
       "                                        Name   Price   Location Running  \\\n",
       "0    TVS Star City Plus Dual Tone 110cc 2018   35000  Ahmedabad   17654   \n",
       "1           Royal Enfield Classic 350cc 2017  119900      Delhi   11000   \n",
       "2                  Triumph Daytona 675R 2013  600000      Delhi     110   \n",
       "3                  TVS Apache RTR 180cc 2017   65000  Bangalore   16329   \n",
       "4  Yamaha FZ S V 2.0 150cc-Ltd. Edition 2018   80000  Bangalore   10000   \n",
       "\n",
       "         Owner  \n",
       "0  First Owner  \n",
       "1  First Owner  \n",
       "2  First Owner  \n",
       "3  First Owner  \n",
       "4  First Owner  "
      ]
     },
     "execution_count": 717,
     "metadata": {},
     "output_type": "execute_result"
    }
   ],
   "source": [
    "pd.set_option('display.max_rows',None)\n",
    "data.head()"
   ]
  },
  {
   "cell_type": "code",
   "execution_count": 718,
   "metadata": {},
   "outputs": [],
   "source": [
    "#While going through the dataset I observed that some entries in 'Price' column has multiple and a '\\n' symbol\n",
    "#So splitting the entry inorder to get single value\n",
    "data['Price']=data['Price'].apply(lambda x: x.split(\"\\n\")[0])"
   ]
  },
  {
   "cell_type": "code",
   "execution_count": 719,
   "metadata": {},
   "outputs": [],
   "source": [
    "#Converting Price feature to int type\n",
    "data['Price']=pd.to_numeric(data['Price'])"
   ]
  },
  {
   "cell_type": "code",
   "execution_count": 720,
   "metadata": {},
   "outputs": [],
   "source": [
    "#Converting Running(Km) feature to int type\n",
    "data['Running']=pd.to_numeric(data['Running'])"
   ]
  },
  {
   "cell_type": "code",
   "execution_count": 721,
   "metadata": {},
   "outputs": [
    {
     "name": "stdout",
     "output_type": "stream",
     "text": [
      "<class 'pandas.core.frame.DataFrame'>\n",
      "Int64Index: 34465 entries, 0 to 34499\n",
      "Data columns (total 5 columns):\n",
      " #   Column    Non-Null Count  Dtype \n",
      "---  ------    --------------  ----- \n",
      " 0   Name      34465 non-null  object\n",
      " 1   Price     34465 non-null  int64 \n",
      " 2   Location  34465 non-null  object\n",
      " 3   Running   34465 non-null  int64 \n",
      " 4   Owner     34465 non-null  object\n",
      "dtypes: int64(2), object(3)\n",
      "memory usage: 1.6+ MB\n"
     ]
    }
   ],
   "source": [
    "data.info()"
   ]
  },
  {
   "cell_type": "markdown",
   "metadata": {},
   "source": [
    "#### Creating new features from existing features\n",
    "\n",
    "Here we will be using regular expression method on 'Name' column to obtain the cubic capacity of bike and the year in which the bike was bought. To learn more about regular expression you see visit Corey Schafer's channel(https://www.youtube.com/watch?v=K8L6KVGG-7o)."
   ]
  },
  {
   "cell_type": "code",
   "execution_count": 722,
   "metadata": {},
   "outputs": [],
   "source": [
    "#Deriving Cubic Capacity from 'Name' column\n",
    "data['Cubic_Capacity']=data.Name.str.extract(r'(\\d\\d\\d)',expand=False)"
   ]
  },
  {
   "cell_type": "code",
   "execution_count": 723,
   "metadata": {},
   "outputs": [
    {
     "data": {
      "text/plain": [
       "array(['110', '350', '675', '180', '150', '160', '100', '500', '250',\n",
       "       '200', '125', '302', '201', '220', '390', '600', '900', '650',\n",
       "       '223', '410', '135', '765', '300', '129', '750', '400', '130',\n",
       "       '821', '119', '883', '959', '295', '320', '310', '899', '535',\n",
       "       '113', '120', '105', '800', '126', '170', '175', '797', '796',\n",
       "       '149', '202', '109', '502', '107'], dtype=object)"
      ]
     },
     "execution_count": 723,
     "metadata": {},
     "output_type": "execute_result"
    }
   ],
   "source": [
    "#Checking all the unique values\n",
    "data['Cubic_Capacity'].unique()"
   ]
  },
  {
   "cell_type": "code",
   "execution_count": 724,
   "metadata": {},
   "outputs": [],
   "source": [
    "#Converting into int type\n",
    "data['Cubic_Capacity']=pd.to_numeric(data['Cubic_Capacity'])"
   ]
  },
  {
   "cell_type": "code",
   "execution_count": 725,
   "metadata": {},
   "outputs": [
    {
     "data": {
      "text/plain": [
       "(34465,)"
      ]
     },
     "execution_count": 725,
     "metadata": {},
     "output_type": "execute_result"
    }
   ],
   "source": [
    "data['Cubic_Capacity'].shape"
   ]
  },
  {
   "cell_type": "code",
   "execution_count": 726,
   "metadata": {},
   "outputs": [
    {
     "data": {
      "text/html": [
       "<div>\n",
       "<style scoped>\n",
       "    .dataframe tbody tr th:only-of-type {\n",
       "        vertical-align: middle;\n",
       "    }\n",
       "\n",
       "    .dataframe tbody tr th {\n",
       "        vertical-align: top;\n",
       "    }\n",
       "\n",
       "    .dataframe thead th {\n",
       "        text-align: right;\n",
       "    }\n",
       "</style>\n",
       "<table border=\"1\" class=\"dataframe\">\n",
       "  <thead>\n",
       "    <tr style=\"text-align: right;\">\n",
       "      <th></th>\n",
       "      <th>Name</th>\n",
       "      <th>Price</th>\n",
       "      <th>Location</th>\n",
       "      <th>Running</th>\n",
       "      <th>Owner</th>\n",
       "      <th>Cubic_Capacity</th>\n",
       "    </tr>\n",
       "  </thead>\n",
       "  <tbody>\n",
       "    <tr>\n",
       "      <th>0</th>\n",
       "      <td>TVS Star City Plus Dual Tone 110cc 2018</td>\n",
       "      <td>35000</td>\n",
       "      <td>Ahmedabad</td>\n",
       "      <td>17654</td>\n",
       "      <td>First Owner</td>\n",
       "      <td>110</td>\n",
       "    </tr>\n",
       "    <tr>\n",
       "      <th>1</th>\n",
       "      <td>Royal Enfield Classic 350cc 2017</td>\n",
       "      <td>119900</td>\n",
       "      <td>Delhi</td>\n",
       "      <td>11000</td>\n",
       "      <td>First Owner</td>\n",
       "      <td>350</td>\n",
       "    </tr>\n",
       "    <tr>\n",
       "      <th>2</th>\n",
       "      <td>Triumph Daytona 675R 2013</td>\n",
       "      <td>600000</td>\n",
       "      <td>Delhi</td>\n",
       "      <td>110</td>\n",
       "      <td>First Owner</td>\n",
       "      <td>675</td>\n",
       "    </tr>\n",
       "    <tr>\n",
       "      <th>3</th>\n",
       "      <td>TVS Apache RTR 180cc 2017</td>\n",
       "      <td>65000</td>\n",
       "      <td>Bangalore</td>\n",
       "      <td>16329</td>\n",
       "      <td>First Owner</td>\n",
       "      <td>180</td>\n",
       "    </tr>\n",
       "    <tr>\n",
       "      <th>4</th>\n",
       "      <td>Yamaha FZ S V 2.0 150cc-Ltd. Edition 2018</td>\n",
       "      <td>80000</td>\n",
       "      <td>Bangalore</td>\n",
       "      <td>10000</td>\n",
       "      <td>First Owner</td>\n",
       "      <td>150</td>\n",
       "    </tr>\n",
       "  </tbody>\n",
       "</table>\n",
       "</div>"
      ],
      "text/plain": [
       "                                        Name   Price   Location  Running  \\\n",
       "0    TVS Star City Plus Dual Tone 110cc 2018   35000  Ahmedabad    17654   \n",
       "1           Royal Enfield Classic 350cc 2017  119900      Delhi    11000   \n",
       "2                  Triumph Daytona 675R 2013  600000      Delhi      110   \n",
       "3                  TVS Apache RTR 180cc 2017   65000  Bangalore    16329   \n",
       "4  Yamaha FZ S V 2.0 150cc-Ltd. Edition 2018   80000  Bangalore    10000   \n",
       "\n",
       "         Owner  Cubic_Capacity  \n",
       "0  First Owner             110  \n",
       "1  First Owner             350  \n",
       "2  First Owner             675  \n",
       "3  First Owner             180  \n",
       "4  First Owner             150  "
      ]
     },
     "execution_count": 726,
     "metadata": {},
     "output_type": "execute_result"
    }
   ],
   "source": [
    "data.head()"
   ]
  },
  {
   "cell_type": "code",
   "execution_count": 727,
   "metadata": {},
   "outputs": [],
   "source": [
    "#Deriving year from 'Name' column\n",
    "data['Year']=data.Name.str.extract(r'(\\d\\d\\d\\d)',expand=False)"
   ]
  },
  {
   "cell_type": "code",
   "execution_count": 728,
   "metadata": {},
   "outputs": [],
   "source": [
    "#Converting into int type\n",
    "data['Year']=pd.to_numeric(data['Year'])"
   ]
  },
  {
   "cell_type": "code",
   "execution_count": 729,
   "metadata": {},
   "outputs": [
    {
     "data": {
      "text/plain": [
       "(34465,)"
      ]
     },
     "execution_count": 729,
     "metadata": {},
     "output_type": "execute_result"
    }
   ],
   "source": [
    "data['Year'].shape"
   ]
  },
  {
   "cell_type": "code",
   "execution_count": 730,
   "metadata": {},
   "outputs": [
    {
     "data": {
      "text/html": [
       "<div>\n",
       "<style scoped>\n",
       "    .dataframe tbody tr th:only-of-type {\n",
       "        vertical-align: middle;\n",
       "    }\n",
       "\n",
       "    .dataframe tbody tr th {\n",
       "        vertical-align: top;\n",
       "    }\n",
       "\n",
       "    .dataframe thead th {\n",
       "        text-align: right;\n",
       "    }\n",
       "</style>\n",
       "<table border=\"1\" class=\"dataframe\">\n",
       "  <thead>\n",
       "    <tr style=\"text-align: right;\">\n",
       "      <th></th>\n",
       "      <th>Name</th>\n",
       "      <th>Price</th>\n",
       "      <th>Location</th>\n",
       "      <th>Running</th>\n",
       "      <th>Owner</th>\n",
       "      <th>Cubic_Capacity</th>\n",
       "      <th>Year</th>\n",
       "    </tr>\n",
       "  </thead>\n",
       "  <tbody>\n",
       "    <tr>\n",
       "      <th>0</th>\n",
       "      <td>TVS Star City Plus Dual Tone 110cc 2018</td>\n",
       "      <td>35000</td>\n",
       "      <td>Ahmedabad</td>\n",
       "      <td>17654</td>\n",
       "      <td>First Owner</td>\n",
       "      <td>110</td>\n",
       "      <td>2018</td>\n",
       "    </tr>\n",
       "    <tr>\n",
       "      <th>1</th>\n",
       "      <td>Royal Enfield Classic 350cc 2017</td>\n",
       "      <td>119900</td>\n",
       "      <td>Delhi</td>\n",
       "      <td>11000</td>\n",
       "      <td>First Owner</td>\n",
       "      <td>350</td>\n",
       "      <td>2017</td>\n",
       "    </tr>\n",
       "    <tr>\n",
       "      <th>2</th>\n",
       "      <td>Triumph Daytona 675R 2013</td>\n",
       "      <td>600000</td>\n",
       "      <td>Delhi</td>\n",
       "      <td>110</td>\n",
       "      <td>First Owner</td>\n",
       "      <td>675</td>\n",
       "      <td>2013</td>\n",
       "    </tr>\n",
       "    <tr>\n",
       "      <th>3</th>\n",
       "      <td>TVS Apache RTR 180cc 2017</td>\n",
       "      <td>65000</td>\n",
       "      <td>Bangalore</td>\n",
       "      <td>16329</td>\n",
       "      <td>First Owner</td>\n",
       "      <td>180</td>\n",
       "      <td>2017</td>\n",
       "    </tr>\n",
       "    <tr>\n",
       "      <th>4</th>\n",
       "      <td>Yamaha FZ S V 2.0 150cc-Ltd. Edition 2018</td>\n",
       "      <td>80000</td>\n",
       "      <td>Bangalore</td>\n",
       "      <td>10000</td>\n",
       "      <td>First Owner</td>\n",
       "      <td>150</td>\n",
       "      <td>2018</td>\n",
       "    </tr>\n",
       "  </tbody>\n",
       "</table>\n",
       "</div>"
      ],
      "text/plain": [
       "                                        Name   Price   Location  Running  \\\n",
       "0    TVS Star City Plus Dual Tone 110cc 2018   35000  Ahmedabad    17654   \n",
       "1           Royal Enfield Classic 350cc 2017  119900      Delhi    11000   \n",
       "2                  Triumph Daytona 675R 2013  600000      Delhi      110   \n",
       "3                  TVS Apache RTR 180cc 2017   65000  Bangalore    16329   \n",
       "4  Yamaha FZ S V 2.0 150cc-Ltd. Edition 2018   80000  Bangalore    10000   \n",
       "\n",
       "         Owner  Cubic_Capacity  Year  \n",
       "0  First Owner             110  2018  \n",
       "1  First Owner             350  2017  \n",
       "2  First Owner             675  2013  \n",
       "3  First Owner             180  2017  \n",
       "4  First Owner             150  2018  "
      ]
     },
     "execution_count": 730,
     "metadata": {},
     "output_type": "execute_result"
    }
   ],
   "source": [
    "data.head()"
   ]
  },
  {
   "cell_type": "code",
   "execution_count": 731,
   "metadata": {},
   "outputs": [
    {
     "name": "stdout",
     "output_type": "stream",
     "text": [
      "<class 'pandas.core.frame.DataFrame'>\n",
      "Int64Index: 34465 entries, 0 to 34499\n",
      "Data columns (total 7 columns):\n",
      " #   Column          Non-Null Count  Dtype \n",
      "---  ------          --------------  ----- \n",
      " 0   Name            34465 non-null  object\n",
      " 1   Price           34465 non-null  int64 \n",
      " 2   Location        34465 non-null  object\n",
      " 3   Running         34465 non-null  int64 \n",
      " 4   Owner           34465 non-null  object\n",
      " 5   Cubic_Capacity  34465 non-null  int64 \n",
      " 6   Year            34465 non-null  int64 \n",
      "dtypes: int64(4), object(3)\n",
      "memory usage: 2.1+ MB\n"
     ]
    }
   ],
   "source": [
    "data.info()"
   ]
  },
  {
   "cell_type": "code",
   "execution_count": 732,
   "metadata": {},
   "outputs": [],
   "source": [
    "#Creating a new list for model of the bike. I have used some if else statements based on the domain knowledge I had\n",
    "#You can use some other technique\n",
    "#NOTE: I tried to separate the company name and the model but that was way too much difficult by using split method as\n",
    "##the index of the company name and model are not fixed. And it will create large number of categories which will be difficult \n",
    "##to encode even with count frequency encoding.\n",
    "model=[]\n",
    "for mod in data.Name:\n",
    "    \n",
    "    name=mod.split(' ')\n",
    "    if 'Honda' and 'CB' in mod:\n",
    "        model.append(name[0]+' '+name[1]+' '+name[2])\n",
    "    elif 'FZ' and '2.0' in mod:\n",
    "         model.append(name[0]+' '+name[1]+' V 2.0')\n",
    "    elif  'Triumph Street' in mod:\n",
    "        model.append(name[0]+' '+name[1]+' '+name[2])\n",
    "    elif 'BMW G 310' in mod:\n",
    "        model.append(name[0]+' '+name[1]+' '+name[2]+' '+name[3])\n",
    "    else:\n",
    "        model.append(name[0]+' '+name[1])"
   ]
  },
  {
   "cell_type": "code",
   "execution_count": 733,
   "metadata": {},
   "outputs": [],
   "source": [
    "#Adding our model list in the dataframe\n",
    "data['Model']=model"
   ]
  },
  {
   "cell_type": "code",
   "execution_count": 734,
   "metadata": {},
   "outputs": [
    {
     "data": {
      "text/html": [
       "<div>\n",
       "<style scoped>\n",
       "    .dataframe tbody tr th:only-of-type {\n",
       "        vertical-align: middle;\n",
       "    }\n",
       "\n",
       "    .dataframe tbody tr th {\n",
       "        vertical-align: top;\n",
       "    }\n",
       "\n",
       "    .dataframe thead th {\n",
       "        text-align: right;\n",
       "    }\n",
       "</style>\n",
       "<table border=\"1\" class=\"dataframe\">\n",
       "  <thead>\n",
       "    <tr style=\"text-align: right;\">\n",
       "      <th></th>\n",
       "      <th>Name</th>\n",
       "      <th>Price</th>\n",
       "      <th>Location</th>\n",
       "      <th>Running</th>\n",
       "      <th>Owner</th>\n",
       "      <th>Cubic_Capacity</th>\n",
       "      <th>Year</th>\n",
       "      <th>Model</th>\n",
       "    </tr>\n",
       "  </thead>\n",
       "  <tbody>\n",
       "    <tr>\n",
       "      <th>0</th>\n",
       "      <td>TVS Star City Plus Dual Tone 110cc 2018</td>\n",
       "      <td>35000</td>\n",
       "      <td>Ahmedabad</td>\n",
       "      <td>17654</td>\n",
       "      <td>First Owner</td>\n",
       "      <td>110</td>\n",
       "      <td>2018</td>\n",
       "      <td>TVS Star</td>\n",
       "    </tr>\n",
       "    <tr>\n",
       "      <th>1</th>\n",
       "      <td>Royal Enfield Classic 350cc 2017</td>\n",
       "      <td>119900</td>\n",
       "      <td>Delhi</td>\n",
       "      <td>11000</td>\n",
       "      <td>First Owner</td>\n",
       "      <td>350</td>\n",
       "      <td>2017</td>\n",
       "      <td>Royal Enfield</td>\n",
       "    </tr>\n",
       "    <tr>\n",
       "      <th>2</th>\n",
       "      <td>Triumph Daytona 675R 2013</td>\n",
       "      <td>600000</td>\n",
       "      <td>Delhi</td>\n",
       "      <td>110</td>\n",
       "      <td>First Owner</td>\n",
       "      <td>675</td>\n",
       "      <td>2013</td>\n",
       "      <td>Triumph Daytona</td>\n",
       "    </tr>\n",
       "    <tr>\n",
       "      <th>3</th>\n",
       "      <td>TVS Apache RTR 180cc 2017</td>\n",
       "      <td>65000</td>\n",
       "      <td>Bangalore</td>\n",
       "      <td>16329</td>\n",
       "      <td>First Owner</td>\n",
       "      <td>180</td>\n",
       "      <td>2017</td>\n",
       "      <td>TVS Apache</td>\n",
       "    </tr>\n",
       "    <tr>\n",
       "      <th>4</th>\n",
       "      <td>Yamaha FZ S V 2.0 150cc-Ltd. Edition 2018</td>\n",
       "      <td>80000</td>\n",
       "      <td>Bangalore</td>\n",
       "      <td>10000</td>\n",
       "      <td>First Owner</td>\n",
       "      <td>150</td>\n",
       "      <td>2018</td>\n",
       "      <td>Yamaha FZ V 2.0</td>\n",
       "    </tr>\n",
       "  </tbody>\n",
       "</table>\n",
       "</div>"
      ],
      "text/plain": [
       "                                        Name   Price   Location  Running  \\\n",
       "0    TVS Star City Plus Dual Tone 110cc 2018   35000  Ahmedabad    17654   \n",
       "1           Royal Enfield Classic 350cc 2017  119900      Delhi    11000   \n",
       "2                  Triumph Daytona 675R 2013  600000      Delhi      110   \n",
       "3                  TVS Apache RTR 180cc 2017   65000  Bangalore    16329   \n",
       "4  Yamaha FZ S V 2.0 150cc-Ltd. Edition 2018   80000  Bangalore    10000   \n",
       "\n",
       "         Owner  Cubic_Capacity  Year            Model  \n",
       "0  First Owner             110  2018         TVS Star  \n",
       "1  First Owner             350  2017    Royal Enfield  \n",
       "2  First Owner             675  2013  Triumph Daytona  \n",
       "3  First Owner             180  2017       TVS Apache  \n",
       "4  First Owner             150  2018  Yamaha FZ V 2.0  "
      ]
     },
     "execution_count": 734,
     "metadata": {},
     "output_type": "execute_result"
    }
   ],
   "source": [
    "data.head()"
   ]
  },
  {
   "cell_type": "code",
   "execution_count": 735,
   "metadata": {},
   "outputs": [
    {
     "data": {
      "text/plain": [
       "Bajaj Avenger                4857\n",
       "Bajaj Pulsar                 4221\n",
       "Royal Enfield                4220\n",
       "Hero Passion                 2867\n",
       "Yamaha Fazer                 1291\n",
       "TVS Apache                   1061\n",
       "KTM RC                        839\n",
       "Yamaha YZF-R15 V 2.0          776\n",
       "Bajaj Platina                 735\n",
       "Bajaj Dominar                 729\n",
       "Harley-Davidson Street        724\n",
       "Hero CD                       708\n",
       "Honda CB Hornet               705\n",
       "Hero CBZ Xtreme               690\n",
       "Honda CB Trigger              681\n",
       "Yamaha FZ                     670\n",
       "Hero Hunk                     660\n",
       "Hero Super                    655\n",
       "Hyosung GT250R                646\n",
       "TVS Victor                    622\n",
       "Suzuki Slingshot              617\n",
       "Yamaha SZ-RR                  613\n",
       "Suzuki Zeus                   608\n",
       "Hero Splendor                 430\n",
       "Bajaj Discover                397\n",
       "KTM Duke                      261\n",
       "Honda CB Shine                192\n",
       "Suzuki Gixxer                 176\n",
       "Bajaj V15                     161\n",
       "Yamaha YZF-R15                148\n",
       "Hero HF                       137\n",
       "Yamaha FZs                    131\n",
       "UM Renegade                   128\n",
       "Honda CB Unicorn              126\n",
       "Bajaj CT                      107\n",
       "TVS Star                      102\n",
       "Hero Karizma                   99\n",
       "Yamaha FZ V 2.0                93\n",
       "Honda CBF Stunner              79\n",
       "Honda CBR 150R                 75\n",
       "Honda CBR 250R                 73\n",
       "TVS Sport                      68\n",
       "Honda Dream                    67\n",
       "Hero Glamour                   56\n",
       "Yamaha FZ16                    53\n",
       "Benelli TNT                    50\n",
       "Kawasaki Ninja                 48\n",
       "Yamaha FZ25                    46\n",
       "Honda Livo                     42\n",
       "Suzuki Intruder                42\n",
       "Hero Ignitor                   40\n",
       "Honda CB Twister               40\n",
       "Yamaha SZR                     35\n",
       "Hero Xtreme                    35\n",
       "Mahindra Centuro               32\n",
       "Harley-Davidson Iron           29\n",
       "Royal Enfield‎                 29\n",
       "Bajaj                          26\n",
       "Hero Honda                     25\n",
       "Mahindra Mojo                  24\n",
       "TVS Apache V 2.0               22\n",
       "Bajaj V12                      21\n",
       "Hyosung Aquila                 20\n",
       "Honda CB ShineSP               20\n",
       "Honda CD                       18\n",
       "Harley-Davidson Fat            15\n",
       "Yamaha FZS                     15\n",
       "Hyosung GT650R                 14\n",
       "Hero CBZ 150cc                 13\n",
       "Yamaha Saluto                  11\n",
       "Hero Achiever                  10\n",
       "Yamaha YZF-R3                  10\n",
       "Suzuki GS                      10\n",
       "Yamaha Gladiator               10\n",
       "Triumph Street Triple          10\n",
       "Suzuki Hayabusa                 9\n",
       "BMW G 310 R                     9\n",
       "Ducati Monster                  9\n",
       "Honda X-Blade                   9\n",
       "Bajaj XCD                       9\n",
       "Ducati SuperSport               8\n",
       "Yamaha Fazer V 2.0              8\n",
       "Bajaj Boxer                     8\n",
       "Benelli 302R                    7\n",
       "Triumph Tiger                   7\n",
       "Jawa Forty                      7\n",
       "Harley-Davidson Superlow        7\n",
       "Yamaha YZF-R1                   7\n",
       "Kawasaki Z800                   6\n",
       "Kawasaki ER-6n                  6\n",
       "Yamaha SS                       6\n",
       "Yamaha SZ V 2.0                 6\n",
       "Kawasaki Z650                   6\n",
       "Harley-Davidson 1200            5\n",
       "TVS Flame                       5\n",
       "Kawasaki Z900                   5\n",
       "Hyosung GT                      5\n",
       "Ducati Panigale                 5\n",
       "Yamaha RX135                    5\n",
       "Kawasaki Versys                 5\n",
       "MV Agusta                       5\n",
       "Suzuki Hayate                   4\n",
       "Yamaha MT-15                    4\n",
       "Kawasaki Z250                   4\n",
       "Harley-Davidson Breakout        4\n",
       "Yamaha YZFR15 V 2.0             4\n",
       "Harley-Davidson Forty           4\n",
       "Triumph Bonneville              4\n",
       "TVS Radeon                      4\n",
       "Yamaha Fazer25                  4\n",
       "Bajaj Platina 110               4\n",
       "Jawa Standard                   4\n",
       "Harley-Davidson Roadster        4\n",
       "Ducati Diavel                   4\n",
       "Yamaha YZF-R1M                  3\n",
       "Harley-Davidson Sportster       3\n",
       "Triumph Thunderbird             3\n",
       "TVS Jive                        3\n",
       "Yamaha SZ                       3\n",
       "Hyosung ST7                     3\n",
       "TVS Phoenix                     3\n",
       "Triumph Thruxton                3\n",
       "BMW G 310 GS                    3\n",
       "Honda Livo Disc                 3\n",
       "Triumph Street Twin             3\n",
       "Yamaha Crux                     3\n",
       "Yamaha SZX                      2\n",
       "Hero Ambition                   2\n",
       "Suzuki V-Strom                  2\n",
       "TVS New                         2\n",
       "BMW F750                        2\n",
       "Yamaha Libero                   2\n",
       "Hero Xpulse                     2\n",
       "Harley-Davidson CVO             2\n",
       "Hero CBZ Star                   2\n",
       "Ducati Scrambler                2\n",
       "Benelli TRK                     2\n",
       "Ducati XDiavel                  2\n",
       "Ducati Multistrada              2\n",
       "Indian Scout                    2\n",
       "TVS Suzuki                      2\n",
       "Triumph Speed                   2\n",
       "Ideal Jawa                      2\n",
       "Bajaj Discover150               2\n",
       "Honda CBR 650                   2\n",
       "BMW S                           2\n",
       "Honda CBR1000RR Fireblade       2\n",
       "Harley-Davidson Super           2\n",
       "Triumph Daytona                 2\n",
       "Yamaha YBR                      2\n",
       "Bajaj Caliber                   2\n",
       "Honda CBR650R 2019              2\n",
       "Aprilia Tuono                   2\n",
       "Bajaj Pulsar 125cc              1\n",
       "Yamaha YZF                      1\n",
       "Yezdi Classic                   1\n",
       " Bajaj                          1\n",
       "Indian Chief                    1\n",
       "Harley-Davidson XG750           1\n",
       "TVS Sports                      1\n",
       "Ducati 1198                     1\n",
       "Bajaj Discover150S              1\n",
       "Hero New                        1\n",
       "Suzuki GSX-R                    1\n",
       "Mahindra Pantero                1\n",
       "Ducati 1299                     1\n",
       "Hero Splendor+                  1\n",
       "Honda CB 1000R                  1\n",
       "Hero i                          1\n",
       "Suzuki Heat                     1\n",
       "Honda CBR 600RR                 1\n",
       "Bajaj CT110                     1\n",
       "BMW K                           1\n",
       "Kawasaki Z1000                  1\n",
       "Harley-Davidson Road            1\n",
       "Suzuki GSX-S750                 1\n",
       "Yamaha SZS                      1\n",
       "TVS MAX                         1\n",
       "LML Freedom                     1\n",
       "Yamaha RX-Z                     1\n",
       "TVS Fiero                       1\n",
       "BSA M20                         1\n",
       "Kawasaki Vulcan                 1\n",
       "Honda Dream Yuga                1\n",
       "Honda SP125                     1\n",
       "Rajdoot GTX                     1\n",
       "Name: Model, dtype: int64"
      ]
     },
     "execution_count": 735,
     "metadata": {},
     "output_type": "execute_result"
    }
   ],
   "source": [
    "#Checking for the unique values\n",
    "data['Model'].value_counts()"
   ]
  },
  {
   "cell_type": "code",
   "execution_count": 736,
   "metadata": {},
   "outputs": [
    {
     "data": {
      "text/plain": [
       "186"
      ]
     },
     "execution_count": 736,
     "metadata": {},
     "output_type": "execute_result"
    }
   ],
   "source": [
    "len(data['Model'].unique())"
   ]
  },
  {
   "cell_type": "code",
   "execution_count": 737,
   "metadata": {},
   "outputs": [],
   "source": [
    "#Since there are 186 different categories it is not recommended to use one hot encoding so I will be using count freuqency \n",
    "#encoding. To learn more about count frequency encoding you can visit \n",
    "#Krish Naik's channel(https://www.youtube.com/watch?v=MPnNC6kkNC4)\n",
    "#In count frequqncy 2 categories should not have same number of counts. So I dropped the entry with counts of same number.\n",
    "#Many of them were present below the count of 10\n",
    "#You can try something else\n",
    "data = data[data.groupby('Model').Model.transform('count')>10].copy() "
   ]
  },
  {
   "cell_type": "code",
   "execution_count": 738,
   "metadata": {},
   "outputs": [
    {
     "name": "stdout",
     "output_type": "stream",
     "text": [
      "70\n",
      "['TVS Star' 'Royal Enfield' 'TVS Apache' 'Yamaha FZ V 2.0' 'Yamaha FZs'\n",
      " 'Honda CB Hornet' 'Hero Splendor' 'Yamaha YZF-R15 V 2.0' 'Yamaha FZ25'\n",
      " 'Bajaj Pulsar' 'Bajaj Discover' 'Suzuki Gixxer' 'UM Renegade'\n",
      " 'Hero Super' 'Honda CBF Stunner' 'Bajaj Avenger' 'KTM RC'\n",
      " 'Honda CB Unicorn' 'KTM Duke' 'Honda CBR 150R' 'Mahindra Centuro'\n",
      " 'Hero Hunk' 'Yamaha FZ' 'Royal Enfield\\u200e' 'Honda CB Shine'\n",
      " 'Benelli TNT' 'Honda Dream' 'Hero CD' 'Kawasaki Ninja' 'Bajaj Platina'\n",
      " 'Hero Karizma' 'Harley-Davidson Street' 'Bajaj CT' 'Yamaha FZ16'\n",
      " 'Bajaj V15' 'Honda CBR 250R' 'Hyosung GT650R' 'Yamaha YZF-R15'\n",
      " 'Honda CB ShineSP' 'Hero Passion' 'Bajaj Dominar' 'Yamaha Fazer'\n",
      " 'Harley-Davidson Iron' 'Hero HF' 'TVS Sport' 'Honda Livo' 'Yamaha SZ-RR'\n",
      " 'Yamaha Saluto' 'Hyosung Aquila' 'Bajaj V12' 'Honda CB Twister'\n",
      " 'Harley-Davidson Fat' 'Suzuki Intruder' 'Mahindra Mojo' 'Hero Ignitor'\n",
      " 'Hero Glamour' 'Suzuki Slingshot' 'Honda CB Trigger' 'Hyosung GT250R'\n",
      " 'Hero Xtreme' 'Yamaha SZR' 'Hero CBZ 150cc' 'Yamaha FZS'\n",
      " 'Hero CBZ Xtreme' 'Hero Honda' 'TVS Apache V 2.0' 'TVS Victor' 'Honda CD'\n",
      " 'Bajaj ' 'Suzuki Zeus']\n"
     ]
    }
   ],
   "source": [
    "print(len(data['Model'].unique()))\n",
    "print(data['Model'].unique())"
   ]
  },
  {
   "cell_type": "code",
   "execution_count": 739,
   "metadata": {},
   "outputs": [],
   "source": [
    "data['Model']=data['Model'].apply(lambda x: x.replace('Royal Enfield\\u200e','Royal Enfield'))"
   ]
  },
  {
   "cell_type": "code",
   "execution_count": 740,
   "metadata": {},
   "outputs": [
    {
     "data": {
      "text/plain": [
       "Bajaj Avenger             4857\n",
       "Royal Enfield             4249\n",
       "Bajaj Pulsar              4221\n",
       "Hero Passion              2867\n",
       "Yamaha Fazer              1291\n",
       "TVS Apache                1061\n",
       "KTM RC                     839\n",
       "Yamaha YZF-R15 V 2.0       776\n",
       "Bajaj Platina              735\n",
       "Bajaj Dominar              729\n",
       "Harley-Davidson Street     724\n",
       "Hero CD                    708\n",
       "Honda CB Hornet            705\n",
       "Hero CBZ Xtreme            690\n",
       "Honda CB Trigger           681\n",
       "Yamaha FZ                  670\n",
       "Hero Hunk                  660\n",
       "Hero Super                 655\n",
       "Hyosung GT250R             646\n",
       "TVS Victor                 622\n",
       "Suzuki Slingshot           617\n",
       "Yamaha SZ-RR               613\n",
       "Suzuki Zeus                608\n",
       "Hero Splendor              430\n",
       "Bajaj Discover             397\n",
       "KTM Duke                   261\n",
       "Honda CB Shine             192\n",
       "Suzuki Gixxer              176\n",
       "Bajaj V15                  161\n",
       "Yamaha YZF-R15             148\n",
       "Hero HF                    137\n",
       "Yamaha FZs                 131\n",
       "UM Renegade                128\n",
       "Honda CB Unicorn           126\n",
       "Bajaj CT                   107\n",
       "TVS Star                   102\n",
       "Hero Karizma                99\n",
       "Yamaha FZ V 2.0             93\n",
       "Honda CBF Stunner           79\n",
       "Honda CBR 150R              75\n",
       "Honda CBR 250R              73\n",
       "TVS Sport                   68\n",
       "Honda Dream                 67\n",
       "Hero Glamour                56\n",
       "Yamaha FZ16                 53\n",
       "Benelli TNT                 50\n",
       "Kawasaki Ninja              48\n",
       "Yamaha FZ25                 46\n",
       "Honda Livo                  42\n",
       "Suzuki Intruder             42\n",
       "Honda CB Twister            40\n",
       "Hero Ignitor                40\n",
       "Hero Xtreme                 35\n",
       "Yamaha SZR                  35\n",
       "Mahindra Centuro            32\n",
       "Harley-Davidson Iron        29\n",
       "Bajaj                       26\n",
       "Hero Honda                  25\n",
       "Mahindra Mojo               24\n",
       "TVS Apache V 2.0            22\n",
       "Bajaj V12                   21\n",
       "Hyosung Aquila              20\n",
       "Honda CB ShineSP            20\n",
       "Honda CD                    18\n",
       "Yamaha FZS                  15\n",
       "Harley-Davidson Fat         15\n",
       "Hyosung GT650R              14\n",
       "Hero CBZ 150cc              13\n",
       "Yamaha Saluto               11\n",
       "Name: Model, dtype: int64"
      ]
     },
     "execution_count": 740,
     "metadata": {},
     "output_type": "execute_result"
    }
   ],
   "source": [
    "data['Model'].value_counts()"
   ]
  },
  {
   "cell_type": "code",
   "execution_count": 741,
   "metadata": {},
   "outputs": [
    {
     "data": {
      "text/html": [
       "<div>\n",
       "<style scoped>\n",
       "    .dataframe tbody tr th:only-of-type {\n",
       "        vertical-align: middle;\n",
       "    }\n",
       "\n",
       "    .dataframe tbody tr th {\n",
       "        vertical-align: top;\n",
       "    }\n",
       "\n",
       "    .dataframe thead th {\n",
       "        text-align: right;\n",
       "    }\n",
       "</style>\n",
       "<table border=\"1\" class=\"dataframe\">\n",
       "  <thead>\n",
       "    <tr style=\"text-align: right;\">\n",
       "      <th></th>\n",
       "      <th>Name</th>\n",
       "      <th>Price</th>\n",
       "      <th>Location</th>\n",
       "      <th>Running</th>\n",
       "      <th>Owner</th>\n",
       "      <th>Cubic_Capacity</th>\n",
       "      <th>Year</th>\n",
       "      <th>Model</th>\n",
       "    </tr>\n",
       "  </thead>\n",
       "  <tbody>\n",
       "    <tr>\n",
       "      <th>120</th>\n",
       "      <td>Hyosung GT650R 2017</td>\n",
       "      <td>400000</td>\n",
       "      <td>Delhi</td>\n",
       "      <td>1800</td>\n",
       "      <td>First Owner</td>\n",
       "      <td>650</td>\n",
       "      <td>2017</td>\n",
       "      <td>Hyosung GT650R</td>\n",
       "    </tr>\n",
       "    <tr>\n",
       "      <th>633</th>\n",
       "      <td>Hyosung GT650R 2013</td>\n",
       "      <td>230000</td>\n",
       "      <td>Dadra &amp; Nagar Haveli</td>\n",
       "      <td>16150</td>\n",
       "      <td>Second Owner</td>\n",
       "      <td>650</td>\n",
       "      <td>2013</td>\n",
       "      <td>Hyosung GT650R</td>\n",
       "    </tr>\n",
       "    <tr>\n",
       "      <th>648</th>\n",
       "      <td>Hyosung GT650R 2015</td>\n",
       "      <td>395000</td>\n",
       "      <td>Nashik</td>\n",
       "      <td>5000</td>\n",
       "      <td>First Owner</td>\n",
       "      <td>650</td>\n",
       "      <td>2015</td>\n",
       "      <td>Hyosung GT650R</td>\n",
       "    </tr>\n",
       "    <tr>\n",
       "      <th>1372</th>\n",
       "      <td>Hyosung GT650R 2016</td>\n",
       "      <td>350000</td>\n",
       "      <td>Ranchi</td>\n",
       "      <td>2500</td>\n",
       "      <td>First Owner</td>\n",
       "      <td>650</td>\n",
       "      <td>2016</td>\n",
       "      <td>Hyosung GT650R</td>\n",
       "    </tr>\n",
       "    <tr>\n",
       "      <th>1502</th>\n",
       "      <td>Hyosung GT650R 2016</td>\n",
       "      <td>350000</td>\n",
       "      <td>Ranchi</td>\n",
       "      <td>2500</td>\n",
       "      <td>First Owner</td>\n",
       "      <td>650</td>\n",
       "      <td>2016</td>\n",
       "      <td>Hyosung GT650R</td>\n",
       "    </tr>\n",
       "    <tr>\n",
       "      <th>1656</th>\n",
       "      <td>Hyosung GT650R 2017</td>\n",
       "      <td>493500</td>\n",
       "      <td>Ahmedabad</td>\n",
       "      <td>7500</td>\n",
       "      <td>First Owner</td>\n",
       "      <td>650</td>\n",
       "      <td>2017</td>\n",
       "      <td>Hyosung GT650R</td>\n",
       "    </tr>\n",
       "    <tr>\n",
       "      <th>1666</th>\n",
       "      <td>Hyosung GT650R 2017</td>\n",
       "      <td>493500</td>\n",
       "      <td>Ahmedabad</td>\n",
       "      <td>7500</td>\n",
       "      <td>First Owner</td>\n",
       "      <td>650</td>\n",
       "      <td>2017</td>\n",
       "      <td>Hyosung GT650R</td>\n",
       "    </tr>\n",
       "    <tr>\n",
       "      <th>6186</th>\n",
       "      <td>Hyosung GT650R 2015</td>\n",
       "      <td>307194</td>\n",
       "      <td>Faridabad</td>\n",
       "      <td>1487</td>\n",
       "      <td>First Owner</td>\n",
       "      <td>650</td>\n",
       "      <td>2015</td>\n",
       "      <td>Hyosung GT650R</td>\n",
       "    </tr>\n",
       "    <tr>\n",
       "      <th>6230</th>\n",
       "      <td>Hyosung GT650R 2015</td>\n",
       "      <td>350000</td>\n",
       "      <td>Faridabad</td>\n",
       "      <td>1487</td>\n",
       "      <td>First Owner</td>\n",
       "      <td>650</td>\n",
       "      <td>2015</td>\n",
       "      <td>Hyosung GT650R</td>\n",
       "    </tr>\n",
       "    <tr>\n",
       "      <th>6603</th>\n",
       "      <td>Hyosung GT650R 2015</td>\n",
       "      <td>350000</td>\n",
       "      <td>Faridabad</td>\n",
       "      <td>1487</td>\n",
       "      <td>First Owner</td>\n",
       "      <td>650</td>\n",
       "      <td>2015</td>\n",
       "      <td>Hyosung GT650R</td>\n",
       "    </tr>\n",
       "    <tr>\n",
       "      <th>7495</th>\n",
       "      <td>Hyosung GT650R 2015</td>\n",
       "      <td>307194</td>\n",
       "      <td>Faridabad</td>\n",
       "      <td>1487</td>\n",
       "      <td>First Owner</td>\n",
       "      <td>650</td>\n",
       "      <td>2015</td>\n",
       "      <td>Hyosung GT650R</td>\n",
       "    </tr>\n",
       "    <tr>\n",
       "      <th>7873</th>\n",
       "      <td>Hyosung GT650R 2017</td>\n",
       "      <td>446200</td>\n",
       "      <td>Delhi</td>\n",
       "      <td>2500</td>\n",
       "      <td>Second Owner</td>\n",
       "      <td>650</td>\n",
       "      <td>2017</td>\n",
       "      <td>Hyosung GT650R</td>\n",
       "    </tr>\n",
       "    <tr>\n",
       "      <th>7957</th>\n",
       "      <td>Hyosung GT650R 2013</td>\n",
       "      <td>170000</td>\n",
       "      <td>Anekal</td>\n",
       "      <td>210</td>\n",
       "      <td>First Owner</td>\n",
       "      <td>650</td>\n",
       "      <td>2013</td>\n",
       "      <td>Hyosung GT650R</td>\n",
       "    </tr>\n",
       "    <tr>\n",
       "      <th>9809</th>\n",
       "      <td>Hyosung GT650R 2014</td>\n",
       "      <td>304952</td>\n",
       "      <td>Delhi</td>\n",
       "      <td>13000</td>\n",
       "      <td>Second Owner</td>\n",
       "      <td>650</td>\n",
       "      <td>2014</td>\n",
       "      <td>Hyosung GT650R</td>\n",
       "    </tr>\n",
       "  </tbody>\n",
       "</table>\n",
       "</div>"
      ],
      "text/plain": [
       "                     Name   Price              Location  Running  \\\n",
       "120   Hyosung GT650R 2017  400000                 Delhi     1800   \n",
       "633   Hyosung GT650R 2013  230000  Dadra & Nagar Haveli    16150   \n",
       "648   Hyosung GT650R 2015  395000                Nashik     5000   \n",
       "1372  Hyosung GT650R 2016  350000                Ranchi     2500   \n",
       "1502  Hyosung GT650R 2016  350000                Ranchi     2500   \n",
       "1656  Hyosung GT650R 2017  493500             Ahmedabad     7500   \n",
       "1666  Hyosung GT650R 2017  493500             Ahmedabad     7500   \n",
       "6186  Hyosung GT650R 2015  307194             Faridabad     1487   \n",
       "6230  Hyosung GT650R 2015  350000             Faridabad     1487   \n",
       "6603  Hyosung GT650R 2015  350000             Faridabad     1487   \n",
       "7495  Hyosung GT650R 2015  307194             Faridabad     1487   \n",
       "7873  Hyosung GT650R 2017  446200                 Delhi     2500   \n",
       "7957  Hyosung GT650R 2013  170000                Anekal      210   \n",
       "9809  Hyosung GT650R 2014  304952                 Delhi    13000   \n",
       "\n",
       "             Owner  Cubic_Capacity  Year           Model  \n",
       "120    First Owner             650  2017  Hyosung GT650R  \n",
       "633   Second Owner             650  2013  Hyosung GT650R  \n",
       "648    First Owner             650  2015  Hyosung GT650R  \n",
       "1372   First Owner             650  2016  Hyosung GT650R  \n",
       "1502   First Owner             650  2016  Hyosung GT650R  \n",
       "1656   First Owner             650  2017  Hyosung GT650R  \n",
       "1666   First Owner             650  2017  Hyosung GT650R  \n",
       "6186   First Owner             650  2015  Hyosung GT650R  \n",
       "6230   First Owner             650  2015  Hyosung GT650R  \n",
       "6603   First Owner             650  2015  Hyosung GT650R  \n",
       "7495   First Owner             650  2015  Hyosung GT650R  \n",
       "7873  Second Owner             650  2017  Hyosung GT650R  \n",
       "7957   First Owner             650  2013  Hyosung GT650R  \n",
       "9809  Second Owner             650  2014  Hyosung GT650R  "
      ]
     },
     "execution_count": 741,
     "metadata": {},
     "output_type": "execute_result"
    }
   ],
   "source": [
    "###There were few entries left with the same count so I took the indexes of them and dropped them in such manner\n",
    "###that the count is not same\n",
    "#data[data['Model'] == 'Suzuki Intruder']\n",
    "#data[data['Model'] == 'Hero Ignitor']\n",
    "#data[data['Model'] == 'Yamaha SZR']\n",
    "#data[data['Model'] == 'Hyosung Aquila']\n",
    "#data[data['Model'] == 'Harley-Davidson Fat']\n",
    "data[data['Model'] == 'Hyosung GT650R']"
   ]
  },
  {
   "cell_type": "code",
   "execution_count": 742,
   "metadata": {},
   "outputs": [],
   "source": [
    "data.drop(index=[9082,9911,9314,9381,9359,7957,9809],axis=0,inplace=True)"
   ]
  },
  {
   "cell_type": "code",
   "execution_count": 743,
   "metadata": {},
   "outputs": [
    {
     "data": {
      "text/plain": [
       "Bajaj Avenger             4857\n",
       "Royal Enfield             4249\n",
       "Bajaj Pulsar              4221\n",
       "Hero Passion              2867\n",
       "Yamaha Fazer              1291\n",
       "TVS Apache                1061\n",
       "KTM RC                     839\n",
       "Yamaha YZF-R15 V 2.0       776\n",
       "Bajaj Platina              735\n",
       "Bajaj Dominar              729\n",
       "Harley-Davidson Street     724\n",
       "Hero CD                    708\n",
       "Honda CB Hornet            705\n",
       "Hero CBZ Xtreme            690\n",
       "Honda CB Trigger           681\n",
       "Yamaha FZ                  670\n",
       "Hero Hunk                  660\n",
       "Hero Super                 655\n",
       "Hyosung GT250R             646\n",
       "TVS Victor                 622\n",
       "Suzuki Slingshot           617\n",
       "Yamaha SZ-RR               613\n",
       "Suzuki Zeus                608\n",
       "Hero Splendor              430\n",
       "Bajaj Discover             397\n",
       "KTM Duke                   261\n",
       "Honda CB Shine             192\n",
       "Suzuki Gixxer              176\n",
       "Bajaj V15                  161\n",
       "Yamaha YZF-R15             148\n",
       "Hero HF                    137\n",
       "Yamaha FZs                 131\n",
       "UM Renegade                128\n",
       "Honda CB Unicorn           126\n",
       "Bajaj CT                   107\n",
       "TVS Star                   102\n",
       "Hero Karizma                99\n",
       "Yamaha FZ V 2.0             93\n",
       "Honda CBF Stunner           79\n",
       "Honda CBR 150R              75\n",
       "Honda CBR 250R              73\n",
       "TVS Sport                   68\n",
       "Honda Dream                 67\n",
       "Hero Glamour                56\n",
       "Yamaha FZ16                 53\n",
       "Benelli TNT                 50\n",
       "Kawasaki Ninja              48\n",
       "Yamaha FZ25                 46\n",
       "Honda Livo                  42\n",
       "Suzuki Intruder             41\n",
       "Honda CB Twister            40\n",
       "Hero Ignitor                39\n",
       "Hero Xtreme                 35\n",
       "Yamaha SZR                  34\n",
       "Mahindra Centuro            32\n",
       "Harley-Davidson Iron        29\n",
       "Bajaj                       26\n",
       "Hero Honda                  25\n",
       "Mahindra Mojo               24\n",
       "TVS Apache V 2.0            22\n",
       "Bajaj V12                   21\n",
       "Honda CB ShineSP            20\n",
       "Hyosung Aquila              19\n",
       "Honda CD                    18\n",
       "Yamaha FZS                  15\n",
       "Harley-Davidson Fat         14\n",
       "Hero CBZ 150cc              13\n",
       "Hyosung GT650R              12\n",
       "Yamaha Saluto               11\n",
       "Name: Model, dtype: int64"
      ]
     },
     "execution_count": 743,
     "metadata": {},
     "output_type": "execute_result"
    }
   ],
   "source": [
    "data['Model'].value_counts()"
   ]
  },
  {
   "cell_type": "code",
   "execution_count": 744,
   "metadata": {},
   "outputs": [],
   "source": [
    "#Rearranging the columns\n",
    "data=data[['Name','Model','Cubic_Capacity','Year','Location','Running','Owner','Price']]"
   ]
  },
  {
   "cell_type": "code",
   "execution_count": 745,
   "metadata": {},
   "outputs": [
    {
     "data": {
      "text/html": [
       "<div>\n",
       "<style scoped>\n",
       "    .dataframe tbody tr th:only-of-type {\n",
       "        vertical-align: middle;\n",
       "    }\n",
       "\n",
       "    .dataframe tbody tr th {\n",
       "        vertical-align: top;\n",
       "    }\n",
       "\n",
       "    .dataframe thead th {\n",
       "        text-align: right;\n",
       "    }\n",
       "</style>\n",
       "<table border=\"1\" class=\"dataframe\">\n",
       "  <thead>\n",
       "    <tr style=\"text-align: right;\">\n",
       "      <th></th>\n",
       "      <th>Name</th>\n",
       "      <th>Model</th>\n",
       "      <th>Cubic_Capacity</th>\n",
       "      <th>Year</th>\n",
       "      <th>Location</th>\n",
       "      <th>Running</th>\n",
       "      <th>Owner</th>\n",
       "      <th>Price</th>\n",
       "    </tr>\n",
       "  </thead>\n",
       "  <tbody>\n",
       "    <tr>\n",
       "      <th>0</th>\n",
       "      <td>TVS Star City Plus Dual Tone 110cc 2018</td>\n",
       "      <td>TVS Star</td>\n",
       "      <td>110</td>\n",
       "      <td>2018</td>\n",
       "      <td>Ahmedabad</td>\n",
       "      <td>17654</td>\n",
       "      <td>First Owner</td>\n",
       "      <td>35000</td>\n",
       "    </tr>\n",
       "    <tr>\n",
       "      <th>1</th>\n",
       "      <td>Royal Enfield Classic 350cc 2017</td>\n",
       "      <td>Royal Enfield</td>\n",
       "      <td>350</td>\n",
       "      <td>2017</td>\n",
       "      <td>Delhi</td>\n",
       "      <td>11000</td>\n",
       "      <td>First Owner</td>\n",
       "      <td>119900</td>\n",
       "    </tr>\n",
       "    <tr>\n",
       "      <th>3</th>\n",
       "      <td>TVS Apache RTR 180cc 2017</td>\n",
       "      <td>TVS Apache</td>\n",
       "      <td>180</td>\n",
       "      <td>2017</td>\n",
       "      <td>Bangalore</td>\n",
       "      <td>16329</td>\n",
       "      <td>First Owner</td>\n",
       "      <td>65000</td>\n",
       "    </tr>\n",
       "    <tr>\n",
       "      <th>4</th>\n",
       "      <td>Yamaha FZ S V 2.0 150cc-Ltd. Edition 2018</td>\n",
       "      <td>Yamaha FZ V 2.0</td>\n",
       "      <td>150</td>\n",
       "      <td>2018</td>\n",
       "      <td>Bangalore</td>\n",
       "      <td>10000</td>\n",
       "      <td>First Owner</td>\n",
       "      <td>80000</td>\n",
       "    </tr>\n",
       "    <tr>\n",
       "      <th>5</th>\n",
       "      <td>Yamaha FZs 150cc 2015</td>\n",
       "      <td>Yamaha FZs</td>\n",
       "      <td>150</td>\n",
       "      <td>2015</td>\n",
       "      <td>Delhi</td>\n",
       "      <td>25000</td>\n",
       "      <td>First Owner</td>\n",
       "      <td>53499</td>\n",
       "    </tr>\n",
       "  </tbody>\n",
       "</table>\n",
       "</div>"
      ],
      "text/plain": [
       "                                        Name            Model  Cubic_Capacity  \\\n",
       "0    TVS Star City Plus Dual Tone 110cc 2018         TVS Star             110   \n",
       "1           Royal Enfield Classic 350cc 2017    Royal Enfield             350   \n",
       "3                  TVS Apache RTR 180cc 2017       TVS Apache             180   \n",
       "4  Yamaha FZ S V 2.0 150cc-Ltd. Edition 2018  Yamaha FZ V 2.0             150   \n",
       "5                      Yamaha FZs 150cc 2015       Yamaha FZs             150   \n",
       "\n",
       "   Year   Location  Running        Owner   Price  \n",
       "0  2018  Ahmedabad    17654  First Owner   35000  \n",
       "1  2017      Delhi    11000  First Owner  119900  \n",
       "3  2017  Bangalore    16329  First Owner   65000  \n",
       "4  2018  Bangalore    10000  First Owner   80000  \n",
       "5  2015      Delhi    25000  First Owner   53499  "
      ]
     },
     "execution_count": 745,
     "metadata": {},
     "output_type": "execute_result"
    }
   ],
   "source": [
    "data.head()"
   ]
  },
  {
   "cell_type": "markdown",
   "metadata": {},
   "source": [
    "#### Encoding"
   ]
  },
  {
   "cell_type": "code",
   "execution_count": 746,
   "metadata": {},
   "outputs": [],
   "source": [
    "#One hot encoding for 'Owner' feature\n",
    "Owners=data['Owner']\n",
    "Owners=pd.get_dummies(Owners,drop_first=True)"
   ]
  },
  {
   "cell_type": "code",
   "execution_count": 747,
   "metadata": {},
   "outputs": [],
   "source": [
    "data=pd.concat([data,Owners],axis=1)"
   ]
  },
  {
   "cell_type": "code",
   "execution_count": 748,
   "metadata": {},
   "outputs": [],
   "source": [
    "#Count frequency encoding\n",
    "#Making dictionary of key=model and value=count\n",
    "#To learn more about count frequency encoding you can visit \n",
    "#Krish Naik's channel(https://www.youtube.com/watch?v=MPnNC6kkNC4)\n",
    "model_dict=data['Model'].value_counts().to_dict()"
   ]
  },
  {
   "cell_type": "code",
   "execution_count": 749,
   "metadata": {},
   "outputs": [
    {
     "data": {
      "text/plain": [
       "{'Bajaj Avenger': 4857,\n",
       " 'Royal Enfield': 4249,\n",
       " 'Bajaj Pulsar': 4221,\n",
       " 'Hero Passion': 2867,\n",
       " 'Yamaha Fazer': 1291,\n",
       " 'TVS Apache': 1061,\n",
       " 'KTM RC': 839,\n",
       " 'Yamaha YZF-R15 V 2.0': 776,\n",
       " 'Bajaj Platina': 735,\n",
       " 'Bajaj Dominar': 729,\n",
       " 'Harley-Davidson Street': 724,\n",
       " 'Hero CD': 708,\n",
       " 'Honda CB Hornet': 705,\n",
       " 'Hero CBZ Xtreme': 690,\n",
       " 'Honda CB Trigger': 681,\n",
       " 'Yamaha FZ': 670,\n",
       " 'Hero Hunk': 660,\n",
       " 'Hero Super': 655,\n",
       " 'Hyosung GT250R': 646,\n",
       " 'TVS Victor': 622,\n",
       " 'Suzuki Slingshot': 617,\n",
       " 'Yamaha SZ-RR': 613,\n",
       " 'Suzuki Zeus': 608,\n",
       " 'Hero Splendor': 430,\n",
       " 'Bajaj Discover': 397,\n",
       " 'KTM Duke': 261,\n",
       " 'Honda CB Shine': 192,\n",
       " 'Suzuki Gixxer': 176,\n",
       " 'Bajaj V15': 161,\n",
       " 'Yamaha YZF-R15': 148,\n",
       " 'Hero HF': 137,\n",
       " 'Yamaha FZs': 131,\n",
       " 'UM Renegade': 128,\n",
       " 'Honda CB Unicorn': 126,\n",
       " 'Bajaj CT': 107,\n",
       " 'TVS Star': 102,\n",
       " 'Hero Karizma': 99,\n",
       " 'Yamaha FZ V 2.0': 93,\n",
       " 'Honda CBF Stunner': 79,\n",
       " 'Honda CBR 150R': 75,\n",
       " 'Honda CBR 250R': 73,\n",
       " 'TVS Sport': 68,\n",
       " 'Honda Dream': 67,\n",
       " 'Hero Glamour': 56,\n",
       " 'Yamaha FZ16': 53,\n",
       " 'Benelli TNT': 50,\n",
       " 'Kawasaki Ninja': 48,\n",
       " 'Yamaha FZ25': 46,\n",
       " 'Honda Livo': 42,\n",
       " 'Suzuki Intruder': 41,\n",
       " 'Honda CB Twister': 40,\n",
       " 'Hero Ignitor': 39,\n",
       " 'Hero Xtreme': 35,\n",
       " 'Yamaha SZR': 34,\n",
       " 'Mahindra Centuro': 32,\n",
       " 'Harley-Davidson Iron': 29,\n",
       " 'Bajaj ': 26,\n",
       " 'Hero Honda': 25,\n",
       " 'Mahindra Mojo': 24,\n",
       " 'TVS Apache V 2.0': 22,\n",
       " 'Bajaj V12': 21,\n",
       " 'Honda CB ShineSP': 20,\n",
       " 'Hyosung Aquila': 19,\n",
       " 'Honda CD': 18,\n",
       " 'Yamaha FZS': 15,\n",
       " 'Harley-Davidson Fat': 14,\n",
       " 'Hero CBZ 150cc': 13,\n",
       " 'Hyosung GT650R': 12,\n",
       " 'Yamaha Saluto': 11}"
      ]
     },
     "execution_count": 749,
     "metadata": {},
     "output_type": "execute_result"
    }
   ],
   "source": [
    "model_dict"
   ]
  },
  {
   "cell_type": "code",
   "execution_count": 750,
   "metadata": {},
   "outputs": [],
   "source": [
    "#Adding a column to dataframe with the value count of each model\n",
    "data['Bike_Model']=data['Model'].map(model_dict)"
   ]
  },
  {
   "cell_type": "code",
   "execution_count": 751,
   "metadata": {},
   "outputs": [
    {
     "data": {
      "text/html": [
       "<div>\n",
       "<style scoped>\n",
       "    .dataframe tbody tr th:only-of-type {\n",
       "        vertical-align: middle;\n",
       "    }\n",
       "\n",
       "    .dataframe tbody tr th {\n",
       "        vertical-align: top;\n",
       "    }\n",
       "\n",
       "    .dataframe thead th {\n",
       "        text-align: right;\n",
       "    }\n",
       "</style>\n",
       "<table border=\"1\" class=\"dataframe\">\n",
       "  <thead>\n",
       "    <tr style=\"text-align: right;\">\n",
       "      <th></th>\n",
       "      <th>Name</th>\n",
       "      <th>Model</th>\n",
       "      <th>Cubic_Capacity</th>\n",
       "      <th>Year</th>\n",
       "      <th>Location</th>\n",
       "      <th>Running</th>\n",
       "      <th>Owner</th>\n",
       "      <th>Price</th>\n",
       "      <th>Fourth Owner Or More</th>\n",
       "      <th>Second Owner</th>\n",
       "      <th>Third Owner</th>\n",
       "      <th>Bike_Model</th>\n",
       "    </tr>\n",
       "  </thead>\n",
       "  <tbody>\n",
       "    <tr>\n",
       "      <th>0</th>\n",
       "      <td>TVS Star City Plus Dual Tone 110cc 2018</td>\n",
       "      <td>TVS Star</td>\n",
       "      <td>110</td>\n",
       "      <td>2018</td>\n",
       "      <td>Ahmedabad</td>\n",
       "      <td>17654</td>\n",
       "      <td>First Owner</td>\n",
       "      <td>35000</td>\n",
       "      <td>0</td>\n",
       "      <td>0</td>\n",
       "      <td>0</td>\n",
       "      <td>102</td>\n",
       "    </tr>\n",
       "    <tr>\n",
       "      <th>1</th>\n",
       "      <td>Royal Enfield Classic 350cc 2017</td>\n",
       "      <td>Royal Enfield</td>\n",
       "      <td>350</td>\n",
       "      <td>2017</td>\n",
       "      <td>Delhi</td>\n",
       "      <td>11000</td>\n",
       "      <td>First Owner</td>\n",
       "      <td>119900</td>\n",
       "      <td>0</td>\n",
       "      <td>0</td>\n",
       "      <td>0</td>\n",
       "      <td>4249</td>\n",
       "    </tr>\n",
       "    <tr>\n",
       "      <th>3</th>\n",
       "      <td>TVS Apache RTR 180cc 2017</td>\n",
       "      <td>TVS Apache</td>\n",
       "      <td>180</td>\n",
       "      <td>2017</td>\n",
       "      <td>Bangalore</td>\n",
       "      <td>16329</td>\n",
       "      <td>First Owner</td>\n",
       "      <td>65000</td>\n",
       "      <td>0</td>\n",
       "      <td>0</td>\n",
       "      <td>0</td>\n",
       "      <td>1061</td>\n",
       "    </tr>\n",
       "    <tr>\n",
       "      <th>4</th>\n",
       "      <td>Yamaha FZ S V 2.0 150cc-Ltd. Edition 2018</td>\n",
       "      <td>Yamaha FZ V 2.0</td>\n",
       "      <td>150</td>\n",
       "      <td>2018</td>\n",
       "      <td>Bangalore</td>\n",
       "      <td>10000</td>\n",
       "      <td>First Owner</td>\n",
       "      <td>80000</td>\n",
       "      <td>0</td>\n",
       "      <td>0</td>\n",
       "      <td>0</td>\n",
       "      <td>93</td>\n",
       "    </tr>\n",
       "    <tr>\n",
       "      <th>5</th>\n",
       "      <td>Yamaha FZs 150cc 2015</td>\n",
       "      <td>Yamaha FZs</td>\n",
       "      <td>150</td>\n",
       "      <td>2015</td>\n",
       "      <td>Delhi</td>\n",
       "      <td>25000</td>\n",
       "      <td>First Owner</td>\n",
       "      <td>53499</td>\n",
       "      <td>0</td>\n",
       "      <td>0</td>\n",
       "      <td>0</td>\n",
       "      <td>131</td>\n",
       "    </tr>\n",
       "  </tbody>\n",
       "</table>\n",
       "</div>"
      ],
      "text/plain": [
       "                                        Name            Model  Cubic_Capacity  \\\n",
       "0    TVS Star City Plus Dual Tone 110cc 2018         TVS Star             110   \n",
       "1           Royal Enfield Classic 350cc 2017    Royal Enfield             350   \n",
       "3                  TVS Apache RTR 180cc 2017       TVS Apache             180   \n",
       "4  Yamaha FZ S V 2.0 150cc-Ltd. Edition 2018  Yamaha FZ V 2.0             150   \n",
       "5                      Yamaha FZs 150cc 2015       Yamaha FZs             150   \n",
       "\n",
       "   Year   Location  Running        Owner   Price  Fourth Owner Or More  \\\n",
       "0  2018  Ahmedabad    17654  First Owner   35000                     0   \n",
       "1  2017      Delhi    11000  First Owner  119900                     0   \n",
       "3  2017  Bangalore    16329  First Owner   65000                     0   \n",
       "4  2018  Bangalore    10000  First Owner   80000                     0   \n",
       "5  2015      Delhi    25000  First Owner   53499                     0   \n",
       "\n",
       "   Second Owner  Third Owner  Bike_Model  \n",
       "0             0            0         102  \n",
       "1             0            0        4249  \n",
       "3             0            0        1061  \n",
       "4             0            0          93  \n",
       "5             0            0         131  "
      ]
     },
     "execution_count": 751,
     "metadata": {},
     "output_type": "execute_result"
    }
   ],
   "source": [
    "data.head()"
   ]
  },
  {
   "cell_type": "markdown",
   "metadata": {},
   "source": [
    "##### Handling location feature\n",
    "The location column has many unique many values.\n",
    "As some user have entered their city some have entered district and some have entered state.\n",
    "To reduce the number of the unique values I have converted the the city and district into its state name.\n",
    "For this converion I used 2001 Census data (http://censusindia.gov.in/Tables_Published/Admin_Units/Admin_links/Town_Codes_2001.xls)"
   ]
  },
  {
   "cell_type": "code",
   "execution_count": 752,
   "metadata": {},
   "outputs": [
    {
     "data": {
      "text/plain": [
       "475"
      ]
     },
     "execution_count": 752,
     "metadata": {},
     "output_type": "execute_result"
    }
   ],
   "source": [
    "len(data['Location'].unique())"
   ]
  },
  {
   "cell_type": "code",
   "execution_count": 753,
   "metadata": {},
   "outputs": [
    {
     "data": {
      "text/plain": [
       "array(['Ahmedabad', 'Delhi', 'Bangalore', 'Mumbai', 'Bhubaneshwar',\n",
       "       'Kalyan', 'Faridabad', 'Hyderabad', 'Kaithal', 'Gurgaon', 'Pune',\n",
       "       'Noida', 'Nashik', 'Kochi', 'Allahabad', 'Samastipur', 'Nadiad',\n",
       "       'Lucknow', 'Jaipur', 'Karnal', 'Gorakhpur', 'Hosur', 'Baripara',\n",
       "       'Agra', 'Dharwad', 'Vadodara', 'Jalandhar', 'Surat', 'Chennai',\n",
       "       'Navi Mumbai', 'Gandhidham', 'Visakhapatnam', 'Thrissur',\n",
       "       'Kolkata', 'Ernakulam', 'Ghaziabad', 'Amritsar', 'Bagalkot',\n",
       "       'Hamirpur(hp)', 'Kottayam', 'Arrah', 'Patiala', 'Ranga Reddy',\n",
       "       'Mandi', 'Gwalior', 'Ludhiana', 'Mandya', 'Siliguri', 'Aurangabad',\n",
       "       'Kanpur', 'Bhilwara', 'Korba', 'Meerut', 'Rewari', 'Ahmednagar',\n",
       "       'Wardha', 'Chandigarh', 'Ranchi', 'Coimbatore', 'Panvel', 'Thane',\n",
       "       'Jabalpur', 'Kota', 'Rohtak', 'Rajkot', 'Haridwar', 'Varanasi',\n",
       "       '24 Pargana', 'Banka', 'Nagpur', 'Pali', 'Chhatarpur', 'Katihar',\n",
       "       'Rudrapur', 'Jajpur', 'Mysore', 'Adoni', 'Bikaner', 'Malout',\n",
       "       'Jammu', 'Rajnandgaon', 'Unnao', 'Godhara', 'Kolhapur', 'Satara',\n",
       "       'Siwan', 'Dadra & Nagar Haveli', 'Bhiwani', 'Nizamabad', 'Madurai',\n",
       "       'Bhopal', 'Ujjain', 'Jagdalpur', 'Palakkad', 'Tiruvallur',\n",
       "       'Panchkula', 'Nanjangud', 'Jhansi', 'Sonipat', 'Puttur',\n",
       "       'Hoshiarpur', 'Gohana', 'Gautam Buddha Nagar', 'Palwal',\n",
       "       'Chatrapur', 'Howrah', 'Jind', 'Hubli', 'Panipat', 'Bharatpur',\n",
       "       'Vellore', 'Ambala', 'Guwahati', 'Indore', 'Gangtok',\n",
       "       'Tiruchirappalli', 'Medak', 'Belgaum', 'Balaghat', 'Jatani',\n",
       "       'Asansol', 'Bilaspur', 'Thanjavur', 'Raigarh(mh)', 'Mandi Dabwali',\n",
       "       'Basti', 'Aligarh', 'Balrampur', 'Ratnagiri', 'Muktsar', 'Baran',\n",
       "       'Haldwani', 'Thiruvananthapuram', 'Buxar', 'Chaksu', 'Bharuch',\n",
       "       'Muvattupuzha', 'Patna', 'Simdega', 'Singhbhum', 'Bardhaman',\n",
       "       'Pathankot', 'Kharar', 'Silchar', 'Jhalawar', 'Roorkee',\n",
       "       'Durgapur', 'Saharanpur', 'Solapur', 'Katni', 'Khedbrahma',\n",
       "       'Valsad', 'Satna', 'Hooghly', 'Gurdaspur', 'Mohali', 'Dadri',\n",
       "       'Amravati', 'Durg', 'Mehsana', 'Lansdowne', 'Cuttack', 'Jaisalmer',\n",
       "       'Hanumangarh', 'Dungarpur', 'Sri Ganganagar', 'Raipur', 'Margao',\n",
       "       'Chinsurah', 'Bhatinda', 'Sibsagar', 'Khalilabad', 'Dehradun',\n",
       "       'Anand', 'Sambalpur', 'Purnia', 'Tiruverkadu', 'Bahadurgarh',\n",
       "       'Raipur Rani', 'Jodhpur', 'Sheikhpura', 'Lalsot', 'Pondicherry',\n",
       "       'Sirsa', 'Godavari', 'Ajmer', 'Moradabad', 'Navsari', 'Herbertpur',\n",
       "       'Jamshedpur', 'Ramanagar', 'Udaipur', 'Vijayawada', 'Murad Nagar',\n",
       "       'Jamtara', 'Uppidamangalam', 'Nalagarh', 'Una', 'Chakan', 'Idukki',\n",
       "       'Shivpuri', 'Arkalgud', 'Bidar', 'Rupnagar', 'Almora', 'Deoghar',\n",
       "       'Kanchipuram', 'Vapi', 'Kasargode', 'Dhanbad', 'Dakshina Kannada',\n",
       "       'Dayalbagh', 'Ganaur', 'Jamalpur', 'Amraoti', 'Mangalore',\n",
       "       'Deolali', 'Gandhinagar', 'Chitradurga', 'Chinchwad',\n",
       "       'Surendranagar', 'Jhajjar', 'Ankleshwar', 'Alwar', 'Ranoli',\n",
       "       'Raiwala', 'Guntur', 'Badarpur', 'Adalaj', 'Alipore',\n",
       "       'Bhawani Mandi', 'Mughalsarai', 'Kollam', 'Medinipur',\n",
       "       'Farukhabad', 'Thiruvallur', 'Udaipurwati', 'Rasra', 'Latur',\n",
       "       'Krishna', 'Gangaikondan', 'Warangal', 'Uluberia', 'Bulandshahr',\n",
       "       'Mahesana', 'Poonamallee', 'Morena', 'Nagaon', 'Hissar',\n",
       "       'Kanyakumari', 'Morbi', 'Jalgaon', 'Bankura', 'Virar', 'Akola',\n",
       "       'Tikamgarh', 'Sultanpur', 'Ferozepur', 'Tirunelveli',\n",
       "       'Bihar Shariff', 'Risod', 'Vastral', 'Doiwala', 'Ganganagar',\n",
       "       'Kolar', 'Batala', 'Budhlada', 'Dohad', 'Vidisha', 'Puri', 'Etwah',\n",
       "       'Muzaffarnagar', 'Panaji', 'Adyar', 'Calicut', 'Raigarh',\n",
       "       'Sonepat', 'Chikkaballapur', 'Kasba', 'Burdwan', 'Anjar',\n",
       "       'Marandahalli', 'Badaun', 'Namakkal', 'Idar', 'Uran', 'Hingoli',\n",
       "       'Alibag', 'Hathras', 'Khandela', 'Kullu', 'Mohammadabad',\n",
       "       'Sangareddy', 'Ghazipur', 'Shimla', 'Azamgarh', 'Lonavala',\n",
       "       'Chenani', 'Kanpur Nagar', 'Trivandrum', 'Secunderabad', 'Tasgaon',\n",
       "       'Kurukshetra', 'Dhariawad', 'Dhenkanal', 'Bargarh', 'Gadarpur',\n",
       "       'Chikamaglur', 'Karim Nagar', 'Kotdwar', 'Jalaun', 'Parola',\n",
       "       'Bareilly', 'Salem', 'Indi', 'Muzaffarpur', 'Nayagarh',\n",
       "       'Bhavnagar', 'Firozabad', 'Ambikapur', 'Udupi', 'Junagadh',\n",
       "       'Dibrugarh', 'Faridkot', 'Naraingarh', 'Karwar', 'Mirzapur',\n",
       "       'Goa-panaji', 'Sant Kabir Nagar', 'Viramgam', 'Manali', 'Gadwal',\n",
       "       'Honavar', 'Mathura', 'Khandwa', 'Solan', 'Dharmapuri', 'Sitapur',\n",
       "       'Krishnagar', 'Betul', 'Anantapur', 'Sholapur', 'Pinjore',\n",
       "       'Qadian', 'Sangrur', 'Jorhat', 'Palanpur', 'Narnaul', 'Palamu',\n",
       "       'Kiratpur', 'Falakata', 'Porbandar', 'Nagaur', 'Dwarka', 'Rangpo',\n",
       "       'Dewas', 'Cannanore (kannur)', 'Churu', 'Hazipur', 'Kordha',\n",
       "       'Baghpat', 'Jhumri Tilaiya', 'Bhagalpur', 'Naihati',\n",
       "       'Virudhunagar', 'Dharmavaram', 'Mahboobnagar', 'Darbhanga',\n",
       "       'Nawanshahr', 'Hamirpur', 'Adilabad', 'Sangli', 'Suri',\n",
       "       'Yamuna Nagar', 'Vasai', 'Aluva', 'Sirsi', 'Bijapur', 'Bhiwadi',\n",
       "       'Bellary', 'Erode', 'Aquem', 'Nellore', 'Udhampur', 'Dhamtari',\n",
       "       'Kapurthala', 'Vandalur', 'Sakti', 'Jamui', 'Bhiwandi', 'Motihari',\n",
       "       'Dharwar', 'Shimoga', 'Jhunjhunu', 'Bijnor', 'Sindri',\n",
       "       'Yemmiganur', 'Bokaro', 'Kurnool', 'Srinagar', 'Ranip',\n",
       "       'Davanagere', 'Gonda', 'Rajouri', 'Begusarai', 'Barwani',\n",
       "       'Goregaon', 'Bally', 'Kachchh', 'Bhuj', 'Mansa', 'Pen', 'Nanded',\n",
       "       'Dharamasala', 'Chhindwara', 'Jamnagar', 'Zirakpur', 'Abohar',\n",
       "       'Barabanki', 'Nabha', 'Kadapa', 'Perumbavoor', 'Sundargarh',\n",
       "       'Nazira', 'Pratapgarh', 'Thangadh', 'Sikar', 'Barasat',\n",
       "       'Vizianagaram', 'Kathua', 'Berhampore', 'Kadipur', 'Deesa',\n",
       "       'Tiruppur', 'Gadchiroli', 'Gangaghat', 'Phagwara', 'Kheda',\n",
       "       'Swaimadhopur', 'Akbarpur', 'Kharagpur', 'Jobner', 'Gondia',\n",
       "       'Bundi', 'Dongargaon', 'Mubarakpur', 'Chail', 'Tumkur', 'Sanand',\n",
       "       'Kartarpur', 'Farrukhabad', 'Kadi', 'Seppa', 'Challakere',\n",
       "       'Dhubri', 'Deoria', 'Akot', 'Meenachil', 'Alappuzha', 'Shillong',\n",
       "       'Osmanabad', 'Kanakapura', 'Kendua', 'Jaunpur', 'Hisar', 'Bodhan',\n",
       "       'Bhubaneswar', 'Raiganj', 'Bhilai Nagar', 'Baloda', 'Anantnag',\n",
       "       'Silvasa', 'Hospet', 'Palai', 'Sidhi'], dtype=object)"
      ]
     },
     "execution_count": 753,
     "metadata": {},
     "output_type": "execute_result"
    }
   ],
   "source": [
    "data.Location.unique()"
   ]
  },
  {
   "cell_type": "code",
   "execution_count": 754,
   "metadata": {},
   "outputs": [],
   "source": [
    "#Reading census data\n",
    "census=pd.read_excel('census.xls',sheet_name='Sheet1')"
   ]
  },
  {
   "cell_type": "code",
   "execution_count": 755,
   "metadata": {},
   "outputs": [
    {
     "data": {
      "text/html": [
       "<div>\n",
       "<style scoped>\n",
       "    .dataframe tbody tr th:only-of-type {\n",
       "        vertical-align: middle;\n",
       "    }\n",
       "\n",
       "    .dataframe tbody tr th {\n",
       "        vertical-align: top;\n",
       "    }\n",
       "\n",
       "    .dataframe thead th {\n",
       "        text-align: right;\n",
       "    }\n",
       "</style>\n",
       "<table border=\"1\" class=\"dataframe\">\n",
       "  <thead>\n",
       "    <tr style=\"text-align: right;\">\n",
       "      <th></th>\n",
       "      <th>Code List of Cities/Towns (in alphabetical order): 2001</th>\n",
       "      <th>Unnamed: 1</th>\n",
       "      <th>Unnamed: 2</th>\n",
       "      <th>Unnamed: 3</th>\n",
       "      <th>Unnamed: 4</th>\n",
       "      <th>Unnamed: 5</th>\n",
       "      <th>Unnamed: 6</th>\n",
       "    </tr>\n",
       "  </thead>\n",
       "  <tbody>\n",
       "    <tr>\n",
       "      <th>0</th>\n",
       "      <td>NaN</td>\n",
       "      <td>NaN</td>\n",
       "      <td>NaN</td>\n",
       "      <td>NaN</td>\n",
       "      <td>NaN</td>\n",
       "      <td>NaN</td>\n",
       "      <td>NaN</td>\n",
       "    </tr>\n",
       "    <tr>\n",
       "      <th>1</th>\n",
       "      <td>Sl. No.</td>\n",
       "      <td>City/Town</td>\n",
       "      <td>Urban Status</td>\n",
       "      <td>State Code</td>\n",
       "      <td>State/                                        ...</td>\n",
       "      <td>District Code</td>\n",
       "      <td>District</td>\n",
       "    </tr>\n",
       "    <tr>\n",
       "      <th>2</th>\n",
       "      <td>NaN</td>\n",
       "      <td>NaN</td>\n",
       "      <td>NaN</td>\n",
       "      <td>NaN</td>\n",
       "      <td>NaN</td>\n",
       "      <td>NaN</td>\n",
       "      <td>NaN</td>\n",
       "    </tr>\n",
       "    <tr>\n",
       "      <th>3</th>\n",
       "      <td>1</td>\n",
       "      <td>2</td>\n",
       "      <td>3</td>\n",
       "      <td>4</td>\n",
       "      <td>5</td>\n",
       "      <td>6</td>\n",
       "      <td>7</td>\n",
       "    </tr>\n",
       "    <tr>\n",
       "      <th>4</th>\n",
       "      <td>NaN</td>\n",
       "      <td>NaN</td>\n",
       "      <td>NaN</td>\n",
       "      <td>NaN</td>\n",
       "      <td>NaN</td>\n",
       "      <td>NaN</td>\n",
       "      <td>NaN</td>\n",
       "    </tr>\n",
       "  </tbody>\n",
       "</table>\n",
       "</div>"
      ],
      "text/plain": [
       "  Code List of Cities/Towns (in alphabetical order): 2001 Unnamed: 1  \\\n",
       "0                                                NaN             NaN   \n",
       "1                                            Sl. No.       City/Town   \n",
       "2                                                NaN             NaN   \n",
       "3                                                  1               2   \n",
       "4                                                NaN             NaN   \n",
       "\n",
       "     Unnamed: 2  Unnamed: 3  \\\n",
       "0           NaN         NaN   \n",
       "1  Urban Status  State Code   \n",
       "2           NaN         NaN   \n",
       "3             3           4   \n",
       "4           NaN         NaN   \n",
       "\n",
       "                                          Unnamed: 4     Unnamed: 5 Unnamed: 6  \n",
       "0                                                NaN            NaN        NaN  \n",
       "1  State/                                        ...  District Code   District  \n",
       "2                                                NaN            NaN        NaN  \n",
       "3                                                  5              6          7  \n",
       "4                                                NaN            NaN        NaN  "
      ]
     },
     "execution_count": 755,
     "metadata": {},
     "output_type": "execute_result"
    }
   ],
   "source": [
    "census.head()"
   ]
  },
  {
   "cell_type": "code",
   "execution_count": 756,
   "metadata": {},
   "outputs": [
    {
     "data": {
      "text/plain": [
       "Index(['Code List of Cities/Towns (in alphabetical order): 2001', 'Unnamed: 1',\n",
       "       'Unnamed: 2', 'Unnamed: 3', 'Unnamed: 4', 'Unnamed: 5', 'Unnamed: 6'],\n",
       "      dtype='object')"
      ]
     },
     "execution_count": 756,
     "metadata": {},
     "output_type": "execute_result"
    }
   ],
   "source": [
    "census.columns"
   ]
  },
  {
   "cell_type": "code",
   "execution_count": 757,
   "metadata": {},
   "outputs": [],
   "source": [
    "#Renaming columns\n",
    "census.rename(columns={'Code List of Cities/Towns (in alphabetical order): 2001':'Drop',\n",
    "                           'Unnamed: 1':'City','Unnamed: 2':'Drop1','Unnamed: 3':'Drop2',\n",
    "                           'Unnamed: 4':'State','Unnamed: 5':'d3','Unnamed: 6':'District'},inplace=True)"
   ]
  },
  {
   "cell_type": "code",
   "execution_count": 758,
   "metadata": {},
   "outputs": [
    {
     "data": {
      "text/html": [
       "<div>\n",
       "<style scoped>\n",
       "    .dataframe tbody tr th:only-of-type {\n",
       "        vertical-align: middle;\n",
       "    }\n",
       "\n",
       "    .dataframe tbody tr th {\n",
       "        vertical-align: top;\n",
       "    }\n",
       "\n",
       "    .dataframe thead th {\n",
       "        text-align: right;\n",
       "    }\n",
       "</style>\n",
       "<table border=\"1\" class=\"dataframe\">\n",
       "  <thead>\n",
       "    <tr style=\"text-align: right;\">\n",
       "      <th></th>\n",
       "      <th>Drop</th>\n",
       "      <th>City</th>\n",
       "      <th>Drop1</th>\n",
       "      <th>Drop2</th>\n",
       "      <th>State</th>\n",
       "      <th>d3</th>\n",
       "      <th>District</th>\n",
       "    </tr>\n",
       "  </thead>\n",
       "  <tbody>\n",
       "    <tr>\n",
       "      <th>0</th>\n",
       "      <td>NaN</td>\n",
       "      <td>NaN</td>\n",
       "      <td>NaN</td>\n",
       "      <td>NaN</td>\n",
       "      <td>NaN</td>\n",
       "      <td>NaN</td>\n",
       "      <td>NaN</td>\n",
       "    </tr>\n",
       "    <tr>\n",
       "      <th>1</th>\n",
       "      <td>Sl. No.</td>\n",
       "      <td>City/Town</td>\n",
       "      <td>Urban Status</td>\n",
       "      <td>State Code</td>\n",
       "      <td>State/                                        ...</td>\n",
       "      <td>District Code</td>\n",
       "      <td>District</td>\n",
       "    </tr>\n",
       "    <tr>\n",
       "      <th>2</th>\n",
       "      <td>NaN</td>\n",
       "      <td>NaN</td>\n",
       "      <td>NaN</td>\n",
       "      <td>NaN</td>\n",
       "      <td>NaN</td>\n",
       "      <td>NaN</td>\n",
       "      <td>NaN</td>\n",
       "    </tr>\n",
       "    <tr>\n",
       "      <th>3</th>\n",
       "      <td>1</td>\n",
       "      <td>2</td>\n",
       "      <td>3</td>\n",
       "      <td>4</td>\n",
       "      <td>5</td>\n",
       "      <td>6</td>\n",
       "      <td>7</td>\n",
       "    </tr>\n",
       "    <tr>\n",
       "      <th>4</th>\n",
       "      <td>NaN</td>\n",
       "      <td>NaN</td>\n",
       "      <td>NaN</td>\n",
       "      <td>NaN</td>\n",
       "      <td>NaN</td>\n",
       "      <td>NaN</td>\n",
       "      <td>NaN</td>\n",
       "    </tr>\n",
       "    <tr>\n",
       "      <th>5</th>\n",
       "      <td>1</td>\n",
       "      <td>1 SGM</td>\n",
       "      <td>C.T.</td>\n",
       "      <td>8</td>\n",
       "      <td>Rajasthan</td>\n",
       "      <td>1</td>\n",
       "      <td>Ganganagar</td>\n",
       "    </tr>\n",
       "    <tr>\n",
       "      <th>6</th>\n",
       "      <td>2</td>\n",
       "      <td>3 STR</td>\n",
       "      <td>C.T.</td>\n",
       "      <td>8</td>\n",
       "      <td>Rajasthan</td>\n",
       "      <td>1</td>\n",
       "      <td>Ganganagar</td>\n",
       "    </tr>\n",
       "    <tr>\n",
       "      <th>7</th>\n",
       "      <td>3</td>\n",
       "      <td>A.Thirumuruganpoondi</td>\n",
       "      <td>T.P.</td>\n",
       "      <td>33</td>\n",
       "      <td>Tamil Nadu</td>\n",
       "      <td>12</td>\n",
       "      <td>Coimbatore</td>\n",
       "    </tr>\n",
       "    <tr>\n",
       "      <th>8</th>\n",
       "      <td>4</td>\n",
       "      <td>A.Vellalapatti</td>\n",
       "      <td>T.P.</td>\n",
       "      <td>33</td>\n",
       "      <td>Tamil Nadu</td>\n",
       "      <td>24</td>\n",
       "      <td>Madurai</td>\n",
       "    </tr>\n",
       "    <tr>\n",
       "      <th>9</th>\n",
       "      <td>5</td>\n",
       "      <td>Aadityana</td>\n",
       "      <td>C.T.</td>\n",
       "      <td>24</td>\n",
       "      <td>Gujarat</td>\n",
       "      <td>11</td>\n",
       "      <td>Porbandar</td>\n",
       "    </tr>\n",
       "  </tbody>\n",
       "</table>\n",
       "</div>"
      ],
      "text/plain": [
       "      Drop                  City         Drop1       Drop2  \\\n",
       "0      NaN                   NaN           NaN         NaN   \n",
       "1  Sl. No.             City/Town  Urban Status  State Code   \n",
       "2      NaN                   NaN           NaN         NaN   \n",
       "3        1                     2             3           4   \n",
       "4      NaN                   NaN           NaN         NaN   \n",
       "5        1                 1 SGM          C.T.           8   \n",
       "6        2                 3 STR          C.T.           8   \n",
       "7        3  A.Thirumuruganpoondi          T.P.          33   \n",
       "8        4        A.Vellalapatti          T.P.          33   \n",
       "9        5             Aadityana          C.T.          24   \n",
       "\n",
       "                                               State             d3  \\\n",
       "0                                                NaN            NaN   \n",
       "1  State/                                        ...  District Code   \n",
       "2                                                NaN            NaN   \n",
       "3                                                  5              6   \n",
       "4                                                NaN            NaN   \n",
       "5                                          Rajasthan              1   \n",
       "6                                          Rajasthan              1   \n",
       "7                                         Tamil Nadu             12   \n",
       "8                                         Tamil Nadu             24   \n",
       "9                                            Gujarat             11   \n",
       "\n",
       "     District  \n",
       "0         NaN  \n",
       "1    District  \n",
       "2         NaN  \n",
       "3           7  \n",
       "4         NaN  \n",
       "5  Ganganagar  \n",
       "6  Ganganagar  \n",
       "7  Coimbatore  \n",
       "8     Madurai  \n",
       "9   Porbandar  "
      ]
     },
     "execution_count": 758,
     "metadata": {},
     "output_type": "execute_result"
    }
   ],
   "source": [
    "census.head(10)"
   ]
  },
  {
   "cell_type": "code",
   "execution_count": 759,
   "metadata": {},
   "outputs": [],
   "source": [
    "#Dropping the columns which are not required\n",
    "census.drop(['Drop','Drop1','Drop2','d3'],axis=1,inplace=True)"
   ]
  },
  {
   "cell_type": "code",
   "execution_count": 760,
   "metadata": {
    "scrolled": true
   },
   "outputs": [
    {
     "data": {
      "text/html": [
       "<div>\n",
       "<style scoped>\n",
       "    .dataframe tbody tr th:only-of-type {\n",
       "        vertical-align: middle;\n",
       "    }\n",
       "\n",
       "    .dataframe tbody tr th {\n",
       "        vertical-align: top;\n",
       "    }\n",
       "\n",
       "    .dataframe thead th {\n",
       "        text-align: right;\n",
       "    }\n",
       "</style>\n",
       "<table border=\"1\" class=\"dataframe\">\n",
       "  <thead>\n",
       "    <tr style=\"text-align: right;\">\n",
       "      <th></th>\n",
       "      <th>City</th>\n",
       "      <th>State</th>\n",
       "      <th>District</th>\n",
       "    </tr>\n",
       "  </thead>\n",
       "  <tbody>\n",
       "    <tr>\n",
       "      <th>0</th>\n",
       "      <td>NaN</td>\n",
       "      <td>NaN</td>\n",
       "      <td>NaN</td>\n",
       "    </tr>\n",
       "    <tr>\n",
       "      <th>1</th>\n",
       "      <td>City/Town</td>\n",
       "      <td>State/                                        ...</td>\n",
       "      <td>District</td>\n",
       "    </tr>\n",
       "    <tr>\n",
       "      <th>2</th>\n",
       "      <td>NaN</td>\n",
       "      <td>NaN</td>\n",
       "      <td>NaN</td>\n",
       "    </tr>\n",
       "    <tr>\n",
       "      <th>3</th>\n",
       "      <td>2</td>\n",
       "      <td>5</td>\n",
       "      <td>7</td>\n",
       "    </tr>\n",
       "    <tr>\n",
       "      <th>4</th>\n",
       "      <td>NaN</td>\n",
       "      <td>NaN</td>\n",
       "      <td>NaN</td>\n",
       "    </tr>\n",
       "    <tr>\n",
       "      <th>5</th>\n",
       "      <td>1 SGM</td>\n",
       "      <td>Rajasthan</td>\n",
       "      <td>Ganganagar</td>\n",
       "    </tr>\n",
       "    <tr>\n",
       "      <th>6</th>\n",
       "      <td>3 STR</td>\n",
       "      <td>Rajasthan</td>\n",
       "      <td>Ganganagar</td>\n",
       "    </tr>\n",
       "    <tr>\n",
       "      <th>7</th>\n",
       "      <td>A.Thirumuruganpoondi</td>\n",
       "      <td>Tamil Nadu</td>\n",
       "      <td>Coimbatore</td>\n",
       "    </tr>\n",
       "    <tr>\n",
       "      <th>8</th>\n",
       "      <td>A.Vellalapatti</td>\n",
       "      <td>Tamil Nadu</td>\n",
       "      <td>Madurai</td>\n",
       "    </tr>\n",
       "    <tr>\n",
       "      <th>9</th>\n",
       "      <td>Aadityana</td>\n",
       "      <td>Gujarat</td>\n",
       "      <td>Porbandar</td>\n",
       "    </tr>\n",
       "  </tbody>\n",
       "</table>\n",
       "</div>"
      ],
      "text/plain": [
       "                   City                                              State  \\\n",
       "0                   NaN                                                NaN   \n",
       "1             City/Town  State/                                        ...   \n",
       "2                   NaN                                                NaN   \n",
       "3                     2                                                  5   \n",
       "4                   NaN                                                NaN   \n",
       "5                 1 SGM                                          Rajasthan   \n",
       "6                 3 STR                                          Rajasthan   \n",
       "7  A.Thirumuruganpoondi                                         Tamil Nadu   \n",
       "8        A.Vellalapatti                                         Tamil Nadu   \n",
       "9             Aadityana                                            Gujarat   \n",
       "\n",
       "     District  \n",
       "0         NaN  \n",
       "1    District  \n",
       "2         NaN  \n",
       "3           7  \n",
       "4         NaN  \n",
       "5  Ganganagar  \n",
       "6  Ganganagar  \n",
       "7  Coimbatore  \n",
       "8     Madurai  \n",
       "9   Porbandar  "
      ]
     },
     "execution_count": 760,
     "metadata": {},
     "output_type": "execute_result"
    }
   ],
   "source": [
    "census.head(10)"
   ]
  },
  {
   "cell_type": "code",
   "execution_count": 761,
   "metadata": {},
   "outputs": [],
   "source": [
    "#Few rows from head and tail contains some different information so dropping them\n",
    "census.drop(census.index[:5],inplace=True)\n",
    "census.drop(census.index[5161:],inplace=True)"
   ]
  },
  {
   "cell_type": "code",
   "execution_count": 762,
   "metadata": {},
   "outputs": [
    {
     "data": {
      "text/html": [
       "<div>\n",
       "<style scoped>\n",
       "    .dataframe tbody tr th:only-of-type {\n",
       "        vertical-align: middle;\n",
       "    }\n",
       "\n",
       "    .dataframe tbody tr th {\n",
       "        vertical-align: top;\n",
       "    }\n",
       "\n",
       "    .dataframe thead th {\n",
       "        text-align: right;\n",
       "    }\n",
       "</style>\n",
       "<table border=\"1\" class=\"dataframe\">\n",
       "  <thead>\n",
       "    <tr style=\"text-align: right;\">\n",
       "      <th></th>\n",
       "      <th>City</th>\n",
       "      <th>State</th>\n",
       "      <th>District</th>\n",
       "    </tr>\n",
       "  </thead>\n",
       "  <tbody>\n",
       "    <tr>\n",
       "      <th>5</th>\n",
       "      <td>1 SGM</td>\n",
       "      <td>Rajasthan</td>\n",
       "      <td>Ganganagar</td>\n",
       "    </tr>\n",
       "    <tr>\n",
       "      <th>6</th>\n",
       "      <td>3 STR</td>\n",
       "      <td>Rajasthan</td>\n",
       "      <td>Ganganagar</td>\n",
       "    </tr>\n",
       "    <tr>\n",
       "      <th>7</th>\n",
       "      <td>A.Thirumuruganpoondi</td>\n",
       "      <td>Tamil Nadu</td>\n",
       "      <td>Coimbatore</td>\n",
       "    </tr>\n",
       "    <tr>\n",
       "      <th>8</th>\n",
       "      <td>A.Vellalapatti</td>\n",
       "      <td>Tamil Nadu</td>\n",
       "      <td>Madurai</td>\n",
       "    </tr>\n",
       "    <tr>\n",
       "      <th>9</th>\n",
       "      <td>Aadityana</td>\n",
       "      <td>Gujarat</td>\n",
       "      <td>Porbandar</td>\n",
       "    </tr>\n",
       "  </tbody>\n",
       "</table>\n",
       "</div>"
      ],
      "text/plain": [
       "                   City       State    District\n",
       "5                 1 SGM   Rajasthan  Ganganagar\n",
       "6                 3 STR   Rajasthan  Ganganagar\n",
       "7  A.Thirumuruganpoondi  Tamil Nadu  Coimbatore\n",
       "8        A.Vellalapatti  Tamil Nadu     Madurai\n",
       "9             Aadityana     Gujarat   Porbandar"
      ]
     },
     "execution_count": 762,
     "metadata": {},
     "output_type": "execute_result"
    }
   ],
   "source": [
    "census.head()"
   ]
  },
  {
   "cell_type": "code",
   "execution_count": 763,
   "metadata": {},
   "outputs": [
    {
     "data": {
      "text/plain": [
       "array(['Rajasthan', 'Tamil Nadu', 'Gujarat', 'Assam', 'Punjab',\n",
       "       'Jammu & Kashmir', 'Maharashtra', 'Uttar Pradesh',\n",
       "       'Andhra Pradesh', 'Karnataka', 'Jharkhand', 'Kerala',\n",
       "       'West Bengal', 'Madhya Pradesh', 'Tripura', 'Chhattisgarh',\n",
       "       'Mizoram', 'Goa', 'Delhi *', 'Uttaranchal', 'Arunachal Pradesh',\n",
       "       'Bihar', 'Haryana', 'Lakshadweep *', 'Dadra & Nagar Haveli *',\n",
       "       'Orissa', 'Manipur', 'Himachal Pradesh', 'Meghalaya',\n",
       "       'Andaman & Nicobar Islands *', 'Chandigarh *', 'Nagaland',\n",
       "       'Daman & Diu *', 'Sikkim', 'Pondicherry *'], dtype=object)"
      ]
     },
     "execution_count": 763,
     "metadata": {},
     "output_type": "execute_result"
    }
   ],
   "source": [
    "census['State'].unique()"
   ]
  },
  {
   "cell_type": "code",
   "execution_count": 764,
   "metadata": {},
   "outputs": [],
   "source": [
    "import pprint"
   ]
  },
  {
   "cell_type": "code",
   "execution_count": 765,
   "metadata": {},
   "outputs": [],
   "source": [
    "#Making a dictionary where key=city and value=state\n",
    "\n",
    "state_dict={}\n",
    "for state,city in census.groupby('State').City:\n",
    "    c=list(city)\n",
    "    for cc in c:\n",
    "        state_dict.update({cc: state})\n",
    "\n",
    "#pprint.pprint(state1)"
   ]
  },
  {
   "cell_type": "code",
   "execution_count": 766,
   "metadata": {},
   "outputs": [],
   "source": [
    "#Making a dictionary where key=district and value=state\n",
    "\n",
    "district_dict={}\n",
    "for state,district in census.groupby('State').District:\n",
    "    d=list(district)\n",
    "    for dd in d:\n",
    "        district_dict.update({dd: state})"
   ]
  },
  {
   "cell_type": "code",
   "execution_count": 767,
   "metadata": {},
   "outputs": [],
   "source": [
    "#I have done trial and error so I didn't wanted to mess with original dataframe that's created a copy\n",
    "dataset=data.copy()"
   ]
  },
  {
   "cell_type": "code",
   "execution_count": 768,
   "metadata": {},
   "outputs": [
    {
     "data": {
      "text/html": [
       "<div>\n",
       "<style scoped>\n",
       "    .dataframe tbody tr th:only-of-type {\n",
       "        vertical-align: middle;\n",
       "    }\n",
       "\n",
       "    .dataframe tbody tr th {\n",
       "        vertical-align: top;\n",
       "    }\n",
       "\n",
       "    .dataframe thead th {\n",
       "        text-align: right;\n",
       "    }\n",
       "</style>\n",
       "<table border=\"1\" class=\"dataframe\">\n",
       "  <thead>\n",
       "    <tr style=\"text-align: right;\">\n",
       "      <th></th>\n",
       "      <th>Name</th>\n",
       "      <th>Model</th>\n",
       "      <th>Cubic_Capacity</th>\n",
       "      <th>Year</th>\n",
       "      <th>Location</th>\n",
       "      <th>Running</th>\n",
       "      <th>Owner</th>\n",
       "      <th>Price</th>\n",
       "      <th>Fourth Owner Or More</th>\n",
       "      <th>Second Owner</th>\n",
       "      <th>Third Owner</th>\n",
       "      <th>Bike_Model</th>\n",
       "    </tr>\n",
       "  </thead>\n",
       "  <tbody>\n",
       "    <tr>\n",
       "      <th>0</th>\n",
       "      <td>TVS Star City Plus Dual Tone 110cc 2018</td>\n",
       "      <td>TVS Star</td>\n",
       "      <td>110</td>\n",
       "      <td>2018</td>\n",
       "      <td>Ahmedabad</td>\n",
       "      <td>17654</td>\n",
       "      <td>First Owner</td>\n",
       "      <td>35000</td>\n",
       "      <td>0</td>\n",
       "      <td>0</td>\n",
       "      <td>0</td>\n",
       "      <td>102</td>\n",
       "    </tr>\n",
       "    <tr>\n",
       "      <th>1</th>\n",
       "      <td>Royal Enfield Classic 350cc 2017</td>\n",
       "      <td>Royal Enfield</td>\n",
       "      <td>350</td>\n",
       "      <td>2017</td>\n",
       "      <td>Delhi</td>\n",
       "      <td>11000</td>\n",
       "      <td>First Owner</td>\n",
       "      <td>119900</td>\n",
       "      <td>0</td>\n",
       "      <td>0</td>\n",
       "      <td>0</td>\n",
       "      <td>4249</td>\n",
       "    </tr>\n",
       "    <tr>\n",
       "      <th>3</th>\n",
       "      <td>TVS Apache RTR 180cc 2017</td>\n",
       "      <td>TVS Apache</td>\n",
       "      <td>180</td>\n",
       "      <td>2017</td>\n",
       "      <td>Bangalore</td>\n",
       "      <td>16329</td>\n",
       "      <td>First Owner</td>\n",
       "      <td>65000</td>\n",
       "      <td>0</td>\n",
       "      <td>0</td>\n",
       "      <td>0</td>\n",
       "      <td>1061</td>\n",
       "    </tr>\n",
       "    <tr>\n",
       "      <th>4</th>\n",
       "      <td>Yamaha FZ S V 2.0 150cc-Ltd. Edition 2018</td>\n",
       "      <td>Yamaha FZ V 2.0</td>\n",
       "      <td>150</td>\n",
       "      <td>2018</td>\n",
       "      <td>Bangalore</td>\n",
       "      <td>10000</td>\n",
       "      <td>First Owner</td>\n",
       "      <td>80000</td>\n",
       "      <td>0</td>\n",
       "      <td>0</td>\n",
       "      <td>0</td>\n",
       "      <td>93</td>\n",
       "    </tr>\n",
       "    <tr>\n",
       "      <th>5</th>\n",
       "      <td>Yamaha FZs 150cc 2015</td>\n",
       "      <td>Yamaha FZs</td>\n",
       "      <td>150</td>\n",
       "      <td>2015</td>\n",
       "      <td>Delhi</td>\n",
       "      <td>25000</td>\n",
       "      <td>First Owner</td>\n",
       "      <td>53499</td>\n",
       "      <td>0</td>\n",
       "      <td>0</td>\n",
       "      <td>0</td>\n",
       "      <td>131</td>\n",
       "    </tr>\n",
       "  </tbody>\n",
       "</table>\n",
       "</div>"
      ],
      "text/plain": [
       "                                        Name            Model  Cubic_Capacity  \\\n",
       "0    TVS Star City Plus Dual Tone 110cc 2018         TVS Star             110   \n",
       "1           Royal Enfield Classic 350cc 2017    Royal Enfield             350   \n",
       "3                  TVS Apache RTR 180cc 2017       TVS Apache             180   \n",
       "4  Yamaha FZ S V 2.0 150cc-Ltd. Edition 2018  Yamaha FZ V 2.0             150   \n",
       "5                      Yamaha FZs 150cc 2015       Yamaha FZs             150   \n",
       "\n",
       "   Year   Location  Running        Owner   Price  Fourth Owner Or More  \\\n",
       "0  2018  Ahmedabad    17654  First Owner   35000                     0   \n",
       "1  2017      Delhi    11000  First Owner  119900                     0   \n",
       "3  2017  Bangalore    16329  First Owner   65000                     0   \n",
       "4  2018  Bangalore    10000  First Owner   80000                     0   \n",
       "5  2015      Delhi    25000  First Owner   53499                     0   \n",
       "\n",
       "   Second Owner  Third Owner  Bike_Model  \n",
       "0             0            0         102  \n",
       "1             0            0        4249  \n",
       "3             0            0        1061  \n",
       "4             0            0          93  \n",
       "5             0            0         131  "
      ]
     },
     "execution_count": 768,
     "metadata": {},
     "output_type": "execute_result"
    }
   ],
   "source": [
    "dataset.head()"
   ]
  },
  {
   "cell_type": "code",
   "execution_count": 769,
   "metadata": {},
   "outputs": [],
   "source": [
    "#Making a list 'Place' using the state_dict\n",
    "Place=[]\n",
    "for p in dataset['Location']:\n",
    "    \n",
    "    Place.append(state_dict.get(p,'Not found'))"
   ]
  },
  {
   "cell_type": "code",
   "execution_count": 770,
   "metadata": {},
   "outputs": [],
   "source": [
    "#Adding column to dataframe\n",
    "dataset['Place']=Place"
   ]
  },
  {
   "cell_type": "code",
   "execution_count": 771,
   "metadata": {},
   "outputs": [
    {
     "data": {
      "text/html": [
       "<div>\n",
       "<style scoped>\n",
       "    .dataframe tbody tr th:only-of-type {\n",
       "        vertical-align: middle;\n",
       "    }\n",
       "\n",
       "    .dataframe tbody tr th {\n",
       "        vertical-align: top;\n",
       "    }\n",
       "\n",
       "    .dataframe thead th {\n",
       "        text-align: right;\n",
       "    }\n",
       "</style>\n",
       "<table border=\"1\" class=\"dataframe\">\n",
       "  <thead>\n",
       "    <tr style=\"text-align: right;\">\n",
       "      <th></th>\n",
       "      <th>Name</th>\n",
       "      <th>Model</th>\n",
       "      <th>Cubic_Capacity</th>\n",
       "      <th>Year</th>\n",
       "      <th>Location</th>\n",
       "      <th>Running</th>\n",
       "      <th>Owner</th>\n",
       "      <th>Price</th>\n",
       "      <th>Fourth Owner Or More</th>\n",
       "      <th>Second Owner</th>\n",
       "      <th>Third Owner</th>\n",
       "      <th>Bike_Model</th>\n",
       "      <th>Place</th>\n",
       "    </tr>\n",
       "  </thead>\n",
       "  <tbody>\n",
       "    <tr>\n",
       "      <th>0</th>\n",
       "      <td>TVS Star City Plus Dual Tone 110cc 2018</td>\n",
       "      <td>TVS Star</td>\n",
       "      <td>110</td>\n",
       "      <td>2018</td>\n",
       "      <td>Ahmedabad</td>\n",
       "      <td>17654</td>\n",
       "      <td>First Owner</td>\n",
       "      <td>35000</td>\n",
       "      <td>0</td>\n",
       "      <td>0</td>\n",
       "      <td>0</td>\n",
       "      <td>102</td>\n",
       "      <td>Gujarat</td>\n",
       "    </tr>\n",
       "    <tr>\n",
       "      <th>1</th>\n",
       "      <td>Royal Enfield Classic 350cc 2017</td>\n",
       "      <td>Royal Enfield</td>\n",
       "      <td>350</td>\n",
       "      <td>2017</td>\n",
       "      <td>Delhi</td>\n",
       "      <td>11000</td>\n",
       "      <td>First Owner</td>\n",
       "      <td>119900</td>\n",
       "      <td>0</td>\n",
       "      <td>0</td>\n",
       "      <td>0</td>\n",
       "      <td>4249</td>\n",
       "      <td>Not found</td>\n",
       "    </tr>\n",
       "    <tr>\n",
       "      <th>3</th>\n",
       "      <td>TVS Apache RTR 180cc 2017</td>\n",
       "      <td>TVS Apache</td>\n",
       "      <td>180</td>\n",
       "      <td>2017</td>\n",
       "      <td>Bangalore</td>\n",
       "      <td>16329</td>\n",
       "      <td>First Owner</td>\n",
       "      <td>65000</td>\n",
       "      <td>0</td>\n",
       "      <td>0</td>\n",
       "      <td>0</td>\n",
       "      <td>1061</td>\n",
       "      <td>Karnataka</td>\n",
       "    </tr>\n",
       "    <tr>\n",
       "      <th>4</th>\n",
       "      <td>Yamaha FZ S V 2.0 150cc-Ltd. Edition 2018</td>\n",
       "      <td>Yamaha FZ V 2.0</td>\n",
       "      <td>150</td>\n",
       "      <td>2018</td>\n",
       "      <td>Bangalore</td>\n",
       "      <td>10000</td>\n",
       "      <td>First Owner</td>\n",
       "      <td>80000</td>\n",
       "      <td>0</td>\n",
       "      <td>0</td>\n",
       "      <td>0</td>\n",
       "      <td>93</td>\n",
       "      <td>Karnataka</td>\n",
       "    </tr>\n",
       "    <tr>\n",
       "      <th>5</th>\n",
       "      <td>Yamaha FZs 150cc 2015</td>\n",
       "      <td>Yamaha FZs</td>\n",
       "      <td>150</td>\n",
       "      <td>2015</td>\n",
       "      <td>Delhi</td>\n",
       "      <td>25000</td>\n",
       "      <td>First Owner</td>\n",
       "      <td>53499</td>\n",
       "      <td>0</td>\n",
       "      <td>0</td>\n",
       "      <td>0</td>\n",
       "      <td>131</td>\n",
       "      <td>Not found</td>\n",
       "    </tr>\n",
       "  </tbody>\n",
       "</table>\n",
       "</div>"
      ],
      "text/plain": [
       "                                        Name            Model  Cubic_Capacity  \\\n",
       "0    TVS Star City Plus Dual Tone 110cc 2018         TVS Star             110   \n",
       "1           Royal Enfield Classic 350cc 2017    Royal Enfield             350   \n",
       "3                  TVS Apache RTR 180cc 2017       TVS Apache             180   \n",
       "4  Yamaha FZ S V 2.0 150cc-Ltd. Edition 2018  Yamaha FZ V 2.0             150   \n",
       "5                      Yamaha FZs 150cc 2015       Yamaha FZs             150   \n",
       "\n",
       "   Year   Location  Running        Owner   Price  Fourth Owner Or More  \\\n",
       "0  2018  Ahmedabad    17654  First Owner   35000                     0   \n",
       "1  2017      Delhi    11000  First Owner  119900                     0   \n",
       "3  2017  Bangalore    16329  First Owner   65000                     0   \n",
       "4  2018  Bangalore    10000  First Owner   80000                     0   \n",
       "5  2015      Delhi    25000  First Owner   53499                     0   \n",
       "\n",
       "   Second Owner  Third Owner  Bike_Model      Place  \n",
       "0             0            0         102    Gujarat  \n",
       "1             0            0        4249  Not found  \n",
       "3             0            0        1061  Karnataka  \n",
       "4             0            0          93  Karnataka  \n",
       "5             0            0         131  Not found  "
      ]
     },
     "execution_count": 771,
     "metadata": {},
     "output_type": "execute_result"
    }
   ],
   "source": [
    "dataset.head()"
   ]
  },
  {
   "cell_type": "code",
   "execution_count": 772,
   "metadata": {},
   "outputs": [
    {
     "data": {
      "text/plain": [
       "array(['Gujarat', 'Not found', 'Karnataka', 'Haryana', 'Uttar Pradesh',\n",
       "       'Maharashtra', 'Kerala', 'Bihar', 'Rajasthan', 'Tamil Nadu',\n",
       "       'Punjab', 'Andhra Pradesh', 'West Bengal', 'Himachal Pradesh',\n",
       "       'Madhya Pradesh', 'Chhattisgarh', 'Chandigarh *', 'Jharkhand',\n",
       "       'Uttaranchal', 'Jammu & Kashmir', 'Assam', 'Sikkim', 'Orissa',\n",
       "       'Goa', 'Pondicherry *', 'Tripura', 'Arunachal Pradesh',\n",
       "       'Meghalaya'], dtype=object)"
      ]
     },
     "execution_count": 772,
     "metadata": {},
     "output_type": "execute_result"
    }
   ],
   "source": [
    "dataset['Place'].unique()"
   ]
  },
  {
   "cell_type": "code",
   "execution_count": 773,
   "metadata": {},
   "outputs": [],
   "source": [
    "#Collecting rows with 'Not found' value\n",
    "correction=dataset[dataset['Place'] == 'Not found'].Location"
   ]
  },
  {
   "cell_type": "code",
   "execution_count": 774,
   "metadata": {},
   "outputs": [
    {
     "data": {
      "text/plain": [
       "array(['Delhi', 'Mumbai', 'Bhubaneshwar', 'Kalyan', 'Baripara', 'Dharwad',\n",
       "       'Ernakulam', 'Hamirpur(hp)', 'Ranga Reddy', 'Ahmednagar',\n",
       "       'Haridwar', '24 Pargana', 'Jajpur', 'Godhara',\n",
       "       'Dadra & Nagar Haveli', 'Tiruvallur', 'Panchkula',\n",
       "       'Gautam Buddha Nagar', 'Chatrapur', 'Howrah', 'Hubli',\n",
       "       'Raigarh(mh)', 'Haldwani', 'Thiruvananthapuram', 'Singhbhum',\n",
       "       'Bardhaman', 'Katni', 'Hooghly', 'Mohali', 'Mehsana',\n",
       "       'Sri Ganganagar', 'Chinsurah', 'Bhatinda', 'Godavari', 'Ramanagar',\n",
       "       'Murad Nagar', 'Idukki', 'Kanchipuram', 'Kasargode',\n",
       "       'Dakshina Kannada', 'Amraoti', 'Chinchwad', 'Surendranagar',\n",
       "       'Ankleshwar', 'Raiwala', 'Alipore', 'Farukhabad', 'Krishna',\n",
       "       'Hissar', 'Kanyakumari', 'Morbi', 'Ferozepur', 'Bihar Shariff',\n",
       "       'Etwah', 'Calicut', 'Sonepat', 'Chikkaballapur', 'Burdwan',\n",
       "       'Badaun', 'Kanpur Nagar', 'Kurukshetra', 'Chikamaglur',\n",
       "       'Karim Nagar', 'Kotdwar', 'Mirzapur', 'Goa-panaji',\n",
       "       'Sant Kabir Nagar', 'Krishnagar', 'Sholapur', 'Palamu',\n",
       "       'Cannanore (kannur)', 'Hazipur', 'Kordha', 'Bhagalpur',\n",
       "       'Mahboobnagar', 'Sangli', 'Yamuna Nagar', 'Dharwar', 'Jhunjhunu',\n",
       "       'Rajouri', 'Kachchh', 'Nanded', 'Dharamasala', 'Barabanki',\n",
       "       'Kadapa', 'Berhampore', 'Swaimadhopur', 'Gondia', 'Farrukhabad',\n",
       "       'Meenachil', 'Silvasa'], dtype=object)"
      ]
     },
     "execution_count": 774,
     "metadata": {},
     "output_type": "execute_result"
    }
   ],
   "source": [
    "correction.unique()"
   ]
  },
  {
   "cell_type": "code",
   "execution_count": 775,
   "metadata": {},
   "outputs": [
    {
     "data": {
      "text/plain": [
       "12776"
      ]
     },
     "execution_count": 775,
     "metadata": {},
     "output_type": "execute_result"
    }
   ],
   "source": [
    "#Total number of absent data\n",
    "len(correction)"
   ]
  },
  {
   "cell_type": "code",
   "execution_count": 776,
   "metadata": {},
   "outputs": [],
   "source": [
    "#Updating some data within my knowledge\n",
    "state_dict.update({'Delhi':'Delhi','Mumbai':'Maharashtra','Bhubanehswar':'Orissa','Kalyan':'Maharashtra','Bhubaneshwar':'Orissa',\n",
    "                   'Ahmednagar':'Maharashtra','Howrah':'West Bengal','Raigarh(mh)':'Maharashtra','Mehsana':'Gujarat','Bhatinda':'Punjab',\n",
    "                  'Chinchwad':'Maharashtra','Kanyakumari':'Tamil Nadu','Sholapur':'Maharashtra','Gondia':'Maharashtra'})\n",
    "                   "
   ]
  },
  {
   "cell_type": "code",
   "execution_count": 777,
   "metadata": {},
   "outputs": [
    {
     "name": "stderr",
     "output_type": "stream",
     "text": [
      "C:\\Users\\bilal\\AppData\\Roaming\\Python\\Python37\\site-packages\\ipykernel_launcher.py:7: SettingWithCopyWarning: \n",
      "A value is trying to be set on a copy of a slice from a DataFrame\n",
      "\n",
      "See the caveats in the documentation: https://pandas.pydata.org/pandas-docs/stable/user_guide/indexing.html#returning-a-view-versus-a-copy\n",
      "  import sys\n",
      "C:\\Users\\bilal\\AppData\\Roaming\\Python\\Python37\\site-packages\\ipykernel_launcher.py:8: SettingWithCopyWarning: \n",
      "A value is trying to be set on a copy of a slice from a DataFrame\n",
      "\n",
      "See the caveats in the documentation: https://pandas.pydata.org/pandas-docs/stable/user_guide/indexing.html#returning-a-view-versus-a-copy\n",
      "  \n"
     ]
    }
   ],
   "source": [
    "#Addding the remaining places\n",
    "#NOTE: I made the district_dict afterwards thats why it is included in this loop. You can add it before while making 'Place' list\n",
    "for i,j,row in zip(dataset.Location,dataset.Place,dataset.index.values):\n",
    "   # print(row)\n",
    "    if  j == 'Not found':\n",
    "       \n",
    "        dataset['Place'][row]=dataset['Place'][row].replace('Not found',state_dict.get(i,'Not found'))\n",
    "        dataset['Place'][row]=dataset['Place'][row].replace('Not found',district_dict.get(i,'Not found'))\n",
    "        "
   ]
  },
  {
   "cell_type": "code",
   "execution_count": 778,
   "metadata": {},
   "outputs": [
    {
     "data": {
      "text/html": [
       "<div>\n",
       "<style scoped>\n",
       "    .dataframe tbody tr th:only-of-type {\n",
       "        vertical-align: middle;\n",
       "    }\n",
       "\n",
       "    .dataframe tbody tr th {\n",
       "        vertical-align: top;\n",
       "    }\n",
       "\n",
       "    .dataframe thead th {\n",
       "        text-align: right;\n",
       "    }\n",
       "</style>\n",
       "<table border=\"1\" class=\"dataframe\">\n",
       "  <thead>\n",
       "    <tr style=\"text-align: right;\">\n",
       "      <th></th>\n",
       "      <th>Name</th>\n",
       "      <th>Model</th>\n",
       "      <th>Cubic_Capacity</th>\n",
       "      <th>Year</th>\n",
       "      <th>Location</th>\n",
       "      <th>Running</th>\n",
       "      <th>Owner</th>\n",
       "      <th>Price</th>\n",
       "      <th>Fourth Owner Or More</th>\n",
       "      <th>Second Owner</th>\n",
       "      <th>Third Owner</th>\n",
       "      <th>Bike_Model</th>\n",
       "      <th>Place</th>\n",
       "    </tr>\n",
       "  </thead>\n",
       "  <tbody>\n",
       "    <tr>\n",
       "      <th>0</th>\n",
       "      <td>TVS Star City Plus Dual Tone 110cc 2018</td>\n",
       "      <td>TVS Star</td>\n",
       "      <td>110</td>\n",
       "      <td>2018</td>\n",
       "      <td>Ahmedabad</td>\n",
       "      <td>17654</td>\n",
       "      <td>First Owner</td>\n",
       "      <td>35000</td>\n",
       "      <td>0</td>\n",
       "      <td>0</td>\n",
       "      <td>0</td>\n",
       "      <td>102</td>\n",
       "      <td>Gujarat</td>\n",
       "    </tr>\n",
       "    <tr>\n",
       "      <th>1</th>\n",
       "      <td>Royal Enfield Classic 350cc 2017</td>\n",
       "      <td>Royal Enfield</td>\n",
       "      <td>350</td>\n",
       "      <td>2017</td>\n",
       "      <td>Delhi</td>\n",
       "      <td>11000</td>\n",
       "      <td>First Owner</td>\n",
       "      <td>119900</td>\n",
       "      <td>0</td>\n",
       "      <td>0</td>\n",
       "      <td>0</td>\n",
       "      <td>4249</td>\n",
       "      <td>Delhi</td>\n",
       "    </tr>\n",
       "    <tr>\n",
       "      <th>3</th>\n",
       "      <td>TVS Apache RTR 180cc 2017</td>\n",
       "      <td>TVS Apache</td>\n",
       "      <td>180</td>\n",
       "      <td>2017</td>\n",
       "      <td>Bangalore</td>\n",
       "      <td>16329</td>\n",
       "      <td>First Owner</td>\n",
       "      <td>65000</td>\n",
       "      <td>0</td>\n",
       "      <td>0</td>\n",
       "      <td>0</td>\n",
       "      <td>1061</td>\n",
       "      <td>Karnataka</td>\n",
       "    </tr>\n",
       "    <tr>\n",
       "      <th>4</th>\n",
       "      <td>Yamaha FZ S V 2.0 150cc-Ltd. Edition 2018</td>\n",
       "      <td>Yamaha FZ V 2.0</td>\n",
       "      <td>150</td>\n",
       "      <td>2018</td>\n",
       "      <td>Bangalore</td>\n",
       "      <td>10000</td>\n",
       "      <td>First Owner</td>\n",
       "      <td>80000</td>\n",
       "      <td>0</td>\n",
       "      <td>0</td>\n",
       "      <td>0</td>\n",
       "      <td>93</td>\n",
       "      <td>Karnataka</td>\n",
       "    </tr>\n",
       "    <tr>\n",
       "      <th>5</th>\n",
       "      <td>Yamaha FZs 150cc 2015</td>\n",
       "      <td>Yamaha FZs</td>\n",
       "      <td>150</td>\n",
       "      <td>2015</td>\n",
       "      <td>Delhi</td>\n",
       "      <td>25000</td>\n",
       "      <td>First Owner</td>\n",
       "      <td>53499</td>\n",
       "      <td>0</td>\n",
       "      <td>0</td>\n",
       "      <td>0</td>\n",
       "      <td>131</td>\n",
       "      <td>Delhi</td>\n",
       "    </tr>\n",
       "  </tbody>\n",
       "</table>\n",
       "</div>"
      ],
      "text/plain": [
       "                                        Name            Model  Cubic_Capacity  \\\n",
       "0    TVS Star City Plus Dual Tone 110cc 2018         TVS Star             110   \n",
       "1           Royal Enfield Classic 350cc 2017    Royal Enfield             350   \n",
       "3                  TVS Apache RTR 180cc 2017       TVS Apache             180   \n",
       "4  Yamaha FZ S V 2.0 150cc-Ltd. Edition 2018  Yamaha FZ V 2.0             150   \n",
       "5                      Yamaha FZs 150cc 2015       Yamaha FZs             150   \n",
       "\n",
       "   Year   Location  Running        Owner   Price  Fourth Owner Or More  \\\n",
       "0  2018  Ahmedabad    17654  First Owner   35000                     0   \n",
       "1  2017      Delhi    11000  First Owner  119900                     0   \n",
       "3  2017  Bangalore    16329  First Owner   65000                     0   \n",
       "4  2018  Bangalore    10000  First Owner   80000                     0   \n",
       "5  2015      Delhi    25000  First Owner   53499                     0   \n",
       "\n",
       "   Second Owner  Third Owner  Bike_Model      Place  \n",
       "0             0            0         102    Gujarat  \n",
       "1             0            0        4249      Delhi  \n",
       "3             0            0        1061  Karnataka  \n",
       "4             0            0          93  Karnataka  \n",
       "5             0            0         131      Delhi  "
      ]
     },
     "execution_count": 778,
     "metadata": {},
     "output_type": "execute_result"
    }
   ],
   "source": [
    "dataset.head()"
   ]
  },
  {
   "cell_type": "code",
   "execution_count": 779,
   "metadata": {},
   "outputs": [
    {
     "data": {
      "text/plain": [
       "56"
      ]
     },
     "execution_count": 779,
     "metadata": {},
     "output_type": "execute_result"
    }
   ],
   "source": [
    "correction=dataset[dataset['Place'] == 'Not found'].Location\n",
    "len(correction.unique())\n",
    "#It can be observed that the missing data is reduced by a very huge number"
   ]
  },
  {
   "cell_type": "code",
   "execution_count": 780,
   "metadata": {},
   "outputs": [],
   "source": [
    "#Replacing the remaining missing data with value 'Other'\n",
    "dataset['Place']=dataset['Place'].apply(lambda x: x.replace('Not found','Other'))"
   ]
  },
  {
   "cell_type": "code",
   "execution_count": 781,
   "metadata": {},
   "outputs": [
    {
     "data": {
      "text/plain": [
       "array(['Gujarat', 'Delhi', 'Karnataka', 'Maharashtra', 'Orissa',\n",
       "       'Haryana', 'Uttar Pradesh', 'Kerala', 'Bihar', 'Rajasthan',\n",
       "       'Tamil Nadu', 'Other', 'Punjab', 'Andhra Pradesh', 'West Bengal',\n",
       "       'Himachal Pradesh', 'Madhya Pradesh', 'Chhattisgarh',\n",
       "       'Chandigarh *', 'Jharkhand', 'Uttaranchal', 'Jammu & Kashmir',\n",
       "       'Dadra & Nagar Haveli *', 'Assam', 'Sikkim', 'Goa',\n",
       "       'Pondicherry *', 'Tripura', 'Arunachal Pradesh', 'Meghalaya'],\n",
       "      dtype=object)"
      ]
     },
     "execution_count": 781,
     "metadata": {},
     "output_type": "execute_result"
    }
   ],
   "source": [
    "dataset['Place'].unique()"
   ]
  },
  {
   "cell_type": "code",
   "execution_count": 782,
   "metadata": {},
   "outputs": [
    {
     "data": {
      "text/plain": [
       "30"
      ]
     },
     "execution_count": 782,
     "metadata": {},
     "output_type": "execute_result"
    }
   ],
   "source": [
    "#Unique loctions reduced from 475 to 30\n",
    "len(dataset['Place'].unique())"
   ]
  },
  {
   "cell_type": "code",
   "execution_count": 783,
   "metadata": {},
   "outputs": [],
   "source": [
    "#Some state name has \"*\" in it so replacing it with blank space\n",
    "dataset['Place']=dataset['Place'].apply(lambda x: x.replace('*',''))"
   ]
  },
  {
   "cell_type": "code",
   "execution_count": 784,
   "metadata": {},
   "outputs": [
    {
     "data": {
      "text/plain": [
       "array(['Gujarat', 'Delhi', 'Karnataka', 'Maharashtra', 'Orissa',\n",
       "       'Haryana', 'Uttar Pradesh', 'Kerala', 'Bihar', 'Rajasthan',\n",
       "       'Tamil Nadu', 'Other', 'Punjab', 'Andhra Pradesh', 'West Bengal',\n",
       "       'Himachal Pradesh', 'Madhya Pradesh', 'Chhattisgarh',\n",
       "       'Chandigarh ', 'Jharkhand', 'Uttaranchal', 'Jammu & Kashmir',\n",
       "       'Dadra & Nagar Haveli ', 'Assam', 'Sikkim', 'Goa', 'Pondicherry ',\n",
       "       'Tripura', 'Arunachal Pradesh', 'Meghalaya'], dtype=object)"
      ]
     },
     "execution_count": 784,
     "metadata": {},
     "output_type": "execute_result"
    }
   ],
   "source": [
    "dataset['Place'].unique()"
   ]
  },
  {
   "cell_type": "code",
   "execution_count": 785,
   "metadata": {},
   "outputs": [
    {
     "data": {
      "text/html": [
       "<div>\n",
       "<style scoped>\n",
       "    .dataframe tbody tr th:only-of-type {\n",
       "        vertical-align: middle;\n",
       "    }\n",
       "\n",
       "    .dataframe tbody tr th {\n",
       "        vertical-align: top;\n",
       "    }\n",
       "\n",
       "    .dataframe thead th {\n",
       "        text-align: right;\n",
       "    }\n",
       "</style>\n",
       "<table border=\"1\" class=\"dataframe\">\n",
       "  <thead>\n",
       "    <tr style=\"text-align: right;\">\n",
       "      <th></th>\n",
       "      <th>Name</th>\n",
       "      <th>Model</th>\n",
       "      <th>Cubic_Capacity</th>\n",
       "      <th>Year</th>\n",
       "      <th>Location</th>\n",
       "      <th>Running</th>\n",
       "      <th>Owner</th>\n",
       "      <th>Price</th>\n",
       "      <th>Fourth Owner Or More</th>\n",
       "      <th>Second Owner</th>\n",
       "      <th>Third Owner</th>\n",
       "      <th>Bike_Model</th>\n",
       "      <th>Place</th>\n",
       "    </tr>\n",
       "  </thead>\n",
       "  <tbody>\n",
       "    <tr>\n",
       "      <th>0</th>\n",
       "      <td>TVS Star City Plus Dual Tone 110cc 2018</td>\n",
       "      <td>TVS Star</td>\n",
       "      <td>110</td>\n",
       "      <td>2018</td>\n",
       "      <td>Ahmedabad</td>\n",
       "      <td>17654</td>\n",
       "      <td>First Owner</td>\n",
       "      <td>35000</td>\n",
       "      <td>0</td>\n",
       "      <td>0</td>\n",
       "      <td>0</td>\n",
       "      <td>102</td>\n",
       "      <td>Gujarat</td>\n",
       "    </tr>\n",
       "    <tr>\n",
       "      <th>1</th>\n",
       "      <td>Royal Enfield Classic 350cc 2017</td>\n",
       "      <td>Royal Enfield</td>\n",
       "      <td>350</td>\n",
       "      <td>2017</td>\n",
       "      <td>Delhi</td>\n",
       "      <td>11000</td>\n",
       "      <td>First Owner</td>\n",
       "      <td>119900</td>\n",
       "      <td>0</td>\n",
       "      <td>0</td>\n",
       "      <td>0</td>\n",
       "      <td>4249</td>\n",
       "      <td>Delhi</td>\n",
       "    </tr>\n",
       "    <tr>\n",
       "      <th>3</th>\n",
       "      <td>TVS Apache RTR 180cc 2017</td>\n",
       "      <td>TVS Apache</td>\n",
       "      <td>180</td>\n",
       "      <td>2017</td>\n",
       "      <td>Bangalore</td>\n",
       "      <td>16329</td>\n",
       "      <td>First Owner</td>\n",
       "      <td>65000</td>\n",
       "      <td>0</td>\n",
       "      <td>0</td>\n",
       "      <td>0</td>\n",
       "      <td>1061</td>\n",
       "      <td>Karnataka</td>\n",
       "    </tr>\n",
       "    <tr>\n",
       "      <th>4</th>\n",
       "      <td>Yamaha FZ S V 2.0 150cc-Ltd. Edition 2018</td>\n",
       "      <td>Yamaha FZ V 2.0</td>\n",
       "      <td>150</td>\n",
       "      <td>2018</td>\n",
       "      <td>Bangalore</td>\n",
       "      <td>10000</td>\n",
       "      <td>First Owner</td>\n",
       "      <td>80000</td>\n",
       "      <td>0</td>\n",
       "      <td>0</td>\n",
       "      <td>0</td>\n",
       "      <td>93</td>\n",
       "      <td>Karnataka</td>\n",
       "    </tr>\n",
       "    <tr>\n",
       "      <th>5</th>\n",
       "      <td>Yamaha FZs 150cc 2015</td>\n",
       "      <td>Yamaha FZs</td>\n",
       "      <td>150</td>\n",
       "      <td>2015</td>\n",
       "      <td>Delhi</td>\n",
       "      <td>25000</td>\n",
       "      <td>First Owner</td>\n",
       "      <td>53499</td>\n",
       "      <td>0</td>\n",
       "      <td>0</td>\n",
       "      <td>0</td>\n",
       "      <td>131</td>\n",
       "      <td>Delhi</td>\n",
       "    </tr>\n",
       "  </tbody>\n",
       "</table>\n",
       "</div>"
      ],
      "text/plain": [
       "                                        Name            Model  Cubic_Capacity  \\\n",
       "0    TVS Star City Plus Dual Tone 110cc 2018         TVS Star             110   \n",
       "1           Royal Enfield Classic 350cc 2017    Royal Enfield             350   \n",
       "3                  TVS Apache RTR 180cc 2017       TVS Apache             180   \n",
       "4  Yamaha FZ S V 2.0 150cc-Ltd. Edition 2018  Yamaha FZ V 2.0             150   \n",
       "5                      Yamaha FZs 150cc 2015       Yamaha FZs             150   \n",
       "\n",
       "   Year   Location  Running        Owner   Price  Fourth Owner Or More  \\\n",
       "0  2018  Ahmedabad    17654  First Owner   35000                     0   \n",
       "1  2017      Delhi    11000  First Owner  119900                     0   \n",
       "3  2017  Bangalore    16329  First Owner   65000                     0   \n",
       "4  2018  Bangalore    10000  First Owner   80000                     0   \n",
       "5  2015      Delhi    25000  First Owner   53499                     0   \n",
       "\n",
       "   Second Owner  Third Owner  Bike_Model      Place  \n",
       "0             0            0         102    Gujarat  \n",
       "1             0            0        4249      Delhi  \n",
       "3             0            0        1061  Karnataka  \n",
       "4             0            0          93  Karnataka  \n",
       "5             0            0         131      Delhi  "
      ]
     },
     "execution_count": 785,
     "metadata": {},
     "output_type": "execute_result"
    }
   ],
   "source": [
    "dataset.head()"
   ]
  },
  {
   "cell_type": "code",
   "execution_count": 786,
   "metadata": {},
   "outputs": [],
   "source": [
    "dataset.drop('Location',axis=1,inplace=True)"
   ]
  },
  {
   "cell_type": "code",
   "execution_count": 787,
   "metadata": {},
   "outputs": [
    {
     "data": {
      "text/html": [
       "<div>\n",
       "<style scoped>\n",
       "    .dataframe tbody tr th:only-of-type {\n",
       "        vertical-align: middle;\n",
       "    }\n",
       "\n",
       "    .dataframe tbody tr th {\n",
       "        vertical-align: top;\n",
       "    }\n",
       "\n",
       "    .dataframe thead th {\n",
       "        text-align: right;\n",
       "    }\n",
       "</style>\n",
       "<table border=\"1\" class=\"dataframe\">\n",
       "  <thead>\n",
       "    <tr style=\"text-align: right;\">\n",
       "      <th></th>\n",
       "      <th>Name</th>\n",
       "      <th>Model</th>\n",
       "      <th>Cubic_Capacity</th>\n",
       "      <th>Year</th>\n",
       "      <th>Running</th>\n",
       "      <th>Owner</th>\n",
       "      <th>Price</th>\n",
       "      <th>Fourth Owner Or More</th>\n",
       "      <th>Second Owner</th>\n",
       "      <th>Third Owner</th>\n",
       "      <th>Bike_Model</th>\n",
       "      <th>Place</th>\n",
       "    </tr>\n",
       "  </thead>\n",
       "  <tbody>\n",
       "    <tr>\n",
       "      <th>0</th>\n",
       "      <td>TVS Star City Plus Dual Tone 110cc 2018</td>\n",
       "      <td>TVS Star</td>\n",
       "      <td>110</td>\n",
       "      <td>2018</td>\n",
       "      <td>17654</td>\n",
       "      <td>First Owner</td>\n",
       "      <td>35000</td>\n",
       "      <td>0</td>\n",
       "      <td>0</td>\n",
       "      <td>0</td>\n",
       "      <td>102</td>\n",
       "      <td>Gujarat</td>\n",
       "    </tr>\n",
       "    <tr>\n",
       "      <th>1</th>\n",
       "      <td>Royal Enfield Classic 350cc 2017</td>\n",
       "      <td>Royal Enfield</td>\n",
       "      <td>350</td>\n",
       "      <td>2017</td>\n",
       "      <td>11000</td>\n",
       "      <td>First Owner</td>\n",
       "      <td>119900</td>\n",
       "      <td>0</td>\n",
       "      <td>0</td>\n",
       "      <td>0</td>\n",
       "      <td>4249</td>\n",
       "      <td>Delhi</td>\n",
       "    </tr>\n",
       "    <tr>\n",
       "      <th>3</th>\n",
       "      <td>TVS Apache RTR 180cc 2017</td>\n",
       "      <td>TVS Apache</td>\n",
       "      <td>180</td>\n",
       "      <td>2017</td>\n",
       "      <td>16329</td>\n",
       "      <td>First Owner</td>\n",
       "      <td>65000</td>\n",
       "      <td>0</td>\n",
       "      <td>0</td>\n",
       "      <td>0</td>\n",
       "      <td>1061</td>\n",
       "      <td>Karnataka</td>\n",
       "    </tr>\n",
       "    <tr>\n",
       "      <th>4</th>\n",
       "      <td>Yamaha FZ S V 2.0 150cc-Ltd. Edition 2018</td>\n",
       "      <td>Yamaha FZ V 2.0</td>\n",
       "      <td>150</td>\n",
       "      <td>2018</td>\n",
       "      <td>10000</td>\n",
       "      <td>First Owner</td>\n",
       "      <td>80000</td>\n",
       "      <td>0</td>\n",
       "      <td>0</td>\n",
       "      <td>0</td>\n",
       "      <td>93</td>\n",
       "      <td>Karnataka</td>\n",
       "    </tr>\n",
       "    <tr>\n",
       "      <th>5</th>\n",
       "      <td>Yamaha FZs 150cc 2015</td>\n",
       "      <td>Yamaha FZs</td>\n",
       "      <td>150</td>\n",
       "      <td>2015</td>\n",
       "      <td>25000</td>\n",
       "      <td>First Owner</td>\n",
       "      <td>53499</td>\n",
       "      <td>0</td>\n",
       "      <td>0</td>\n",
       "      <td>0</td>\n",
       "      <td>131</td>\n",
       "      <td>Delhi</td>\n",
       "    </tr>\n",
       "  </tbody>\n",
       "</table>\n",
       "</div>"
      ],
      "text/plain": [
       "                                        Name            Model  Cubic_Capacity  \\\n",
       "0    TVS Star City Plus Dual Tone 110cc 2018         TVS Star             110   \n",
       "1           Royal Enfield Classic 350cc 2017    Royal Enfield             350   \n",
       "3                  TVS Apache RTR 180cc 2017       TVS Apache             180   \n",
       "4  Yamaha FZ S V 2.0 150cc-Ltd. Edition 2018  Yamaha FZ V 2.0             150   \n",
       "5                      Yamaha FZs 150cc 2015       Yamaha FZs             150   \n",
       "\n",
       "   Year  Running        Owner   Price  Fourth Owner Or More  Second Owner  \\\n",
       "0  2018    17654  First Owner   35000                     0             0   \n",
       "1  2017    11000  First Owner  119900                     0             0   \n",
       "3  2017    16329  First Owner   65000                     0             0   \n",
       "4  2018    10000  First Owner   80000                     0             0   \n",
       "5  2015    25000  First Owner   53499                     0             0   \n",
       "\n",
       "   Third Owner  Bike_Model      Place  \n",
       "0            0         102    Gujarat  \n",
       "1            0        4249      Delhi  \n",
       "3            0        1061  Karnataka  \n",
       "4            0          93  Karnataka  \n",
       "5            0         131      Delhi  "
      ]
     },
     "execution_count": 787,
     "metadata": {},
     "output_type": "execute_result"
    }
   ],
   "source": [
    "dataset.head()"
   ]
  },
  {
   "cell_type": "markdown",
   "metadata": {},
   "source": [
    "###### Count frequency encoding for 'Place' column"
   ]
  },
  {
   "cell_type": "code",
   "execution_count": 788,
   "metadata": {},
   "outputs": [
    {
     "data": {
      "text/plain": [
       "{'Delhi': 7345,\n",
       " 'Uttar Pradesh': 6713,\n",
       " 'Maharashtra': 4584,\n",
       " 'Karnataka': 2781,\n",
       " 'Rajasthan': 2306,\n",
       " 'Other': 2054,\n",
       " 'Haryana': 1921,\n",
       " 'Tamil Nadu': 1692,\n",
       " 'Gujarat': 1166,\n",
       " 'Punjab': 833,\n",
       " 'West Bengal': 809,\n",
       " 'Madhya Pradesh': 736,\n",
       " 'Kerala': 654,\n",
       " 'Bihar': 71,\n",
       " 'Orissa': 68,\n",
       " 'Uttaranchal': 60,\n",
       " 'Andhra Pradesh': 58,\n",
       " 'Chandigarh ': 47,\n",
       " 'Assam': 46,\n",
       " 'Jharkhand': 30,\n",
       " 'Chhattisgarh': 22,\n",
       " 'Himachal Pradesh': 16,\n",
       " 'Jammu & Kashmir': 13,\n",
       " 'Tripura': 12,\n",
       " 'Pondicherry ': 9,\n",
       " 'Goa': 6,\n",
       " 'Sikkim': 3,\n",
       " 'Meghalaya': 2,\n",
       " 'Arunachal Pradesh': 1,\n",
       " 'Dadra & Nagar Haveli ': 1}"
      ]
     },
     "execution_count": 788,
     "metadata": {},
     "output_type": "execute_result"
    }
   ],
   "source": [
    "place_dict=dataset['Place'].value_counts().to_dict()\n",
    "place_dict"
   ]
  },
  {
   "cell_type": "code",
   "execution_count": 789,
   "metadata": {},
   "outputs": [
    {
     "data": {
      "text/html": [
       "<div>\n",
       "<style scoped>\n",
       "    .dataframe tbody tr th:only-of-type {\n",
       "        vertical-align: middle;\n",
       "    }\n",
       "\n",
       "    .dataframe tbody tr th {\n",
       "        vertical-align: top;\n",
       "    }\n",
       "\n",
       "    .dataframe thead th {\n",
       "        text-align: right;\n",
       "    }\n",
       "</style>\n",
       "<table border=\"1\" class=\"dataframe\">\n",
       "  <thead>\n",
       "    <tr style=\"text-align: right;\">\n",
       "      <th></th>\n",
       "      <th>Name</th>\n",
       "      <th>Model</th>\n",
       "      <th>Cubic_Capacity</th>\n",
       "      <th>Year</th>\n",
       "      <th>Running</th>\n",
       "      <th>Owner</th>\n",
       "      <th>Price</th>\n",
       "      <th>Fourth Owner Or More</th>\n",
       "      <th>Second Owner</th>\n",
       "      <th>Third Owner</th>\n",
       "      <th>Bike_Model</th>\n",
       "      <th>Place</th>\n",
       "    </tr>\n",
       "  </thead>\n",
       "  <tbody>\n",
       "    <tr>\n",
       "      <th>633</th>\n",
       "      <td>Hyosung GT650R 2013</td>\n",
       "      <td>Hyosung GT650R</td>\n",
       "      <td>650</td>\n",
       "      <td>2013</td>\n",
       "      <td>16150</td>\n",
       "      <td>Second Owner</td>\n",
       "      <td>230000</td>\n",
       "      <td>0</td>\n",
       "      <td>1</td>\n",
       "      <td>0</td>\n",
       "      <td>12</td>\n",
       "      <td>Dadra &amp; Nagar Haveli</td>\n",
       "    </tr>\n",
       "  </tbody>\n",
       "</table>\n",
       "</div>"
      ],
      "text/plain": [
       "                    Name           Model  Cubic_Capacity  Year  Running  \\\n",
       "633  Hyosung GT650R 2013  Hyosung GT650R             650  2013    16150   \n",
       "\n",
       "            Owner   Price  Fourth Owner Or More  Second Owner  Third Owner  \\\n",
       "633  Second Owner  230000                     0             1            0   \n",
       "\n",
       "     Bike_Model                  Place  \n",
       "633          12  Dadra & Nagar Haveli   "
      ]
     },
     "execution_count": 789,
     "metadata": {},
     "output_type": "execute_result"
    }
   ],
   "source": [
    "dataset[dataset['Place'] == 'Dadra & Nagar Haveli ']"
   ]
  },
  {
   "cell_type": "code",
   "execution_count": 790,
   "metadata": {},
   "outputs": [],
   "source": [
    "dataset.drop(index=[633],inplace=True)"
   ]
  },
  {
   "cell_type": "code",
   "execution_count": 791,
   "metadata": {},
   "outputs": [],
   "source": [
    "dataset=dataset.reset_index(drop=True)"
   ]
  },
  {
   "cell_type": "code",
   "execution_count": 792,
   "metadata": {},
   "outputs": [],
   "source": [
    "dataset['Location']=dataset['Place'].map(place_dict)"
   ]
  },
  {
   "cell_type": "code",
   "execution_count": 793,
   "metadata": {},
   "outputs": [
    {
     "data": {
      "text/html": [
       "<div>\n",
       "<style scoped>\n",
       "    .dataframe tbody tr th:only-of-type {\n",
       "        vertical-align: middle;\n",
       "    }\n",
       "\n",
       "    .dataframe tbody tr th {\n",
       "        vertical-align: top;\n",
       "    }\n",
       "\n",
       "    .dataframe thead th {\n",
       "        text-align: right;\n",
       "    }\n",
       "</style>\n",
       "<table border=\"1\" class=\"dataframe\">\n",
       "  <thead>\n",
       "    <tr style=\"text-align: right;\">\n",
       "      <th></th>\n",
       "      <th>Name</th>\n",
       "      <th>Model</th>\n",
       "      <th>Cubic_Capacity</th>\n",
       "      <th>Year</th>\n",
       "      <th>Running</th>\n",
       "      <th>Owner</th>\n",
       "      <th>Price</th>\n",
       "      <th>Fourth Owner Or More</th>\n",
       "      <th>Second Owner</th>\n",
       "      <th>Third Owner</th>\n",
       "      <th>Bike_Model</th>\n",
       "      <th>Place</th>\n",
       "      <th>Location</th>\n",
       "    </tr>\n",
       "  </thead>\n",
       "  <tbody>\n",
       "    <tr>\n",
       "      <th>0</th>\n",
       "      <td>TVS Star City Plus Dual Tone 110cc 2018</td>\n",
       "      <td>TVS Star</td>\n",
       "      <td>110</td>\n",
       "      <td>2018</td>\n",
       "      <td>17654</td>\n",
       "      <td>First Owner</td>\n",
       "      <td>35000</td>\n",
       "      <td>0</td>\n",
       "      <td>0</td>\n",
       "      <td>0</td>\n",
       "      <td>102</td>\n",
       "      <td>Gujarat</td>\n",
       "      <td>1166</td>\n",
       "    </tr>\n",
       "    <tr>\n",
       "      <th>1</th>\n",
       "      <td>Royal Enfield Classic 350cc 2017</td>\n",
       "      <td>Royal Enfield</td>\n",
       "      <td>350</td>\n",
       "      <td>2017</td>\n",
       "      <td>11000</td>\n",
       "      <td>First Owner</td>\n",
       "      <td>119900</td>\n",
       "      <td>0</td>\n",
       "      <td>0</td>\n",
       "      <td>0</td>\n",
       "      <td>4249</td>\n",
       "      <td>Delhi</td>\n",
       "      <td>7345</td>\n",
       "    </tr>\n",
       "    <tr>\n",
       "      <th>2</th>\n",
       "      <td>TVS Apache RTR 180cc 2017</td>\n",
       "      <td>TVS Apache</td>\n",
       "      <td>180</td>\n",
       "      <td>2017</td>\n",
       "      <td>16329</td>\n",
       "      <td>First Owner</td>\n",
       "      <td>65000</td>\n",
       "      <td>0</td>\n",
       "      <td>0</td>\n",
       "      <td>0</td>\n",
       "      <td>1061</td>\n",
       "      <td>Karnataka</td>\n",
       "      <td>2781</td>\n",
       "    </tr>\n",
       "    <tr>\n",
       "      <th>3</th>\n",
       "      <td>Yamaha FZ S V 2.0 150cc-Ltd. Edition 2018</td>\n",
       "      <td>Yamaha FZ V 2.0</td>\n",
       "      <td>150</td>\n",
       "      <td>2018</td>\n",
       "      <td>10000</td>\n",
       "      <td>First Owner</td>\n",
       "      <td>80000</td>\n",
       "      <td>0</td>\n",
       "      <td>0</td>\n",
       "      <td>0</td>\n",
       "      <td>93</td>\n",
       "      <td>Karnataka</td>\n",
       "      <td>2781</td>\n",
       "    </tr>\n",
       "    <tr>\n",
       "      <th>4</th>\n",
       "      <td>Yamaha FZs 150cc 2015</td>\n",
       "      <td>Yamaha FZs</td>\n",
       "      <td>150</td>\n",
       "      <td>2015</td>\n",
       "      <td>25000</td>\n",
       "      <td>First Owner</td>\n",
       "      <td>53499</td>\n",
       "      <td>0</td>\n",
       "      <td>0</td>\n",
       "      <td>0</td>\n",
       "      <td>131</td>\n",
       "      <td>Delhi</td>\n",
       "      <td>7345</td>\n",
       "    </tr>\n",
       "  </tbody>\n",
       "</table>\n",
       "</div>"
      ],
      "text/plain": [
       "                                        Name            Model  Cubic_Capacity  \\\n",
       "0    TVS Star City Plus Dual Tone 110cc 2018         TVS Star             110   \n",
       "1           Royal Enfield Classic 350cc 2017    Royal Enfield             350   \n",
       "2                  TVS Apache RTR 180cc 2017       TVS Apache             180   \n",
       "3  Yamaha FZ S V 2.0 150cc-Ltd. Edition 2018  Yamaha FZ V 2.0             150   \n",
       "4                      Yamaha FZs 150cc 2015       Yamaha FZs             150   \n",
       "\n",
       "   Year  Running        Owner   Price  Fourth Owner Or More  Second Owner  \\\n",
       "0  2018    17654  First Owner   35000                     0             0   \n",
       "1  2017    11000  First Owner  119900                     0             0   \n",
       "2  2017    16329  First Owner   65000                     0             0   \n",
       "3  2018    10000  First Owner   80000                     0             0   \n",
       "4  2015    25000  First Owner   53499                     0             0   \n",
       "\n",
       "   Third Owner  Bike_Model      Place  Location  \n",
       "0            0         102    Gujarat      1166  \n",
       "1            0        4249      Delhi      7345  \n",
       "2            0        1061  Karnataka      2781  \n",
       "3            0          93  Karnataka      2781  \n",
       "4            0         131      Delhi      7345  "
      ]
     },
     "execution_count": 793,
     "metadata": {},
     "output_type": "execute_result"
    }
   ],
   "source": [
    "dataset.head()"
   ]
  },
  {
   "cell_type": "markdown",
   "metadata": {},
   "source": [
    "#### Exploratory Data Analysis\n",
    "I have not done any analysis because I will we using all the features in the model. Although one can do to gain some insights\n",
    "I have just checked the correlation.\n"
   ]
  },
  {
   "cell_type": "code",
   "execution_count": 794,
   "metadata": {},
   "outputs": [
    {
     "data": {
      "text/plain": [
       "<matplotlib.axes._subplots.AxesSubplot at 0x1a183017a58>"
      ]
     },
     "execution_count": 794,
     "metadata": {},
     "output_type": "execute_result"
    },
    {
     "data": {
      "image/png": "[encoded data removed]",
      "text/plain": [
       "<Figure size 720x720 with 2 Axes>"
      ]
     },
     "metadata": {
      "needs_background": "light"
     },
     "output_type": "display_data"
    }
   ],
   "source": [
    "plt.figure(figsize=(10,10))\n",
    "sns.heatmap(dataset.corr(), annot=True,cmap='RdYlGn')"
   ]
  },
  {
   "cell_type": "markdown",
   "metadata": {},
   "source": [
    "#### Model Building\n",
    "Making final data frame to provide to the model"
   ]
  },
  {
   "cell_type": "code",
   "execution_count": 795,
   "metadata": {},
   "outputs": [],
   "source": [
    "train_data=dataset.copy()"
   ]
  },
  {
   "cell_type": "code",
   "execution_count": 796,
   "metadata": {},
   "outputs": [],
   "source": [
    "#Dropping all the unnecessary columns\n",
    "train_data.drop(['Name','Model','Owner','Place'],axis=1,inplace=True)"
   ]
  },
  {
   "cell_type": "code",
   "execution_count": 797,
   "metadata": {},
   "outputs": [
    {
     "data": {
      "text/html": [
       "<div>\n",
       "<style scoped>\n",
       "    .dataframe tbody tr th:only-of-type {\n",
       "        vertical-align: middle;\n",
       "    }\n",
       "\n",
       "    .dataframe tbody tr th {\n",
       "        vertical-align: top;\n",
       "    }\n",
       "\n",
       "    .dataframe thead th {\n",
       "        text-align: right;\n",
       "    }\n",
       "</style>\n",
       "<table border=\"1\" class=\"dataframe\">\n",
       "  <thead>\n",
       "    <tr style=\"text-align: right;\">\n",
       "      <th></th>\n",
       "      <th>Cubic_Capacity</th>\n",
       "      <th>Year</th>\n",
       "      <th>Running</th>\n",
       "      <th>Price</th>\n",
       "      <th>Fourth Owner Or More</th>\n",
       "      <th>Second Owner</th>\n",
       "      <th>Third Owner</th>\n",
       "      <th>Bike_Model</th>\n",
       "      <th>Location</th>\n",
       "    </tr>\n",
       "  </thead>\n",
       "  <tbody>\n",
       "    <tr>\n",
       "      <th>0</th>\n",
       "      <td>110</td>\n",
       "      <td>2018</td>\n",
       "      <td>17654</td>\n",
       "      <td>35000</td>\n",
       "      <td>0</td>\n",
       "      <td>0</td>\n",
       "      <td>0</td>\n",
       "      <td>102</td>\n",
       "      <td>1166</td>\n",
       "    </tr>\n",
       "    <tr>\n",
       "      <th>1</th>\n",
       "      <td>350</td>\n",
       "      <td>2017</td>\n",
       "      <td>11000</td>\n",
       "      <td>119900</td>\n",
       "      <td>0</td>\n",
       "      <td>0</td>\n",
       "      <td>0</td>\n",
       "      <td>4249</td>\n",
       "      <td>7345</td>\n",
       "    </tr>\n",
       "    <tr>\n",
       "      <th>2</th>\n",
       "      <td>180</td>\n",
       "      <td>2017</td>\n",
       "      <td>16329</td>\n",
       "      <td>65000</td>\n",
       "      <td>0</td>\n",
       "      <td>0</td>\n",
       "      <td>0</td>\n",
       "      <td>1061</td>\n",
       "      <td>2781</td>\n",
       "    </tr>\n",
       "    <tr>\n",
       "      <th>3</th>\n",
       "      <td>150</td>\n",
       "      <td>2018</td>\n",
       "      <td>10000</td>\n",
       "      <td>80000</td>\n",
       "      <td>0</td>\n",
       "      <td>0</td>\n",
       "      <td>0</td>\n",
       "      <td>93</td>\n",
       "      <td>2781</td>\n",
       "    </tr>\n",
       "    <tr>\n",
       "      <th>4</th>\n",
       "      <td>150</td>\n",
       "      <td>2015</td>\n",
       "      <td>25000</td>\n",
       "      <td>53499</td>\n",
       "      <td>0</td>\n",
       "      <td>0</td>\n",
       "      <td>0</td>\n",
       "      <td>131</td>\n",
       "      <td>7345</td>\n",
       "    </tr>\n",
       "  </tbody>\n",
       "</table>\n",
       "</div>"
      ],
      "text/plain": [
       "   Cubic_Capacity  Year  Running   Price  Fourth Owner Or More  Second Owner  \\\n",
       "0             110  2018    17654   35000                     0             0   \n",
       "1             350  2017    11000  119900                     0             0   \n",
       "2             180  2017    16329   65000                     0             0   \n",
       "3             150  2018    10000   80000                     0             0   \n",
       "4             150  2015    25000   53499                     0             0   \n",
       "\n",
       "   Third Owner  Bike_Model  Location  \n",
       "0            0         102      1166  \n",
       "1            0        4249      7345  \n",
       "2            0        1061      2781  \n",
       "3            0          93      2781  \n",
       "4            0         131      7345  "
      ]
     },
     "execution_count": 797,
     "metadata": {},
     "output_type": "execute_result"
    }
   ],
   "source": [
    "train_data.head()"
   ]
  },
  {
   "cell_type": "code",
   "execution_count": 798,
   "metadata": {},
   "outputs": [],
   "source": [
    "X=train_data.drop('Price',axis=1)\n",
    "y=train_data['Price']"
   ]
  },
  {
   "cell_type": "code",
   "execution_count": 799,
   "metadata": {},
   "outputs": [],
   "source": [
    "X.rename(columns={'Fourth Owner Or More':'Fourth_owner_or_more','Second Owner':'Second_owner','Third Owner':'Third_owner'},inplace=True)"
   ]
  },
  {
   "cell_type": "code",
   "execution_count": 800,
   "metadata": {},
   "outputs": [],
   "source": [
    "#Sorting the index value as it may affect our model\n",
    "X.sort_index(axis=0,inplace=True)\n",
    "y.sort_index(axis=0,inplace=True)"
   ]
  },
  {
   "cell_type": "code",
   "execution_count": 801,
   "metadata": {},
   "outputs": [],
   "source": [
    "X=X[['Cubic_Capacity','Year','Running','Second_owner','Third_owner','Fourth_owner_or_more','Bike_Model','Location']]"
   ]
  },
  {
   "cell_type": "code",
   "execution_count": 802,
   "metadata": {},
   "outputs": [],
   "source": [
    "from sklearn.model_selection import train_test_split"
   ]
  },
  {
   "cell_type": "code",
   "execution_count": 803,
   "metadata": {},
   "outputs": [],
   "source": [
    "#Splitting data into train and test sets \n",
    "X_train,X_test,y_train,y_test=train_test_split(X,y,test_size=0.3,random_state=100)"
   ]
  },
  {
   "cell_type": "code",
   "execution_count": 804,
   "metadata": {},
   "outputs": [
    {
     "data": {
      "text/html": [
       "<div>\n",
       "<style scoped>\n",
       "    .dataframe tbody tr th:only-of-type {\n",
       "        vertical-align: middle;\n",
       "    }\n",
       "\n",
       "    .dataframe tbody tr th {\n",
       "        vertical-align: top;\n",
       "    }\n",
       "\n",
       "    .dataframe thead th {\n",
       "        text-align: right;\n",
       "    }\n",
       "</style>\n",
       "<table border=\"1\" class=\"dataframe\">\n",
       "  <thead>\n",
       "    <tr style=\"text-align: right;\">\n",
       "      <th></th>\n",
       "      <th>Cubic_Capacity</th>\n",
       "      <th>Year</th>\n",
       "      <th>Running</th>\n",
       "      <th>Second_owner</th>\n",
       "      <th>Third_owner</th>\n",
       "      <th>Fourth_owner_or_more</th>\n",
       "      <th>Bike_Model</th>\n",
       "      <th>Location</th>\n",
       "    </tr>\n",
       "  </thead>\n",
       "  <tbody>\n",
       "    <tr>\n",
       "      <th>7285</th>\n",
       "      <td>100</td>\n",
       "      <td>2016</td>\n",
       "      <td>4000</td>\n",
       "      <td>0</td>\n",
       "      <td>0</td>\n",
       "      <td>0</td>\n",
       "      <td>735</td>\n",
       "      <td>833</td>\n",
       "    </tr>\n",
       "    <tr>\n",
       "      <th>33121</th>\n",
       "      <td>220</td>\n",
       "      <td>2016</td>\n",
       "      <td>6600</td>\n",
       "      <td>0</td>\n",
       "      <td>0</td>\n",
       "      <td>0</td>\n",
       "      <td>4857</td>\n",
       "      <td>2054</td>\n",
       "    </tr>\n",
       "    <tr>\n",
       "      <th>7646</th>\n",
       "      <td>350</td>\n",
       "      <td>2015</td>\n",
       "      <td>13452</td>\n",
       "      <td>0</td>\n",
       "      <td>0</td>\n",
       "      <td>0</td>\n",
       "      <td>4249</td>\n",
       "      <td>809</td>\n",
       "    </tr>\n",
       "    <tr>\n",
       "      <th>19432</th>\n",
       "      <td>100</td>\n",
       "      <td>2013</td>\n",
       "      <td>22824</td>\n",
       "      <td>0</td>\n",
       "      <td>0</td>\n",
       "      <td>0</td>\n",
       "      <td>708</td>\n",
       "      <td>1692</td>\n",
       "    </tr>\n",
       "    <tr>\n",
       "      <th>13644</th>\n",
       "      <td>250</td>\n",
       "      <td>2015</td>\n",
       "      <td>10860</td>\n",
       "      <td>0</td>\n",
       "      <td>0</td>\n",
       "      <td>0</td>\n",
       "      <td>646</td>\n",
       "      <td>809</td>\n",
       "    </tr>\n",
       "  </tbody>\n",
       "</table>\n",
       "</div>"
      ],
      "text/plain": [
       "       Cubic_Capacity  Year  Running  Second_owner  Third_owner  \\\n",
       "7285              100  2016     4000             0            0   \n",
       "33121             220  2016     6600             0            0   \n",
       "7646              350  2015    13452             0            0   \n",
       "19432             100  2013    22824             0            0   \n",
       "13644             250  2015    10860             0            0   \n",
       "\n",
       "       Fourth_owner_or_more  Bike_Model  Location  \n",
       "7285                      0         735       833  \n",
       "33121                     0        4857      2054  \n",
       "7646                      0        4249       809  \n",
       "19432                     0         708      1692  \n",
       "13644                     0         646       809  "
      ]
     },
     "execution_count": 804,
     "metadata": {},
     "output_type": "execute_result"
    }
   ],
   "source": [
    "X_train.head()"
   ]
  },
  {
   "cell_type": "code",
   "execution_count": 805,
   "metadata": {},
   "outputs": [
    {
     "data": {
      "text/plain": [
       "7285      34200\n",
       "33121     55005\n",
       "7646      95000\n",
       "19432     18000\n",
       "13644    200000\n",
       "Name: Price, dtype: int64"
      ]
     },
     "execution_count": 805,
     "metadata": {},
     "output_type": "execute_result"
    }
   ],
   "source": [
    "y_train.head()"
   ]
  },
  {
   "cell_type": "code",
   "execution_count": 806,
   "metadata": {},
   "outputs": [
    {
     "name": "stdout",
     "output_type": "stream",
     "text": [
      "(23840, 8) (23840,)\n",
      "(10218, 8) (10218,)\n"
     ]
    }
   ],
   "source": [
    "print(X_train.shape,y_train.shape)\n",
    "print(X_test.shape,y_test.shape)"
   ]
  },
  {
   "cell_type": "code",
   "execution_count": 807,
   "metadata": {},
   "outputs": [],
   "source": [
    "#Initialising the model\n",
    "import xgboost\n",
    "xgb_reg=xgboost.XGBRegressor()"
   ]
  },
  {
   "cell_type": "code",
   "execution_count": 808,
   "metadata": {},
   "outputs": [
    {
     "data": {
      "text/plain": [
       "XGBRegressor(base_score=0.5, booster='gbtree', colsample_bylevel=1,\n",
       "             colsample_bynode=1, colsample_bytree=1, gamma=0, gpu_id=-1,\n",
       "             importance_type='gain', interaction_constraints='',\n",
       "             learning_rate=0.300000012, max_delta_step=0, max_depth=6,\n",
       "             min_child_weight=1, missing=nan, monotone_constraints='()',\n",
       "             n_estimators=100, n_jobs=0, num_parallel_tree=1,\n",
       "             objective='reg:squarederror', random_state=0, reg_alpha=0,\n",
       "             reg_lambda=1, scale_pos_weight=1, subsample=1, tree_method='exact',\n",
       "             validate_parameters=1, verbosity=None)"
      ]
     },
     "execution_count": 808,
     "metadata": {},
     "output_type": "execute_result"
    }
   ],
   "source": [
    "xgb_reg.fit(X_train,y_train)"
   ]
  },
  {
   "cell_type": "code",
   "execution_count": 809,
   "metadata": {},
   "outputs": [
    {
     "data": {
      "text/plain": [
       "0.8680465913056294"
      ]
     },
     "execution_count": 809,
     "metadata": {},
     "output_type": "execute_result"
    }
   ],
   "source": [
    "xgb_reg.score(X_test,y_test)"
   ]
  },
  {
   "cell_type": "code",
   "execution_count": 810,
   "metadata": {},
   "outputs": [],
   "source": [
    "y_pred=xgb_reg.predict(X_test)"
   ]
  },
  {
   "cell_type": "code",
   "execution_count": 811,
   "metadata": {},
   "outputs": [],
   "source": [
    "from sklearn import metrics\n",
    "from sklearn.metrics import mean_absolute_error"
   ]
  },
  {
   "cell_type": "code",
   "execution_count": 812,
   "metadata": {},
   "outputs": [
    {
     "name": "stdout",
     "output_type": "stream",
     "text": [
      "3259.5866716899714\n",
      "0.8680465913056294\n"
     ]
    }
   ],
   "source": [
    "print(mean_absolute_error(y_test,y_pred))\n",
    "print(metrics.r2_score(y_test,y_pred))"
   ]
  },
  {
   "cell_type": "code",
   "execution_count": 813,
   "metadata": {},
   "outputs": [
    {
     "data": {
      "text/plain": [
       "<matplotlib.axes._subplots.AxesSubplot at 0x1a1e8982668>"
      ]
     },
     "execution_count": 813,
     "metadata": {},
     "output_type": "execute_result"
    },
    {
     "data": {
      "image/png": "[encoded data removed]",
      "text/plain": [
       "<Figure size 432x288 with 1 Axes>"
      ]
     },
     "metadata": {
      "needs_background": "light"
     },
     "output_type": "display_data"
    }
   ],
   "source": [
    "sns.kdeplot(y_test-y_pred)"
   ]
  },
  {
   "cell_type": "code",
   "execution_count": 814,
   "metadata": {},
   "outputs": [],
   "source": [
    "#Parameters for hyper-parameter tuning\n",
    "booster=['gbtree','gblinear']\n",
    "base_score=[0.25,0.5,0.75,1]\n",
    "n_estimators=[int (x) for x in np.linspace(start=100, stop=1200, num=12)]\n",
    "max_depth=[int (x) for x in np.linspace(5,10,num = 10)]\n",
    "learning_rate=[0.05,0.1,0.15,0.2]\n",
    "min_child_weight=[1,2,3,4]\n",
    "\n",
    "hyper_params={'n_estimators':n_estimators,'max_depth':max_depth,'learning_rate':learning_rate,\n",
    "             'booster':booster,'base_score':base_score ,'min_child_weight':min_child_weight}\n"
   ]
  },
  {
   "cell_type": "code",
   "execution_count": 815,
   "metadata": {},
   "outputs": [],
   "source": [
    "from sklearn.model_selection import RandomizedSearchCV"
   ]
  },
  {
   "cell_type": "code",
   "execution_count": 816,
   "metadata": {},
   "outputs": [],
   "source": [
    "xgb_random=RandomizedSearchCV(estimator=xgb_reg,param_distributions=hyper_params,cv=5,n_iter=10,\n",
    "                              scoring='neg_mean_absolute_error',verbose=2,return_train_score=True,random_state=100)"
   ]
  },
  {
   "cell_type": "code",
   "execution_count": 817,
   "metadata": {},
   "outputs": [
    {
     "name": "stdout",
     "output_type": "stream",
     "text": [
      "Fitting 5 folds for each of 10 candidates, totalling 50 fits\n",
      "[CV] n_estimators=100, min_child_weight=3, max_depth=8, learning_rate=0.2, booster=gbtree, base_score=0.5 \n"
     ]
    },
    {
     "name": "stderr",
     "output_type": "stream",
     "text": [
      "[Parallel(n_jobs=1)]: Using backend SequentialBackend with 1 concurrent workers.\n"
     ]
    },
    {
     "name": "stdout",
     "output_type": "stream",
     "text": [
      "[CV]  n_estimators=100, min_child_weight=3, max_depth=8, learning_rate=0.2, booster=gbtree, base_score=0.5, total=   1.3s\n",
      "[CV] n_estimators=100, min_child_weight=3, max_depth=8, learning_rate=0.2, booster=gbtree, base_score=0.5 \n"
     ]
    },
    {
     "name": "stderr",
     "output_type": "stream",
     "text": [
      "[Parallel(n_jobs=1)]: Done   1 out of   1 | elapsed:    1.3s remaining:    0.0s\n"
     ]
    },
    {
     "name": "stdout",
     "output_type": "stream",
     "text": [
      "[CV]  n_estimators=100, min_child_weight=3, max_depth=8, learning_rate=0.2, booster=gbtree, base_score=0.5, total=   1.0s\n",
      "[CV] n_estimators=100, min_child_weight=3, max_depth=8, learning_rate=0.2, booster=gbtree, base_score=0.5 \n",
      "[CV]  n_estimators=100, min_child_weight=3, max_depth=8, learning_rate=0.2, booster=gbtree, base_score=0.5, total=   1.0s\n",
      "[CV] n_estimators=100, min_child_weight=3, max_depth=8, learning_rate=0.2, booster=gbtree, base_score=0.5 \n",
      "[CV]  n_estimators=100, min_child_weight=3, max_depth=8, learning_rate=0.2, booster=gbtree, base_score=0.5, total=   1.1s\n",
      "[CV] n_estimators=100, min_child_weight=3, max_depth=8, learning_rate=0.2, booster=gbtree, base_score=0.5 \n",
      "[CV]  n_estimators=100, min_child_weight=3, max_depth=8, learning_rate=0.2, booster=gbtree, base_score=0.5, total=   1.0s\n",
      "[CV] n_estimators=100, min_child_weight=3, max_depth=7, learning_rate=0.15, booster=gblinear, base_score=0.5 \n",
      "[16:01:01] WARNING: C:\\Users\\Administrator\\workspace\\xgboost-win64_release_1.1.0\\src\\learner.cc:480: \n",
      "Parameters: { colsample_bylevel, colsample_bynode, colsample_bytree, gamma, interaction_constraints, max_delta_step, max_depth, min_child_weight, monotone_constraints, num_parallel_tree, subsample, tree_method } might not be used.\n",
      "\n",
      "  This may not be accurate due to some parameters are only used in language bindings but\n",
      "  passed down to XGBoost core.  Or some parameters are not used but slip through this\n",
      "  verification. Please open an issue if you find above cases.\n",
      "\n",
      "\n",
      "[CV]  n_estimators=100, min_child_weight=3, max_depth=7, learning_rate=0.15, booster=gblinear, base_score=0.5, total=   0.1s\n",
      "[CV] n_estimators=100, min_child_weight=3, max_depth=7, learning_rate=0.15, booster=gblinear, base_score=0.5 \n",
      "[16:01:01] WARNING: C:\\Users\\Administrator\\workspace\\xgboost-win64_release_1.1.0\\src\\learner.cc:480: \n",
      "Parameters: { colsample_bylevel, colsample_bynode, colsample_bytree, gamma, interaction_constraints, max_delta_step, max_depth, min_child_weight, monotone_constraints, num_parallel_tree, subsample, tree_method } might not be used.\n",
      "\n",
      "  This may not be accurate due to some parameters are only used in language bindings but\n",
      "  passed down to XGBoost core.  Or some parameters are not used but slip through this\n",
      "  verification. Please open an issue if you find above cases.\n",
      "\n",
      "\n",
      "[CV]  n_estimators=100, min_child_weight=3, max_depth=7, learning_rate=0.15, booster=gblinear, base_score=0.5, total=   0.2s\n",
      "[CV] n_estimators=100, min_child_weight=3, max_depth=7, learning_rate=0.15, booster=gblinear, base_score=0.5 \n",
      "[16:01:02] WARNING: C:\\Users\\Administrator\\workspace\\xgboost-win64_release_1.1.0\\src\\learner.cc:480: \n",
      "Parameters: { colsample_bylevel, colsample_bynode, colsample_bytree, gamma, interaction_constraints, max_delta_step, max_depth, min_child_weight, monotone_constraints, num_parallel_tree, subsample, tree_method } might not be used.\n",
      "\n",
      "  This may not be accurate due to some parameters are only used in language bindings but\n",
      "  passed down to XGBoost core.  Or some parameters are not used but slip through this\n",
      "  verification. Please open an issue if you find above cases.\n",
      "\n",
      "\n",
      "[CV]  n_estimators=100, min_child_weight=3, max_depth=7, learning_rate=0.15, booster=gblinear, base_score=0.5, total=   0.2s\n",
      "[CV] n_estimators=100, min_child_weight=3, max_depth=7, learning_rate=0.15, booster=gblinear, base_score=0.5 \n",
      "[16:01:02] WARNING: C:\\Users\\Administrator\\workspace\\xgboost-win64_release_1.1.0\\src\\learner.cc:480: \n",
      "Parameters: { colsample_bylevel, colsample_bynode, colsample_bytree, gamma, interaction_constraints, max_delta_step, max_depth, min_child_weight, monotone_constraints, num_parallel_tree, subsample, tree_method } might not be used.\n",
      "\n",
      "  This may not be accurate due to some parameters are only used in language bindings but\n",
      "  passed down to XGBoost core.  Or some parameters are not used but slip through this\n",
      "  verification. Please open an issue if you find above cases.\n",
      "\n",
      "\n",
      "[CV]  n_estimators=100, min_child_weight=3, max_depth=7, learning_rate=0.15, booster=gblinear, base_score=0.5, total=   0.1s\n",
      "[CV] n_estimators=100, min_child_weight=3, max_depth=7, learning_rate=0.15, booster=gblinear, base_score=0.5 \n",
      "[16:01:02] WARNING: C:\\Users\\Administrator\\workspace\\xgboost-win64_release_1.1.0\\src\\learner.cc:480: \n",
      "Parameters: { colsample_bylevel, colsample_bynode, colsample_bytree, gamma, interaction_constraints, max_delta_step, max_depth, min_child_weight, monotone_constraints, num_parallel_tree, subsample, tree_method } might not be used.\n",
      "\n",
      "  This may not be accurate due to some parameters are only used in language bindings but\n",
      "  passed down to XGBoost core.  Or some parameters are not used but slip through this\n",
      "  verification. Please open an issue if you find above cases.\n",
      "\n",
      "\n",
      "[CV]  n_estimators=100, min_child_weight=3, max_depth=7, learning_rate=0.15, booster=gblinear, base_score=0.5, total=   0.2s\n",
      "[CV] n_estimators=1200, min_child_weight=3, max_depth=7, learning_rate=0.1, booster=gblinear, base_score=1 \n",
      "[16:01:02] WARNING: C:\\Users\\Administrator\\workspace\\xgboost-win64_release_1.1.0\\src\\learner.cc:480: \n",
      "Parameters: { colsample_bylevel, colsample_bynode, colsample_bytree, gamma, interaction_constraints, max_delta_step, max_depth, min_child_weight, monotone_constraints, num_parallel_tree, subsample, tree_method } might not be used.\n",
      "\n",
      "  This may not be accurate due to some parameters are only used in language bindings but\n",
      "  passed down to XGBoost core.  Or some parameters are not used but slip through this\n",
      "  verification. Please open an issue if you find above cases.\n",
      "\n",
      "\n",
      "[CV]  n_estimators=1200, min_child_weight=3, max_depth=7, learning_rate=0.1, booster=gblinear, base_score=1, total=   1.4s\n",
      "[CV] n_estimators=1200, min_child_weight=3, max_depth=7, learning_rate=0.1, booster=gblinear, base_score=1 \n",
      "[16:01:04] WARNING: C:\\Users\\Administrator\\workspace\\xgboost-win64_release_1.1.0\\src\\learner.cc:480: \n",
      "Parameters: { colsample_bylevel, colsample_bynode, colsample_bytree, gamma, interaction_constraints, max_delta_step, max_depth, min_child_weight, monotone_constraints, num_parallel_tree, subsample, tree_method } might not be used.\n",
      "\n",
      "  This may not be accurate due to some parameters are only used in language bindings but\n",
      "  passed down to XGBoost core.  Or some parameters are not used but slip through this\n",
      "  verification. Please open an issue if you find above cases.\n",
      "\n",
      "\n",
      "[CV]  n_estimators=1200, min_child_weight=3, max_depth=7, learning_rate=0.1, booster=gblinear, base_score=1, total=   1.4s\n",
      "[CV] n_estimators=1200, min_child_weight=3, max_depth=7, learning_rate=0.1, booster=gblinear, base_score=1 \n",
      "[16:01:05] WARNING: C:\\Users\\Administrator\\workspace\\xgboost-win64_release_1.1.0\\src\\learner.cc:480: \n",
      "Parameters: { colsample_bylevel, colsample_bynode, colsample_bytree, gamma, interaction_constraints, max_delta_step, max_depth, min_child_weight, monotone_constraints, num_parallel_tree, subsample, tree_method } might not be used.\n",
      "\n",
      "  This may not be accurate due to some parameters are only used in language bindings but\n",
      "  passed down to XGBoost core.  Or some parameters are not used but slip through this\n",
      "  verification. Please open an issue if you find above cases.\n",
      "\n",
      "\n",
      "[CV]  n_estimators=1200, min_child_weight=3, max_depth=7, learning_rate=0.1, booster=gblinear, base_score=1, total=   1.4s\n",
      "[CV] n_estimators=1200, min_child_weight=3, max_depth=7, learning_rate=0.1, booster=gblinear, base_score=1 \n",
      "[16:01:06] WARNING: C:\\Users\\Administrator\\workspace\\xgboost-win64_release_1.1.0\\src\\learner.cc:480: \n",
      "Parameters: { colsample_bylevel, colsample_bynode, colsample_bytree, gamma, interaction_constraints, max_delta_step, max_depth, min_child_weight, monotone_constraints, num_parallel_tree, subsample, tree_method } might not be used.\n",
      "\n",
      "  This may not be accurate due to some parameters are only used in language bindings but\n",
      "  passed down to XGBoost core.  Or some parameters are not used but slip through this\n",
      "  verification. Please open an issue if you find above cases.\n",
      "\n",
      "\n",
      "[CV]  n_estimators=1200, min_child_weight=3, max_depth=7, learning_rate=0.1, booster=gblinear, base_score=1, total=   1.5s\n",
      "[CV] n_estimators=1200, min_child_weight=3, max_depth=7, learning_rate=0.1, booster=gblinear, base_score=1 \n",
      "[16:01:08] WARNING: C:\\Users\\Administrator\\workspace\\xgboost-win64_release_1.1.0\\src\\learner.cc:480: \n",
      "Parameters: { colsample_bylevel, colsample_bynode, colsample_bytree, gamma, interaction_constraints, max_delta_step, max_depth, min_child_weight, monotone_constraints, num_parallel_tree, subsample, tree_method } might not be used.\n",
      "\n",
      "  This may not be accurate due to some parameters are only used in language bindings but\n",
      "  passed down to XGBoost core.  Or some parameters are not used but slip through this\n",
      "  verification. Please open an issue if you find above cases.\n",
      "\n",
      "\n"
     ]
    },
    {
     "name": "stdout",
     "output_type": "stream",
     "text": [
      "[CV]  n_estimators=1200, min_child_weight=3, max_depth=7, learning_rate=0.1, booster=gblinear, base_score=1, total=   1.4s\n",
      "[CV] n_estimators=1200, min_child_weight=2, max_depth=8, learning_rate=0.05, booster=gbtree, base_score=0.75 \n",
      "[CV]  n_estimators=1200, min_child_weight=2, max_depth=8, learning_rate=0.05, booster=gbtree, base_score=0.75, total=  12.8s\n",
      "[CV] n_estimators=1200, min_child_weight=2, max_depth=8, learning_rate=0.05, booster=gbtree, base_score=0.75 \n",
      "[CV]  n_estimators=1200, min_child_weight=2, max_depth=8, learning_rate=0.05, booster=gbtree, base_score=0.75, total=  14.3s\n",
      "[CV] n_estimators=1200, min_child_weight=2, max_depth=8, learning_rate=0.05, booster=gbtree, base_score=0.75 \n",
      "[CV]  n_estimators=1200, min_child_weight=2, max_depth=8, learning_rate=0.05, booster=gbtree, base_score=0.75, total=  15.0s\n",
      "[CV] n_estimators=1200, min_child_weight=2, max_depth=8, learning_rate=0.05, booster=gbtree, base_score=0.75 \n",
      "[CV]  n_estimators=1200, min_child_weight=2, max_depth=8, learning_rate=0.05, booster=gbtree, base_score=0.75, total=  14.0s\n",
      "[CV] n_estimators=1200, min_child_weight=2, max_depth=8, learning_rate=0.05, booster=gbtree, base_score=0.75 \n",
      "[CV]  n_estimators=1200, min_child_weight=2, max_depth=8, learning_rate=0.05, booster=gbtree, base_score=0.75, total=  14.2s\n",
      "[CV] n_estimators=1200, min_child_weight=2, max_depth=6, learning_rate=0.1, booster=gbtree, base_score=1 \n",
      "[CV]  n_estimators=1200, min_child_weight=2, max_depth=6, learning_rate=0.1, booster=gbtree, base_score=1, total=  10.5s\n",
      "[CV] n_estimators=1200, min_child_weight=2, max_depth=6, learning_rate=0.1, booster=gbtree, base_score=1 \n",
      "[CV]  n_estimators=1200, min_child_weight=2, max_depth=6, learning_rate=0.1, booster=gbtree, base_score=1, total=  10.7s\n",
      "[CV] n_estimators=1200, min_child_weight=2, max_depth=6, learning_rate=0.1, booster=gbtree, base_score=1 \n",
      "[CV]  n_estimators=1200, min_child_weight=2, max_depth=6, learning_rate=0.1, booster=gbtree, base_score=1, total=  11.1s\n",
      "[CV] n_estimators=1200, min_child_weight=2, max_depth=6, learning_rate=0.1, booster=gbtree, base_score=1 \n",
      "[CV]  n_estimators=1200, min_child_weight=2, max_depth=6, learning_rate=0.1, booster=gbtree, base_score=1, total=  11.0s\n",
      "[CV] n_estimators=1200, min_child_weight=2, max_depth=6, learning_rate=0.1, booster=gbtree, base_score=1 \n",
      "[CV]  n_estimators=1200, min_child_weight=2, max_depth=6, learning_rate=0.1, booster=gbtree, base_score=1, total=  10.9s\n",
      "[CV] n_estimators=800, min_child_weight=3, max_depth=5, learning_rate=0.05, booster=gbtree, base_score=0.25 \n",
      "[CV]  n_estimators=800, min_child_weight=3, max_depth=5, learning_rate=0.05, booster=gbtree, base_score=0.25, total=   6.1s\n",
      "[CV] n_estimators=800, min_child_weight=3, max_depth=5, learning_rate=0.05, booster=gbtree, base_score=0.25 \n",
      "[CV]  n_estimators=800, min_child_weight=3, max_depth=5, learning_rate=0.05, booster=gbtree, base_score=0.25, total=   6.0s\n",
      "[CV] n_estimators=800, min_child_weight=3, max_depth=5, learning_rate=0.05, booster=gbtree, base_score=0.25 \n",
      "[CV]  n_estimators=800, min_child_weight=3, max_depth=5, learning_rate=0.05, booster=gbtree, base_score=0.25, total=   6.5s\n",
      "[CV] n_estimators=800, min_child_weight=3, max_depth=5, learning_rate=0.05, booster=gbtree, base_score=0.25 \n",
      "[CV]  n_estimators=800, min_child_weight=3, max_depth=5, learning_rate=0.05, booster=gbtree, base_score=0.25, total=   6.1s\n",
      "[CV] n_estimators=800, min_child_weight=3, max_depth=5, learning_rate=0.05, booster=gbtree, base_score=0.25 \n",
      "[CV]  n_estimators=800, min_child_weight=3, max_depth=5, learning_rate=0.05, booster=gbtree, base_score=0.25, total=   6.5s\n",
      "[CV] n_estimators=1100, min_child_weight=1, max_depth=8, learning_rate=0.1, booster=gblinear, base_score=1 \n",
      "[16:03:55] WARNING: C:\\Users\\Administrator\\workspace\\xgboost-win64_release_1.1.0\\src\\learner.cc:480: \n",
      "Parameters: { colsample_bylevel, colsample_bynode, colsample_bytree, gamma, interaction_constraints, max_delta_step, max_depth, min_child_weight, monotone_constraints, num_parallel_tree, subsample, tree_method } might not be used.\n",
      "\n",
      "  This may not be accurate due to some parameters are only used in language bindings but\n",
      "  passed down to XGBoost core.  Or some parameters are not used but slip through this\n",
      "  verification. Please open an issue if you find above cases.\n",
      "\n",
      "\n",
      "[CV]  n_estimators=1100, min_child_weight=1, max_depth=8, learning_rate=0.1, booster=gblinear, base_score=1, total=   1.6s\n",
      "[CV] n_estimators=1100, min_child_weight=1, max_depth=8, learning_rate=0.1, booster=gblinear, base_score=1 \n",
      "[16:03:57] WARNING: C:\\Users\\Administrator\\workspace\\xgboost-win64_release_1.1.0\\src\\learner.cc:480: \n",
      "Parameters: { colsample_bylevel, colsample_bynode, colsample_bytree, gamma, interaction_constraints, max_delta_step, max_depth, min_child_weight, monotone_constraints, num_parallel_tree, subsample, tree_method } might not be used.\n",
      "\n",
      "  This may not be accurate due to some parameters are only used in language bindings but\n",
      "  passed down to XGBoost core.  Or some parameters are not used but slip through this\n",
      "  verification. Please open an issue if you find above cases.\n",
      "\n",
      "\n",
      "[CV]  n_estimators=1100, min_child_weight=1, max_depth=8, learning_rate=0.1, booster=gblinear, base_score=1, total=   1.6s\n",
      "[CV] n_estimators=1100, min_child_weight=1, max_depth=8, learning_rate=0.1, booster=gblinear, base_score=1 \n",
      "[16:03:58] WARNING: C:\\Users\\Administrator\\workspace\\xgboost-win64_release_1.1.0\\src\\learner.cc:480: \n",
      "Parameters: { colsample_bylevel, colsample_bynode, colsample_bytree, gamma, interaction_constraints, max_delta_step, max_depth, min_child_weight, monotone_constraints, num_parallel_tree, subsample, tree_method } might not be used.\n",
      "\n",
      "  This may not be accurate due to some parameters are only used in language bindings but\n",
      "  passed down to XGBoost core.  Or some parameters are not used but slip through this\n",
      "  verification. Please open an issue if you find above cases.\n",
      "\n",
      "\n",
      "[CV]  n_estimators=1100, min_child_weight=1, max_depth=8, learning_rate=0.1, booster=gblinear, base_score=1, total=   1.6s\n",
      "[CV] n_estimators=1100, min_child_weight=1, max_depth=8, learning_rate=0.1, booster=gblinear, base_score=1 \n",
      "[16:04:00] WARNING: C:\\Users\\Administrator\\workspace\\xgboost-win64_release_1.1.0\\src\\learner.cc:480: \n",
      "Parameters: { colsample_bylevel, colsample_bynode, colsample_bytree, gamma, interaction_constraints, max_delta_step, max_depth, min_child_weight, monotone_constraints, num_parallel_tree, subsample, tree_method } might not be used.\n",
      "\n",
      "  This may not be accurate due to some parameters are only used in language bindings but\n",
      "  passed down to XGBoost core.  Or some parameters are not used but slip through this\n",
      "  verification. Please open an issue if you find above cases.\n",
      "\n",
      "\n",
      "[CV]  n_estimators=1100, min_child_weight=1, max_depth=8, learning_rate=0.1, booster=gblinear, base_score=1, total=   1.6s\n",
      "[CV] n_estimators=1100, min_child_weight=1, max_depth=8, learning_rate=0.1, booster=gblinear, base_score=1 \n",
      "[16:04:02] WARNING: C:\\Users\\Administrator\\workspace\\xgboost-win64_release_1.1.0\\src\\learner.cc:480: \n",
      "Parameters: { colsample_bylevel, colsample_bynode, colsample_bytree, gamma, interaction_constraints, max_delta_step, max_depth, min_child_weight, monotone_constraints, num_parallel_tree, subsample, tree_method } might not be used.\n",
      "\n",
      "  This may not be accurate due to some parameters are only used in language bindings but\n",
      "  passed down to XGBoost core.  Or some parameters are not used but slip through this\n",
      "  verification. Please open an issue if you find above cases.\n",
      "\n",
      "\n",
      "[CV]  n_estimators=1100, min_child_weight=1, max_depth=8, learning_rate=0.1, booster=gblinear, base_score=1, total=   2.0s\n",
      "[CV] n_estimators=300, min_child_weight=2, max_depth=8, learning_rate=0.05, booster=gbtree, base_score=0.25 \n",
      "[CV]  n_estimators=300, min_child_weight=2, max_depth=8, learning_rate=0.05, booster=gbtree, base_score=0.25, total=   3.5s\n",
      "[CV] n_estimators=300, min_child_weight=2, max_depth=8, learning_rate=0.05, booster=gbtree, base_score=0.25 \n",
      "[CV]  n_estimators=300, min_child_weight=2, max_depth=8, learning_rate=0.05, booster=gbtree, base_score=0.25, total=   3.9s\n",
      "[CV] n_estimators=300, min_child_weight=2, max_depth=8, learning_rate=0.05, booster=gbtree, base_score=0.25 \n"
     ]
    },
    {
     "name": "stdout",
     "output_type": "stream",
     "text": [
      "[CV]  n_estimators=300, min_child_weight=2, max_depth=8, learning_rate=0.05, booster=gbtree, base_score=0.25, total=   3.6s\n",
      "[CV] n_estimators=300, min_child_weight=2, max_depth=8, learning_rate=0.05, booster=gbtree, base_score=0.25 \n",
      "[CV]  n_estimators=300, min_child_weight=2, max_depth=8, learning_rate=0.05, booster=gbtree, base_score=0.25, total=   3.7s\n",
      "[CV] n_estimators=300, min_child_weight=2, max_depth=8, learning_rate=0.05, booster=gbtree, base_score=0.25 \n",
      "[CV]  n_estimators=300, min_child_weight=2, max_depth=8, learning_rate=0.05, booster=gbtree, base_score=0.25, total=   3.4s\n",
      "[CV] n_estimators=500, min_child_weight=1, max_depth=8, learning_rate=0.1, booster=gblinear, base_score=1 \n",
      "[16:04:23] WARNING: C:\\Users\\Administrator\\workspace\\xgboost-win64_release_1.1.0\\src\\learner.cc:480: \n",
      "Parameters: { colsample_bylevel, colsample_bynode, colsample_bytree, gamma, interaction_constraints, max_delta_step, max_depth, min_child_weight, monotone_constraints, num_parallel_tree, subsample, tree_method } might not be used.\n",
      "\n",
      "  This may not be accurate due to some parameters are only used in language bindings but\n",
      "  passed down to XGBoost core.  Or some parameters are not used but slip through this\n",
      "  verification. Please open an issue if you find above cases.\n",
      "\n",
      "\n",
      "[CV]  n_estimators=500, min_child_weight=1, max_depth=8, learning_rate=0.1, booster=gblinear, base_score=1, total=   0.8s\n",
      "[CV] n_estimators=500, min_child_weight=1, max_depth=8, learning_rate=0.1, booster=gblinear, base_score=1 \n",
      "[16:04:24] WARNING: C:\\Users\\Administrator\\workspace\\xgboost-win64_release_1.1.0\\src\\learner.cc:480: \n",
      "Parameters: { colsample_bylevel, colsample_bynode, colsample_bytree, gamma, interaction_constraints, max_delta_step, max_depth, min_child_weight, monotone_constraints, num_parallel_tree, subsample, tree_method } might not be used.\n",
      "\n",
      "  This may not be accurate due to some parameters are only used in language bindings but\n",
      "  passed down to XGBoost core.  Or some parameters are not used but slip through this\n",
      "  verification. Please open an issue if you find above cases.\n",
      "\n",
      "\n",
      "[CV]  n_estimators=500, min_child_weight=1, max_depth=8, learning_rate=0.1, booster=gblinear, base_score=1, total=   1.1s\n",
      "[CV] n_estimators=500, min_child_weight=1, max_depth=8, learning_rate=0.1, booster=gblinear, base_score=1 \n",
      "[16:04:25] WARNING: C:\\Users\\Administrator\\workspace\\xgboost-win64_release_1.1.0\\src\\learner.cc:480: \n",
      "Parameters: { colsample_bylevel, colsample_bynode, colsample_bytree, gamma, interaction_constraints, max_delta_step, max_depth, min_child_weight, monotone_constraints, num_parallel_tree, subsample, tree_method } might not be used.\n",
      "\n",
      "  This may not be accurate due to some parameters are only used in language bindings but\n",
      "  passed down to XGBoost core.  Or some parameters are not used but slip through this\n",
      "  verification. Please open an issue if you find above cases.\n",
      "\n",
      "\n",
      "[CV]  n_estimators=500, min_child_weight=1, max_depth=8, learning_rate=0.1, booster=gblinear, base_score=1, total=   0.8s\n",
      "[CV] n_estimators=500, min_child_weight=1, max_depth=8, learning_rate=0.1, booster=gblinear, base_score=1 \n",
      "[16:04:25] WARNING: C:\\Users\\Administrator\\workspace\\xgboost-win64_release_1.1.0\\src\\learner.cc:480: \n",
      "Parameters: { colsample_bylevel, colsample_bynode, colsample_bytree, gamma, interaction_constraints, max_delta_step, max_depth, min_child_weight, monotone_constraints, num_parallel_tree, subsample, tree_method } might not be used.\n",
      "\n",
      "  This may not be accurate due to some parameters are only used in language bindings but\n",
      "  passed down to XGBoost core.  Or some parameters are not used but slip through this\n",
      "  verification. Please open an issue if you find above cases.\n",
      "\n",
      "\n",
      "[CV]  n_estimators=500, min_child_weight=1, max_depth=8, learning_rate=0.1, booster=gblinear, base_score=1, total=   0.7s\n",
      "[CV] n_estimators=500, min_child_weight=1, max_depth=8, learning_rate=0.1, booster=gblinear, base_score=1 \n",
      "[16:04:26] WARNING: C:\\Users\\Administrator\\workspace\\xgboost-win64_release_1.1.0\\src\\learner.cc:480: \n",
      "Parameters: { colsample_bylevel, colsample_bynode, colsample_bytree, gamma, interaction_constraints, max_delta_step, max_depth, min_child_weight, monotone_constraints, num_parallel_tree, subsample, tree_method } might not be used.\n",
      "\n",
      "  This may not be accurate due to some parameters are only used in language bindings but\n",
      "  passed down to XGBoost core.  Or some parameters are not used but slip through this\n",
      "  verification. Please open an issue if you find above cases.\n",
      "\n",
      "\n",
      "[CV]  n_estimators=500, min_child_weight=1, max_depth=8, learning_rate=0.1, booster=gblinear, base_score=1, total=   0.8s\n",
      "[CV] n_estimators=300, min_child_weight=1, max_depth=5, learning_rate=0.1, booster=gblinear, base_score=0.75 \n",
      "[16:04:27] WARNING: C:\\Users\\Administrator\\workspace\\xgboost-win64_release_1.1.0\\src\\learner.cc:480: \n",
      "Parameters: { colsample_bylevel, colsample_bynode, colsample_bytree, gamma, interaction_constraints, max_delta_step, max_depth, min_child_weight, monotone_constraints, num_parallel_tree, subsample, tree_method } might not be used.\n",
      "\n",
      "  This may not be accurate due to some parameters are only used in language bindings but\n",
      "  passed down to XGBoost core.  Or some parameters are not used but slip through this\n",
      "  verification. Please open an issue if you find above cases.\n",
      "\n",
      "\n",
      "[CV]  n_estimators=300, min_child_weight=1, max_depth=5, learning_rate=0.1, booster=gblinear, base_score=0.75, total=   0.4s\n",
      "[CV] n_estimators=300, min_child_weight=1, max_depth=5, learning_rate=0.1, booster=gblinear, base_score=0.75 \n",
      "[16:04:27] WARNING: C:\\Users\\Administrator\\workspace\\xgboost-win64_release_1.1.0\\src\\learner.cc:480: \n",
      "Parameters: { colsample_bylevel, colsample_bynode, colsample_bytree, gamma, interaction_constraints, max_delta_step, max_depth, min_child_weight, monotone_constraints, num_parallel_tree, subsample, tree_method } might not be used.\n",
      "\n",
      "  This may not be accurate due to some parameters are only used in language bindings but\n",
      "  passed down to XGBoost core.  Or some parameters are not used but slip through this\n",
      "  verification. Please open an issue if you find above cases.\n",
      "\n",
      "\n",
      "[CV]  n_estimators=300, min_child_weight=1, max_depth=5, learning_rate=0.1, booster=gblinear, base_score=0.75, total=   0.5s\n",
      "[CV] n_estimators=300, min_child_weight=1, max_depth=5, learning_rate=0.1, booster=gblinear, base_score=0.75 \n",
      "[16:04:28] WARNING: C:\\Users\\Administrator\\workspace\\xgboost-win64_release_1.1.0\\src\\learner.cc:480: \n",
      "Parameters: { colsample_bylevel, colsample_bynode, colsample_bytree, gamma, interaction_constraints, max_delta_step, max_depth, min_child_weight, monotone_constraints, num_parallel_tree, subsample, tree_method } might not be used.\n",
      "\n",
      "  This may not be accurate due to some parameters are only used in language bindings but\n",
      "  passed down to XGBoost core.  Or some parameters are not used but slip through this\n",
      "  verification. Please open an issue if you find above cases.\n",
      "\n",
      "\n",
      "[CV]  n_estimators=300, min_child_weight=1, max_depth=5, learning_rate=0.1, booster=gblinear, base_score=0.75, total=   0.4s\n",
      "[CV] n_estimators=300, min_child_weight=1, max_depth=5, learning_rate=0.1, booster=gblinear, base_score=0.75 \n",
      "[16:04:28] WARNING: C:\\Users\\Administrator\\workspace\\xgboost-win64_release_1.1.0\\src\\learner.cc:480: \n",
      "Parameters: { colsample_bylevel, colsample_bynode, colsample_bytree, gamma, interaction_constraints, max_delta_step, max_depth, min_child_weight, monotone_constraints, num_parallel_tree, subsample, tree_method } might not be used.\n",
      "\n",
      "  This may not be accurate due to some parameters are only used in language bindings but\n",
      "  passed down to XGBoost core.  Or some parameters are not used but slip through this\n",
      "  verification. Please open an issue if you find above cases.\n",
      "\n",
      "\n",
      "[CV]  n_estimators=300, min_child_weight=1, max_depth=5, learning_rate=0.1, booster=gblinear, base_score=0.75, total=   0.6s\n",
      "[CV] n_estimators=300, min_child_weight=1, max_depth=5, learning_rate=0.1, booster=gblinear, base_score=0.75 \n",
      "[16:04:29] WARNING: C:\\Users\\Administrator\\workspace\\xgboost-win64_release_1.1.0\\src\\learner.cc:480: \n",
      "Parameters: { colsample_bylevel, colsample_bynode, colsample_bytree, gamma, interaction_constraints, max_delta_step, max_depth, min_child_weight, monotone_constraints, num_parallel_tree, subsample, tree_method } might not be used.\n",
      "\n",
      "  This may not be accurate due to some parameters are only used in language bindings but\n",
      "  passed down to XGBoost core.  Or some parameters are not used but slip through this\n",
      "  verification. Please open an issue if you find above cases.\n",
      "\n",
      "\n"
     ]
    },
    {
     "name": "stdout",
     "output_type": "stream",
     "text": [
      "[CV]  n_estimators=300, min_child_weight=1, max_depth=5, learning_rate=0.1, booster=gblinear, base_score=0.75, total=   0.4s\n"
     ]
    },
    {
     "name": "stderr",
     "output_type": "stream",
     "text": [
      "[Parallel(n_jobs=1)]: Done  50 out of  50 | elapsed:  3.6min finished\n"
     ]
    },
    {
     "data": {
      "text/plain": [
       "RandomizedSearchCV(cv=5, error_score='raise-deprecating',\n",
       "                   estimator=XGBRegressor(base_score=0.5, booster='gbtree',\n",
       "                                          colsample_bylevel=1,\n",
       "                                          colsample_bynode=1,\n",
       "                                          colsample_bytree=1, gamma=0,\n",
       "                                          gpu_id=-1, importance_type='gain',\n",
       "                                          interaction_constraints='',\n",
       "                                          learning_rate=0.300000012,\n",
       "                                          max_delta_step=0, max_depth=6,\n",
       "                                          min_child_weight=1, missing=nan,\n",
       "                                          monotone_constraints='()',\n",
       "                                          n...\n",
       "                   param_distributions={'base_score': [0.25, 0.5, 0.75, 1],\n",
       "                                        'booster': ['gbtree', 'gblinear'],\n",
       "                                        'learning_rate': [0.05, 0.1, 0.15, 0.2],\n",
       "                                        'max_depth': [5, 5, 6, 6, 7, 7, 8, 8, 9,\n",
       "                                                      10],\n",
       "                                        'min_child_weight': [1, 2, 3, 4],\n",
       "                                        'n_estimators': [100, 200, 300, 400,\n",
       "                                                         500, 600, 700, 800,\n",
       "                                                         900, 1000, 1100,\n",
       "                                                         1200]},\n",
       "                   pre_dispatch='2*n_jobs', random_state=100, refit=True,\n",
       "                   return_train_score=True, scoring='neg_mean_absolute_error',\n",
       "                   verbose=2)"
      ]
     },
     "execution_count": 817,
     "metadata": {},
     "output_type": "execute_result"
    }
   ],
   "source": [
    "xgb_random.fit(X_train,y_train)"
   ]
  },
  {
   "cell_type": "code",
   "execution_count": 818,
   "metadata": {},
   "outputs": [
    {
     "data": {
      "text/plain": [
       "{'n_estimators': 1200,\n",
       " 'min_child_weight': 2,\n",
       " 'max_depth': 8,\n",
       " 'learning_rate': 0.05,\n",
       " 'booster': 'gbtree',\n",
       " 'base_score': 0.75}"
      ]
     },
     "execution_count": 818,
     "metadata": {},
     "output_type": "execute_result"
    }
   ],
   "source": [
    "#Checking the best parameters\n",
    "xgb_random.best_params_"
   ]
  },
  {
   "cell_type": "code",
   "execution_count": 819,
   "metadata": {},
   "outputs": [],
   "source": [
    "#Initialising a new model with best parameters\n",
    "model=xgboost.XGBRegressor(n_estimators=1200,min_child_weight=2,max_depth=8,learning_rate=0.05,booster='gbtree',base_score=0.75)"
   ]
  },
  {
   "cell_type": "code",
   "execution_count": 820,
   "metadata": {},
   "outputs": [
    {
     "data": {
      "text/plain": [
       "XGBRegressor(base_score=0.75, booster='gbtree', colsample_bylevel=1,\n",
       "             colsample_bynode=1, colsample_bytree=1, gamma=0, gpu_id=-1,\n",
       "             importance_type='gain', interaction_constraints='',\n",
       "             learning_rate=0.05, max_delta_step=0, max_depth=8,\n",
       "             min_child_weight=2, missing=nan, monotone_constraints='()',\n",
       "             n_estimators=1200, n_jobs=0, num_parallel_tree=1,\n",
       "             objective='reg:squarederror', random_state=0, reg_alpha=0,\n",
       "             reg_lambda=1, scale_pos_weight=1, subsample=1, tree_method='exact',\n",
       "             validate_parameters=1, verbosity=None)"
      ]
     },
     "execution_count": 820,
     "metadata": {},
     "output_type": "execute_result"
    }
   ],
   "source": [
    "model.fit(X_train,y_train)"
   ]
  },
  {
   "cell_type": "code",
   "execution_count": 821,
   "metadata": {},
   "outputs": [
    {
     "data": {
      "text/plain": [
       "0.9234353146059877"
      ]
     },
     "execution_count": 821,
     "metadata": {},
     "output_type": "execute_result"
    }
   ],
   "source": [
    "model.score(X_test,y_test)"
   ]
  },
  {
   "cell_type": "code",
   "execution_count": 823,
   "metadata": {},
   "outputs": [
    {
     "name": "stdout",
     "output_type": "stream",
     "text": [
      "3002.5588227094886\n",
      "0.9234353146059877\n"
     ]
    }
   ],
   "source": [
    "prediction=xgb_random.predict(X_test)\n",
    "print(mean_absolute_error(y_test,prediction))\n",
    "print(metrics.r2_score(y_test,prediction))"
   ]
  },
  {
   "cell_type": "code",
   "execution_count": 824,
   "metadata": {},
   "outputs": [
    {
     "data": {
      "text/plain": [
       "<matplotlib.axes._subplots.AxesSubplot at 0x1a1e89904e0>"
      ]
     },
     "execution_count": 824,
     "metadata": {},
     "output_type": "execute_result"
    },
    {
     "data": {
      "image/png": "[encoded data removed]",
      "text/plain": [
       "<Figure size 432x288 with 1 Axes>"
      ]
     },
     "metadata": {
      "needs_background": "light"
     },
     "output_type": "display_data"
    }
   ],
   "source": [
    "sns.kdeplot(y_test-prediction)"
   ]
  },
  {
   "cell_type": "markdown",
   "metadata": {},
   "source": [
    "###### Now in order to improve the performance of the model I will be doing RandomizeSearchCV to get the best parameters for RandomForestRegressor"
   ]
  },
  {
   "cell_type": "markdown",
   "metadata": {},
   "source": [
    "### Saving model"
   ]
  },
  {
   "cell_type": "code",
   "execution_count": 825,
   "metadata": {},
   "outputs": [],
   "source": [
    "import pickle"
   ]
  },
  {
   "cell_type": "code",
   "execution_count": 828,
   "metadata": {},
   "outputs": [],
   "source": [
    "#Creating a file\n",
    "file=open('bike_price.pkl','wb')\n",
    "\n",
    "#Dump model to the file\n",
    "pickle.dump(model,file)"
   ]
  },
  {
   "cell_type": "code",
   "execution_count": 829,
   "metadata": {},
   "outputs": [],
   "source": [
    "final_model=pickle.load(open('bike_price.pkl','rb'))"
   ]
  },
  {
   "cell_type": "code",
   "execution_count": 833,
   "metadata": {},
   "outputs": [
    {
     "data": {
      "text/plain": [
       "array([33269.953], dtype=float32)"
      ]
     },
     "execution_count": 833,
     "metadata": {},
     "output_type": "execute_result"
    }
   ],
   "source": [
    "#NOTE: The XGBoost Regressor does not take input in the form of list.\n",
    "#So we need to convert the input data either into DMatrix or pandas dataframe.\n",
    "input_variables = pd.DataFrame([[150,2015,15000,0,1,0,176,7345]],\n",
    "        columns=['Cubic_Capacity','Year','Running','Second_owner','Third_owner','Fourth_owner_or_more','Bike_Model','Location'],\n",
    "        dtype=float)\n",
    "my_prediction=final_model.predict(input_variables)\n",
    "my_prediction\n",
    "                        "
   ]
  },
  {
   "cell_type": "code",
   "execution_count": 834,
   "metadata": {},
   "outputs": [
    {
     "data": {
      "text/plain": [
       "0.9234353146059877"
      ]
     },
     "execution_count": 834,
     "metadata": {},
     "output_type": "execute_result"
    }
   ],
   "source": [
    "final_model.score(X_test,y_test)"
   ]
  }
 ],
 "metadata": {
  "kernelspec": {
   "display_name": "Python 3",
   "language": "python",
   "name": "python3"
  },
  "language_info": {
   "codemirror_mode": {
    "name": "ipython",
    "version": 3
   },
   "file_extension": ".py",
   "mimetype": "text/x-python",
   "name": "python",
   "nbconvert_exporter": "python",
   "pygments_lexer": "ipython3",
   "version": "3.7.3"
  }
 },
 "nbformat": 4,
 "nbformat_minor": 2
}
