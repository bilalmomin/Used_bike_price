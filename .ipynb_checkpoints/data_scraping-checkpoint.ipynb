{
 "cells": [
  {
   "cell_type": "markdown",
   "metadata": {},
   "source": [
    "# Data Collection \n",
    "The data is scraped from https://droom.in/"
   ]
  },
  {
   "cell_type": "code",
   "execution_count": 6,
   "metadata": {},
   "outputs": [],
   "source": [
    "#Importing modules required for scraping\n",
    "from bs4 import BeautifulSoup\n",
    "import requests"
   ]
  },
  {
   "cell_type": "markdown",
   "metadata": {},
   "source": [
    "## Description\n",
    "Here I have created empty lists with the name of the required data and then appended the data to the lists respectively.\n",
    "This can be done in another way i.e. using a file writer.\n",
    "\n",
    "The page contains \"Load More\" button therefore I have used session to scrape through all the pages.\n",
    "\n",
    "Range in the for loop defines the number pages we want to scrape i.e. page 1 to page 1725.\n",
    "Calculation behind 1725 is 34530/20.\n",
    "Where 34530 is the total number of search results and 20 is the number of results on each link."
   ]
  },
  {
   "cell_type": "code",
   "execution_count": 65,
   "metadata": {},
   "outputs": [],
   "source": [
    "model_name=[]\n",
    "price=[]\n",
    "location=[]\n",
    "distance=[]\n",
    "owner=[]"
   ]
  },
  {
   "cell_type": "code",
   "execution_count": 66,
   "metadata": {},
   "outputs": [],
   "source": [
    "session = requests.session()\n",
    "header = {\n",
    "    \"user-agent\": \"Mozilla/5.0 (Windows NT 10.0; Win64; x64) AppleWebKit/537.36 (KHTML, like Gecko) Chrome/84.0.4147.105 Safari/537.36 Edg/84.0.522.50\",\n",
    "    \"referer\": \"https://droom.in/bikes/used\",\n",
    "    \"authority\": \"droom.in\",\n",
    "    \"method\": \"GET\"\n",
    "\n",
    "}\n",
    "\n",
    "for i in range (1,1726):\n",
    "    \n",
    "    source=session.get('https://droom.in/bikes/used?page={}&tab=grid&bucket=bike&category=Motorcycle%2FBike&condition=used'.format(i),headers=header)\n",
    "    soup=BeautifulSoup(source.text,'lxml')\n",
    "\n",
    "    for j in soup.find_all('div',class_='details'):\n",
    "        model_name.append(j.find('h4',class_='heading')['title'])\n",
    "\n",
    "\n",
    "        price.append(j.find('div',class_='price').text.strip())\n",
    "\n",
    "\n",
    "        location.append(j.find('i',class_='ico ico-location-bordered').find_next_sibling().text)\n",
    "\n",
    "\n",
    "        distance.append(j.find('i',class_='ico ico-km-driven').find_next_sibling().text)\n",
    "\n",
    "\n",
    "        owner.append(j.find('i',class_='ico ico-user-bordered').find_next_sibling().text)\n",
    "        \n",
    "        \n",
    "    \n",
    "\n",
    "    "
   ]
  },
  {
   "cell_type": "code",
   "execution_count": 68,
   "metadata": {},
   "outputs": [
    {
     "name": "stdout",
     "output_type": "stream",
     "text": [
      "34500\n",
      "34500\n",
      "34500\n",
      "34500\n",
      "34500\n"
     ]
    }
   ],
   "source": [
    "#Checking if any data is missing\n",
    "print(len(model_name))\n",
    "print(len(price))\n",
    "print(len(location))\n",
    "print(len(distance))\n",
    "print(len(owner))"
   ]
  },
  {
   "cell_type": "code",
   "execution_count": 70,
   "metadata": {},
   "outputs": [],
   "source": [
    "#Creating dictionary to convert the list data in pandas dataframe.\n",
    "dict_={'Name': model_name,'Price':price, 'Location':location, 'Running':distance, 'Owner':owner}"
   ]
  },
  {
   "cell_type": "code",
   "execution_count": 71,
   "metadata": {},
   "outputs": [],
   "source": [
    "import pandas as pd"
   ]
  },
  {
   "cell_type": "code",
   "execution_count": 72,
   "metadata": {},
   "outputs": [],
   "source": [
    "data=pd.DataFrame(dict_)"
   ]
  },
  {
   "cell_type": "code",
   "execution_count": 73,
   "metadata": {},
   "outputs": [
    {
     "data": {
      "text/html": [
       "<div>\n",
       "<style scoped>\n",
       "    .dataframe tbody tr th:only-of-type {\n",
       "        vertical-align: middle;\n",
       "    }\n",
       "\n",
       "    .dataframe tbody tr th {\n",
       "        vertical-align: top;\n",
       "    }\n",
       "\n",
       "    .dataframe thead th {\n",
       "        text-align: right;\n",
       "    }\n",
       "</style>\n",
       "<table border=\"1\" class=\"dataframe\">\n",
       "  <thead>\n",
       "    <tr style=\"text-align: right;\">\n",
       "      <th></th>\n",
       "      <th>Name</th>\n",
       "      <th>Price</th>\n",
       "      <th>Location</th>\n",
       "      <th>Running</th>\n",
       "      <th>Owner</th>\n",
       "    </tr>\n",
       "  </thead>\n",
       "  <tbody>\n",
       "    <tr>\n",
       "      <th>0</th>\n",
       "      <td>TVS Star City Plus Dual Tone 110cc 2018</td>\n",
       "      <td>35,000</td>\n",
       "      <td>Ahmedabad</td>\n",
       "      <td>17,654 Km</td>\n",
       "      <td>First Owner</td>\n",
       "    </tr>\n",
       "    <tr>\n",
       "      <th>1</th>\n",
       "      <td>Royal Enfield Classic 350cc 2017</td>\n",
       "      <td>1,19,900</td>\n",
       "      <td>Delhi</td>\n",
       "      <td>11,000 Km</td>\n",
       "      <td>First Owner</td>\n",
       "    </tr>\n",
       "    <tr>\n",
       "      <th>2</th>\n",
       "      <td>Triumph Daytona 675R 2013</td>\n",
       "      <td>6,00,000</td>\n",
       "      <td>Delhi</td>\n",
       "      <td>110 Km</td>\n",
       "      <td>First Owner</td>\n",
       "    </tr>\n",
       "    <tr>\n",
       "      <th>3</th>\n",
       "      <td>TVS Apache RTR 180cc 2017</td>\n",
       "      <td>65,000</td>\n",
       "      <td>Bangalore</td>\n",
       "      <td>16,329 Km</td>\n",
       "      <td>First Owner</td>\n",
       "    </tr>\n",
       "    <tr>\n",
       "      <th>4</th>\n",
       "      <td>Yamaha FZ S V 2.0 150cc-Ltd. Edition 2018</td>\n",
       "      <td>80,000</td>\n",
       "      <td>Bangalore</td>\n",
       "      <td>10,000 Km</td>\n",
       "      <td>First Owner</td>\n",
       "    </tr>\n",
       "  </tbody>\n",
       "</table>\n",
       "</div>"
      ],
      "text/plain": [
       "                                        Name     Price   Location    Running  \\\n",
       "0    TVS Star City Plus Dual Tone 110cc 2018    35,000  Ahmedabad  17,654 Km   \n",
       "1           Royal Enfield Classic 350cc 2017  1,19,900      Delhi  11,000 Km   \n",
       "2                  Triumph Daytona 675R 2013  6,00,000      Delhi     110 Km   \n",
       "3                  TVS Apache RTR 180cc 2017    65,000  Bangalore  16,329 Km   \n",
       "4  Yamaha FZ S V 2.0 150cc-Ltd. Edition 2018    80,000  Bangalore  10,000 Km   \n",
       "\n",
       "         Owner  \n",
       "0  First Owner  \n",
       "1  First Owner  \n",
       "2  First Owner  \n",
       "3  First Owner  \n",
       "4  First Owner  "
      ]
     },
     "execution_count": 73,
     "metadata": {},
     "output_type": "execute_result"
    }
   ],
   "source": [
    "data.head()"
   ]
  },
  {
   "cell_type": "code",
   "execution_count": 78,
   "metadata": {},
   "outputs": [],
   "source": [
    "data.to_csv('bike_data.csv')"
   ]
  }
 ],
 "metadata": {
  "kernelspec": {
   "display_name": "Python 3",
   "language": "python",
   "name": "python3"
  },
  "language_info": {
   "codemirror_mode": {
    "name": "ipython",
    "version": 3
   },
   "file_extension": ".py",
   "mimetype": "text/x-python",
   "name": "python",
   "nbconvert_exporter": "python",
   "pygments_lexer": "ipython3",
   "version": "3.7.3"
  }
 },
 "nbformat": 4,
 "nbformat_minor": 2
}
